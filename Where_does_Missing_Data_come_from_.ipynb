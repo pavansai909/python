{
  "cells": [
    {
      "cell_type": "markdown",
      "metadata": {
        "id": "70yLYDMfBHa-"
      },
      "source": [
        "<font color=\"green\">*To start working on this notebook, or any other notebook that we will use in the Moringa Data Science Course, we will need to save our own copy of it. We can do this by clicking File > Save a Copy in Drive. We will then be able to make edits to our own copy of this notebook.*</font>"
      ]
    },
    {
      "cell_type": "markdown",
      "metadata": {
        "id": "UuDxrh9x1MFM"
      },
      "source": [
        "# Where does Missing Data come from?"
      ]
    },
    {
      "cell_type": "markdown",
      "metadata": {
        "id": "ierPEBwC16L9"
      },
      "source": [
        "In the course of your data science career,  it is rare that you will work with raw data that does not have missing values. \n",
        "\n",
        "Missing data can arise from the loading of data, when merging data, data entry or the reindexing process - the process of transforming data from one process to the other. We will see how this can happen in the sections below:"
      ]
    },
    {
      "cell_type": "markdown",
      "metadata": {
        "id": "WuROceEy3suc"
      },
      "source": [
        "## 1.0 Loading Data\n",
        "\n"
      ]
    },
    {
      "cell_type": "markdown",
      "metadata": {
        "id": "Pv3b_3Hf7_ea"
      },
      "source": [
        "When we load data with pandas, we get a dataframe with the NaN value in the cell that had missing data. This is as a result of the read_csv function, which can take the following parameters which relate to reading in missing values: na_values, keep_default_na and na_filter.\n",
        "\n",
        "We will now see how these parameters work."
      ]
    },
    {
      "cell_type": "code",
      "execution_count": 1,
      "metadata": {
        "id": "OOpp4KBbDf6Z"
      },
      "outputs": [
        {
          "data": {
            "text/plain": [
              "['Year',\n",
              " 'Org Name',\n",
              " 'Org Code',\n",
              " 'Spec Ed. Grad Rate - Grad Cohort #',\n",
              " 'Spec Ed. Grad Rate - Grad #',\n",
              " 'Spec Ed. Grad Rate - Grad %',\n",
              " 'Spec Ed. Dropout - Enr #',\n",
              " 'Spec Ed. Dropout - Drop #',\n",
              " 'Spec Ed. Dropout - Drop %',\n",
              " 'LRE Ages 6-21 - Students #',\n",
              " 'LRE Ages 6-21 - Full Incl #',\n",
              " 'LRE Ages 6-21 - Full Incl %',\n",
              " 'LRE Ages 3-5 - Students #',\n",
              " 'LRE Ages 3-5 - Full Incl #',\n",
              " 'LRE Ages 3-5 - Full Incl %',\n",
              " 'Cohort Completion Year',\n",
              " 'Substantial growth of knowledge & skills',\n",
              " 'Survey Period',\n",
              " 'Surv Meet Std #',\n",
              " 'Surv Meet Std %',\n",
              " 'Sch Yr Rev',\n",
              " '# of Students Engaged',\n",
              " 'Dist Rate']"
            ]
          },
          "execution_count": 1,
          "metadata": {},
          "output_type": "execute_result"
        }
      ],
      "source": [
        "# First lets import our dataset that we will use for the examples\n",
        "\n",
        "# Let's import our pandas library \n",
        "import pandas as pd\n",
        "\n",
        "# Let's set the location for our data\n",
        "url = 'http://bit.ly/UniversityDataSet'\n",
        "\n",
        "# We then store this dataset in a dataframe\n",
        "# We us the latin1 encoding because our dataset contains special characters. \n",
        "# An encoding is one specific way of interpreting bytes: It's a look-up table that says, \n",
        "# for example, that a byte with the value 97 stands for 'a'.\n",
        "#\n",
        "df = pd.read_csv(url, encoding = \"latin1\")\n",
        "\n",
        "# then view the columns of this dataframe, this will help us get familiar with the dataset before working on it\n",
        "df.columns.values.tolist()"
      ]
    },
    {
      "cell_type": "code",
      "execution_count": 2,
      "metadata": {
        "id": "dui0YYmPDvs_"
      },
      "outputs": [
        {
          "data": {
            "text/html": [
              "<div>\n",
              "<style scoped>\n",
              "    .dataframe tbody tr th:only-of-type {\n",
              "        vertical-align: middle;\n",
              "    }\n",
              "\n",
              "    .dataframe tbody tr th {\n",
              "        vertical-align: top;\n",
              "    }\n",
              "\n",
              "    .dataframe thead th {\n",
              "        text-align: right;\n",
              "    }\n",
              "</style>\n",
              "<table border=\"1\" class=\"dataframe\">\n",
              "  <thead>\n",
              "    <tr style=\"text-align: right;\">\n",
              "      <th></th>\n",
              "      <th>Year</th>\n",
              "      <th>Org Name</th>\n",
              "      <th>Org Code</th>\n",
              "      <th>Spec Ed. Grad Rate - Grad Cohort #</th>\n",
              "      <th>Spec Ed. Grad Rate - Grad #</th>\n",
              "      <th>Spec Ed. Grad Rate - Grad %</th>\n",
              "      <th>Spec Ed. Dropout - Enr #</th>\n",
              "      <th>Spec Ed. Dropout - Drop #</th>\n",
              "      <th>Spec Ed. Dropout - Drop %</th>\n",
              "      <th>LRE Ages 6-21 - Students #</th>\n",
              "      <th>...</th>\n",
              "      <th>LRE Ages 3-5 - Full Incl #</th>\n",
              "      <th>LRE Ages 3-5 - Full Incl %</th>\n",
              "      <th>Cohort Completion Year</th>\n",
              "      <th>Substantial growth of knowledge &amp; skills</th>\n",
              "      <th>Survey Period</th>\n",
              "      <th>Surv Meet Std #</th>\n",
              "      <th>Surv Meet Std %</th>\n",
              "      <th>Sch Yr Rev</th>\n",
              "      <th># of Students Engaged</th>\n",
              "      <th>Dist Rate</th>\n",
              "    </tr>\n",
              "  </thead>\n",
              "  <tbody>\n",
              "    <tr>\n",
              "      <th>0</th>\n",
              "      <td>2012</td>\n",
              "      <td>Abington</td>\n",
              "      <td>10000</td>\n",
              "      <td>27</td>\n",
              "      <td>17</td>\n",
              "      <td>63%</td>\n",
              "      <td>84</td>\n",
              "      <td>3</td>\n",
              "      <td>3.60%</td>\n",
              "      <td>295.0</td>\n",
              "      <td>...</td>\n",
              "      <td>1</td>\n",
              "      <td>5%</td>\n",
              "      <td>2012-13</td>\n",
              "      <td>-</td>\n",
              "      <td>Spring 2013</td>\n",
              "      <td>NaN</td>\n",
              "      <td>NaN</td>\n",
              "      <td>2010-11</td>\n",
              "      <td>8</td>\n",
              "      <td>100%</td>\n",
              "    </tr>\n",
              "    <tr>\n",
              "      <th>1</th>\n",
              "      <td>2013</td>\n",
              "      <td>Abington</td>\n",
              "      <td>10000</td>\n",
              "      <td>20</td>\n",
              "      <td>16</td>\n",
              "      <td>80%</td>\n",
              "      <td>70</td>\n",
              "      <td>2</td>\n",
              "      <td>2.90%</td>\n",
              "      <td>272.0</td>\n",
              "      <td>...</td>\n",
              "      <td>4</td>\n",
              "      <td>19%</td>\n",
              "      <td>2012-13</td>\n",
              "      <td>-</td>\n",
              "      <td>Spring 2013</td>\n",
              "      <td>11</td>\n",
              "      <td>73.20%</td>\n",
              "      <td>2010-11</td>\n",
              "      <td>8</td>\n",
              "      <td>100%</td>\n",
              "    </tr>\n",
              "    <tr>\n",
              "      <th>2</th>\n",
              "      <td>2012</td>\n",
              "      <td>Acton</td>\n",
              "      <td>20000</td>\n",
              "      <td>NaN</td>\n",
              "      <td>NaN</td>\n",
              "      <td>NaN</td>\n",
              "      <td>NaN</td>\n",
              "      <td>NaN</td>\n",
              "      <td>NaN</td>\n",
              "      <td>337.0</td>\n",
              "      <td>...</td>\n",
              "      <td>6</td>\n",
              "      <td>10.30%</td>\n",
              "      <td>2010-11</td>\n",
              "      <td>86.7</td>\n",
              "      <td>Spring 2011</td>\n",
              "      <td>-</td>\n",
              "      <td>-</td>\n",
              "      <td>2012-13</td>\n",
              "      <td>NR</td>\n",
              "      <td>NR</td>\n",
              "    </tr>\n",
              "    <tr>\n",
              "      <th>3</th>\n",
              "      <td>2013</td>\n",
              "      <td>Acton</td>\n",
              "      <td>20000</td>\n",
              "      <td>NaN</td>\n",
              "      <td>NaN</td>\n",
              "      <td>NaN</td>\n",
              "      <td>0</td>\n",
              "      <td>-</td>\n",
              "      <td>-</td>\n",
              "      <td>335.0</td>\n",
              "      <td>...</td>\n",
              "      <td>16</td>\n",
              "      <td>26.70%</td>\n",
              "      <td>2010-11</td>\n",
              "      <td>86.7</td>\n",
              "      <td>Spring 2011</td>\n",
              "      <td>-</td>\n",
              "      <td>-</td>\n",
              "      <td>2012-13</td>\n",
              "      <td>NR</td>\n",
              "      <td>NR</td>\n",
              "    </tr>\n",
              "    <tr>\n",
              "      <th>4</th>\n",
              "      <td>2012</td>\n",
              "      <td>Acushnet</td>\n",
              "      <td>30000</td>\n",
              "      <td>3</td>\n",
              "      <td>-</td>\n",
              "      <td>-</td>\n",
              "      <td>0</td>\n",
              "      <td>-</td>\n",
              "      <td>-</td>\n",
              "      <td>174.0</td>\n",
              "      <td>...</td>\n",
              "      <td>7</td>\n",
              "      <td>25%</td>\n",
              "      <td>2013-14</td>\n",
              "      <td>-</td>\n",
              "      <td>Spring 2012</td>\n",
              "      <td>-</td>\n",
              "      <td>-</td>\n",
              "      <td>2011-12</td>\n",
              "      <td>NaN</td>\n",
              "      <td></td>\n",
              "    </tr>\n",
              "  </tbody>\n",
              "</table>\n",
              "<p>5 rows × 23 columns</p>\n",
              "</div>"
            ],
            "text/plain": [
              "   Year  Org Name  Org Code Spec Ed. Grad Rate - Grad Cohort #  \\\n",
              "0  2012  Abington     10000                                 27   \n",
              "1  2013  Abington     10000                                 20   \n",
              "2  2012     Acton     20000                                NaN   \n",
              "3  2013     Acton     20000                                NaN   \n",
              "4  2012  Acushnet     30000                                  3   \n",
              "\n",
              "  Spec Ed. Grad Rate - Grad # Spec Ed. Grad Rate - Grad %  \\\n",
              "0                          17                         63%   \n",
              "1                          16                         80%   \n",
              "2                         NaN                         NaN   \n",
              "3                         NaN                         NaN   \n",
              "4                           -                           -   \n",
              "\n",
              "  Spec Ed. Dropout - Enr # Spec Ed. Dropout - Drop #  \\\n",
              "0                       84                         3   \n",
              "1                       70                         2   \n",
              "2                      NaN                       NaN   \n",
              "3                        0                         -   \n",
              "4                        0                         -   \n",
              "\n",
              "  Spec Ed. Dropout - Drop %  LRE Ages 6-21 - Students #  ...  \\\n",
              "0                     3.60%                       295.0  ...   \n",
              "1                     2.90%                       272.0  ...   \n",
              "2                       NaN                       337.0  ...   \n",
              "3                         -                       335.0  ...   \n",
              "4                         -                       174.0  ...   \n",
              "\n",
              "  LRE Ages 3-5 - Full Incl # LRE Ages 3-5 - Full Incl %  \\\n",
              "0                          1                         5%   \n",
              "1                          4                        19%   \n",
              "2                          6                     10.30%   \n",
              "3                         16                     26.70%   \n",
              "4                          7                        25%   \n",
              "\n",
              "  Cohort Completion Year Substantial growth of knowledge & skills  \\\n",
              "0                2012-13                                        -   \n",
              "1                2012-13                                        -   \n",
              "2                2010-11                                     86.7   \n",
              "3                2010-11                                     86.7   \n",
              "4                2013-14                                        -   \n",
              "\n",
              "  Survey Period Surv Meet Std # Surv Meet Std % Sch Yr Rev  \\\n",
              "0   Spring 2013             NaN             NaN    2010-11   \n",
              "1   Spring 2013              11          73.20%    2010-11   \n",
              "2   Spring 2011               -               -    2012-13   \n",
              "3   Spring 2011               -               -    2012-13   \n",
              "4   Spring 2012               -               -    2011-12   \n",
              "\n",
              "  # of Students Engaged Dist Rate  \n",
              "0                     8      100%  \n",
              "1                     8      100%  \n",
              "2                    NR        NR  \n",
              "3                    NR        NR  \n",
              "4                   NaN            \n",
              "\n",
              "[5 rows x 23 columns]"
            ]
          },
          "execution_count": 2,
          "metadata": {},
          "output_type": "execute_result"
        }
      ],
      "source": [
        "# We will then load the first 5 rows of our data and try to understand it more, while noting the missing values in the records, \n",
        "# afterwards learn more about the parameters\n",
        "# \n",
        "df.head()"
      ]
    },
    {
      "cell_type": "markdown",
      "metadata": {
        "id": "KGNkP_ARIns6"
      },
      "source": [
        "**i) na_values**\n",
        "\n",
        "The na_values parameter will allow us to specify additional missing or NaN values. What are NaN values you ask?\n",
        "\n",
        "> *These NaN values are from the python numpy library - Missing values in python are displayed in a few ways - NaN, NAN or nan and are all equivalent.*\n",
        "\n",
        "By default, this parameter is usually never used when reading the file mainly because these default missing values - NaN or nan, are already available. "
      ]
    },
    {
      "cell_type": "code",
      "execution_count": 3,
      "metadata": {
        "id": "eDIBrwJsEOnV"
      },
      "outputs": [
        {
          "name": "stdout",
          "output_type": "stream",
          "text": [
            "   Year  Org Name  Org Code Spec Ed. Grad Rate - Grad Cohort #  \\\n",
            "0  2012  Abington     10000                                 27   \n",
            "1  2013  Abington     10000                                 20   \n",
            "2  2012     Acton     20000                                NaN   \n",
            "3  2013     Acton     20000                                NaN   \n",
            "4  2012  Acushnet     30000                                  3   \n",
            "\n",
            "  Spec Ed. Grad Rate - Grad # Spec Ed. Grad Rate - Grad %  \\\n",
            "0                          17                         63%   \n",
            "1                          16                         80%   \n",
            "2                         NaN                         NaN   \n",
            "3                         NaN                         NaN   \n",
            "4                           -                           -   \n",
            "\n",
            "  Spec Ed. Dropout - Enr # Spec Ed. Dropout - Drop #  \\\n",
            "0                       84                         3   \n",
            "1                       70                         2   \n",
            "2                      NaN                       NaN   \n",
            "3                        0                         -   \n",
            "4                        0                         -   \n",
            "\n",
            "  Spec Ed. Dropout - Drop %  LRE Ages 6-21 - Students #  ...  \\\n",
            "0                     3.60%                       295.0  ...   \n",
            "1                     2.90%                       272.0  ...   \n",
            "2                       NaN                       337.0  ...   \n",
            "3                         -                       335.0  ...   \n",
            "4                         -                       174.0  ...   \n",
            "\n",
            "  LRE Ages 3-5 - Full Incl # LRE Ages 3-5 - Full Incl %  \\\n",
            "0                          1                         5%   \n",
            "1                          4                        19%   \n",
            "2                          6                     10.30%   \n",
            "3                         16                     26.70%   \n",
            "4                          7                        25%   \n",
            "\n",
            "  Cohort Completion Year Substantial growth of knowledge & skills  \\\n",
            "0                2012-13                                        -   \n",
            "1                2012-13                                        -   \n",
            "2                2010-11                                     86.7   \n",
            "3                2010-11                                     86.7   \n",
            "4                2013-14                                        -   \n",
            "\n",
            "  Survey Period Surv Meet Std # Surv Meet Std % Sch Yr Rev  \\\n",
            "0   Spring 2013             NaN             NaN    2010-11   \n",
            "1   Spring 2013              11          73.20%    2010-11   \n",
            "2   Spring 2011               -               -    2012-13   \n",
            "3   Spring 2011               -               -    2012-13   \n",
            "4   Spring 2012               -               -    2011-12   \n",
            "\n",
            "  # of Students Engaged Dist Rate  \n",
            "0                     8      100%  \n",
            "1                     8      100%  \n",
            "2                    NR        NR  \n",
            "3                    NR        NR  \n",
            "4                   NaN            \n",
            "\n",
            "[5 rows x 23 columns]\n"
          ]
        }
      ],
      "source": [
        "# now we load the data with the default values\n",
        "print(pd.read_csv(url, encoding = 'latin1').head())"
      ]
    },
    {
      "cell_type": "markdown",
      "metadata": {
        "id": "auvMdkUnJOkr"
      },
      "source": [
        "**ii) keep_default_na**\n",
        "\n",
        "The second parameter is the `keep_default_na` parameter, which is a bool (boolean). It allows us to specify whether any additional values need to be considered missing. By default this parameter is True, meaning any additional missing values specified with the na_values paramenter will be appended to list of missing values. \n",
        "\n",
        "We can also set `keep_default_na=False` which will mean that we will only use missing values specified in na_values. "
      ]
    },
    {
      "cell_type": "code",
      "execution_count": 4,
      "metadata": {
        "id": "Tqq6E-loKUTf"
      },
      "outputs": [
        {
          "name": "stdout",
          "output_type": "stream",
          "text": [
            "   Year  Org Name  Org Code Spec Ed. Grad Rate - Grad Cohort #  \\\n",
            "0  2012  Abington     10000                                 27   \n",
            "1  2013  Abington     10000                                 20   \n",
            "2  2012     Acton     20000                                      \n",
            "3  2013     Acton     20000                                      \n",
            "4  2012  Acushnet     30000                                  3   \n",
            "\n",
            "  Spec Ed. Grad Rate - Grad # Spec Ed. Grad Rate - Grad %  \\\n",
            "0                          17                         63%   \n",
            "1                          16                         80%   \n",
            "2                                                           \n",
            "3                                                           \n",
            "4                           -                           -   \n",
            "\n",
            "  Spec Ed. Dropout - Enr # Spec Ed. Dropout - Drop #  \\\n",
            "0                       84                         3   \n",
            "1                       70                         2   \n",
            "2                                                      \n",
            "3                        0                         -   \n",
            "4                        0                         -   \n",
            "\n",
            "  Spec Ed. Dropout - Drop % LRE Ages 6-21 - Students #  ...  \\\n",
            "0                     3.60%                        295  ...   \n",
            "1                     2.90%                        272  ...   \n",
            "2                                                  337  ...   \n",
            "3                         -                        335  ...   \n",
            "4                         -                        174  ...   \n",
            "\n",
            "  LRE Ages 3-5 - Full Incl # LRE Ages 3-5 - Full Incl %  \\\n",
            "0                          1                         5%   \n",
            "1                          4                        19%   \n",
            "2                          6                     10.30%   \n",
            "3                         16                     26.70%   \n",
            "4                          7                        25%   \n",
            "\n",
            "  Cohort Completion Year Substantial growth of knowledge & skills  \\\n",
            "0                2012-13                                        -   \n",
            "1                2012-13                                        -   \n",
            "2                2010-11                                     86.7   \n",
            "3                2010-11                                     86.7   \n",
            "4                2013-14                                        -   \n",
            "\n",
            "  Survey Period Surv Meet Std # Surv Meet Std % Sch Yr Rev  \\\n",
            "0   Spring 2013                                    2010-11   \n",
            "1   Spring 2013              11          73.20%    2010-11   \n",
            "2   Spring 2011               -               -    2012-13   \n",
            "3   Spring 2011               -               -    2012-13   \n",
            "4   Spring 2012               -               -    2011-12   \n",
            "\n",
            "  # of Students Engaged Dist Rate  \n",
            "0                     8      100%  \n",
            "1                     8      100%  \n",
            "2                    NR        NR  \n",
            "3                    NR        NR  \n",
            "4                                  \n",
            "\n",
            "[5 rows x 23 columns]\n"
          ]
        }
      ],
      "source": [
        "# Example 2\n",
        "# We then load the data without default missing values \n",
        "# \n",
        "print(pd.read_csv(url, encoding = 'latin1', keep_default_na = False).head())"
      ]
    },
    {
      "cell_type": "code",
      "execution_count": 5,
      "metadata": {
        "id": "gVrB81wOCn1-"
      },
      "outputs": [
        {
          "name": "stdout",
          "output_type": "stream",
          "text": [
            "   Year  Org Name  Org Code Spec Ed. Grad Rate - Grad Cohort #  \\\n",
            "0  2012  Abington     10000                                 27   \n",
            "1  2013  Abington     10000                                 20   \n",
            "2  2012     Acton     20000                                NaN   \n",
            "3  2013     Acton     20000                                NaN   \n",
            "4  2012  Acushnet     30000                                  3   \n",
            "\n",
            "  Spec Ed. Grad Rate - Grad # Spec Ed. Grad Rate - Grad %  \\\n",
            "0                          17                         63%   \n",
            "1                          16                         80%   \n",
            "2                         NaN                         NaN   \n",
            "3                         NaN                         NaN   \n",
            "4                           -                           -   \n",
            "\n",
            "  Spec Ed. Dropout - Enr # Spec Ed. Dropout - Drop #  \\\n",
            "0                       84                         3   \n",
            "1                       70                         2   \n",
            "2                      NaN                       NaN   \n",
            "3                        0                         -   \n",
            "4                        0                         -   \n",
            "\n",
            "  Spec Ed. Dropout - Drop %  LRE Ages 6-21 - Students #  ...  \\\n",
            "0                     3.60%                       295.0  ...   \n",
            "1                     2.90%                       272.0  ...   \n",
            "2                       NaN                       337.0  ...   \n",
            "3                         -                       335.0  ...   \n",
            "4                         -                       174.0  ...   \n",
            "\n",
            "  LRE Ages 3-5 - Full Incl # LRE Ages 3-5 - Full Incl %  \\\n",
            "0                          1                         5%   \n",
            "1                          4                        19%   \n",
            "2                          6                     10.30%   \n",
            "3                         16                     26.70%   \n",
            "4                          7                        25%   \n",
            "\n",
            "  Cohort Completion Year Substantial growth of knowledge & skills  \\\n",
            "0                2012-13                                        -   \n",
            "1                2012-13                                        -   \n",
            "2                2010-11                                     86.7   \n",
            "3                2010-11                                     86.7   \n",
            "4                2013-14                                        -   \n",
            "\n",
            "  Survey Period Surv Meet Std # Surv Meet Std % Sch Yr Rev  \\\n",
            "0   Spring 2013             NaN             NaN    2010-11   \n",
            "1   Spring 2013              11          73.20%    2010-11   \n",
            "2   Spring 2011               -               -    2012-13   \n",
            "3   Spring 2011               -               -    2012-13   \n",
            "4   Spring 2012               -               -    2011-12   \n",
            "\n",
            "  # of Students Engaged Dist Rate  \n",
            "0                     8      100%  \n",
            "1                     8      100%  \n",
            "2                    NR        NR  \n",
            "3                    NR        NR  \n",
            "4                   NaN            \n",
            "\n",
            "[5 rows x 23 columns]\n"
          ]
        }
      ],
      "source": [
        "# Challenge 1: \n",
        "# Using the keep_default_na parameter, load the data with the default missing values below\n",
        "# \n",
        "print(pd.read_csv(url, encoding = 'latin1', keep_default_na = True).head())"
      ]
    },
    {
      "cell_type": "markdown",
      "metadata": {
        "id": "42Sd8SSYJXjv"
      },
      "source": [
        "iii) **na_filter**\n",
        "\n",
        "Our third parameter is the *na_filter parameter,* which is a bool that specifies whether any values will be read as missing. By default the na_filter=True, meaning that missing values will be coded as NaN. If na_filter=False, then nothing will be recorded as missing. We normally use this parameter when we want to set false the na_values and keep_default_na parameter all at the same time as well as when we want to quickly load any data without missing values. \n",
        "\n"
      ]
    },
    {
      "cell_type": "code",
      "execution_count": 6,
      "metadata": {
        "id": "RkJdBrJvCqx9"
      },
      "outputs": [
        {
          "name": "stdout",
          "output_type": "stream",
          "text": [
            "   Year  Org Name  Org Code Spec Ed. Grad Rate - Grad Cohort #  \\\n",
            "0  2012  Abington     10000                                 27   \n",
            "1  2013  Abington     10000                                 20   \n",
            "2  2012     Acton     20000                                NaN   \n",
            "3  2013     Acton     20000                                NaN   \n",
            "4  2012  Acushnet     30000                                  3   \n",
            "\n",
            "  Spec Ed. Grad Rate - Grad # Spec Ed. Grad Rate - Grad %  \\\n",
            "0                          17                         63%   \n",
            "1                          16                         80%   \n",
            "2                         NaN                         NaN   \n",
            "3                         NaN                         NaN   \n",
            "4                           -                           -   \n",
            "\n",
            "  Spec Ed. Dropout - Enr # Spec Ed. Dropout - Drop #  \\\n",
            "0                       84                         3   \n",
            "1                       70                         2   \n",
            "2                      NaN                       NaN   \n",
            "3                        0                         -   \n",
            "4                        0                         -   \n",
            "\n",
            "  Spec Ed. Dropout - Drop %  LRE Ages 6-21 - Students #  ...  \\\n",
            "0                     3.60%                       295.0  ...   \n",
            "1                     2.90%                       272.0  ...   \n",
            "2                       NaN                       337.0  ...   \n",
            "3                         -                       335.0  ...   \n",
            "4                         -                       174.0  ...   \n",
            "\n",
            "  LRE Ages 3-5 - Full Incl # LRE Ages 3-5 - Full Incl %  \\\n",
            "0                          1                         5%   \n",
            "1                          4                        19%   \n",
            "2                          6                     10.30%   \n",
            "3                         16                     26.70%   \n",
            "4                          7                        25%   \n",
            "\n",
            "  Cohort Completion Year Substantial growth of knowledge & skills  \\\n",
            "0                2012-13                                        -   \n",
            "1                2012-13                                        -   \n",
            "2                2010-11                                     86.7   \n",
            "3                2010-11                                     86.7   \n",
            "4                2013-14                                        -   \n",
            "\n",
            "  Survey Period Surv Meet Std # Surv Meet Std % Sch Yr Rev  \\\n",
            "0   Spring 2013             NaN             NaN    2010-11   \n",
            "1   Spring 2013              11          73.20%    2010-11   \n",
            "2   Spring 2011               -               -    2012-13   \n",
            "3   Spring 2011               -               -    2012-13   \n",
            "4   Spring 2012               -               -    2011-12   \n",
            "\n",
            "  # of Students Engaged Dist Rate  \n",
            "0                     8      100%  \n",
            "1                     8      100%  \n",
            "2                    NR        NR  \n",
            "3                    NR        NR  \n",
            "4                   NaN            \n",
            "\n",
            "[5 rows x 23 columns]\n"
          ]
        }
      ],
      "source": [
        "# Example 3\n",
        "# Let's set the na_filter parameter to True\n",
        "# \n",
        "print(pd.read_csv(url, na_filter = True, encoding ='latin1').head())"
      ]
    },
    {
      "cell_type": "code",
      "execution_count": 7,
      "metadata": {
        "id": "YC0qIxQuKVN8"
      },
      "outputs": [
        {
          "name": "stdout",
          "output_type": "stream",
          "text": [
            "   Year  Org Name  Org Code Spec Ed. Grad Rate - Grad Cohort #  \\\n",
            "0  2012  Abington     10000                                 27   \n",
            "1  2013  Abington     10000                                 20   \n",
            "2  2012     Acton     20000                                NaN   \n",
            "3  2013     Acton     20000                                NaN   \n",
            "4  2012  Acushnet     30000                                  3   \n",
            "\n",
            "  Spec Ed. Grad Rate - Grad # Spec Ed. Grad Rate - Grad %  \\\n",
            "0                          17                         63%   \n",
            "1                          16                         80%   \n",
            "2                         NaN                         NaN   \n",
            "3                         NaN                         NaN   \n",
            "4                           -                           -   \n",
            "\n",
            "  Spec Ed. Dropout - Enr # Spec Ed. Dropout - Drop #  \\\n",
            "0                       84                         3   \n",
            "1                       70                         2   \n",
            "2                      NaN                       NaN   \n",
            "3                        0                         -   \n",
            "4                        0                         -   \n",
            "\n",
            "  Spec Ed. Dropout - Drop %  LRE Ages 6-21 - Students #  ...  \\\n",
            "0                     3.60%                       295.0  ...   \n",
            "1                     2.90%                       272.0  ...   \n",
            "2                       NaN                       337.0  ...   \n",
            "3                         -                       335.0  ...   \n",
            "4                         -                       174.0  ...   \n",
            "\n",
            "  LRE Ages 3-5 - Full Incl # LRE Ages 3-5 - Full Incl %  \\\n",
            "0                          1                         5%   \n",
            "1                          4                        19%   \n",
            "2                          6                     10.30%   \n",
            "3                         16                     26.70%   \n",
            "4                          7                        25%   \n",
            "\n",
            "  Cohort Completion Year Substantial growth of knowledge & skills  \\\n",
            "0                2012-13                                        -   \n",
            "1                2012-13                                        -   \n",
            "2                2010-11                                     86.7   \n",
            "3                2010-11                                     86.7   \n",
            "4                2013-14                                        -   \n",
            "\n",
            "  Survey Period Surv Meet Std # Surv Meet Std % Sch Yr Rev  \\\n",
            "0   Spring 2013             NaN             NaN    2010-11   \n",
            "1   Spring 2013              11          73.20%    2010-11   \n",
            "2   Spring 2011               -               -    2012-13   \n",
            "3   Spring 2011               -               -    2012-13   \n",
            "4   Spring 2012               -               -    2011-12   \n",
            "\n",
            "  # of Students Engaged Dist Rate  \n",
            "0                     8      100%  \n",
            "1                     8      100%  \n",
            "2                    NR        NR  \n",
            "3                    NR        NR  \n",
            "4                   NaN            \n",
            "\n",
            "[5 rows x 23 columns]\n"
          ]
        }
      ],
      "source": [
        "# Challenge 2\n",
        "# Now let's see what happens when we set the na_filter parameter to False\n",
        "# \n",
        "print(pd.read_csv(url, na_filter = True, encoding ='latin1').head())"
      ]
    },
    {
      "cell_type": "markdown",
      "metadata": {
        "id": "eVonhQHZ3v_B"
      },
      "source": [
        "## 1.1 Merging Data\n"
      ]
    },
    {
      "cell_type": "markdown",
      "metadata": {
        "id": "t-EayHUZQwfE"
      },
      "source": [
        "Missing data can also result from the merging of datasets. This we will see when we create a merged table from the two datasets below. \n",
        "\n",
        "Having missing values in the merged table can be as a result of either or neither of the datasets having any missing values i.e. if the datasets have unique columns.\n",
        "\n"
      ]
    },
    {
      "cell_type": "code",
      "execution_count": null,
      "metadata": {
        "id": "uUmd0YtoUOXN"
      },
      "outputs": [],
      "source": [
        "apple_orange_dataset = 'http://bit.ly/AppleOrangeDataSet'\n",
        "stability_dataset    = 'http://bit.ly/StabilityDataset'\n",
        "\n",
        "apple_orange_dataset = pd.read_csv(apple_orange_dataset, encoding ='latin1')\n",
        "stability_dataset    = pd.read_csv(stability_dataset, encoding ='latin1')"
      ]
    },
    {
      "cell_type": "markdown",
      "metadata": {
        "id": "3KMGTOEgdnme"
      },
      "source": [
        "The appleorange dataset  contains production volumes of apples and oranges while the stability dataset contains country stability indicators. "
      ]
    },
    {
      "cell_type": "code",
      "execution_count": null,
      "metadata": {
        "id": "Zfry7pMHZh0I"
      },
      "outputs": [],
      "source": [
        "# Displaying our the first dataset\n",
        "#\n",
        "apple_orange_dataset.head(10)"
      ]
    },
    {
      "cell_type": "code",
      "execution_count": null,
      "metadata": {
        "id": "eX8ebJEVZobi"
      },
      "outputs": [],
      "source": [
        "# Displaying our second dataset\n",
        "# \n",
        "stability_dataset.head(10)"
      ]
    },
    {
      "cell_type": "code",
      "execution_count": null,
      "metadata": {
        "id": "5HiE_oQ0aJkr"
      },
      "outputs": [],
      "source": [
        "# Now merging the two dataframes and analysing the output\n",
        "merged_dataset = apple_orange_dataset.merge(stability_dataset, left_on='FAOSTAT 2013', right_on='FAOSTAT 2013')\n",
        "\n",
        "# Displayig our dataset\n",
        "merged_dataset.head(20)"
      ]
    },
    {
      "cell_type": "code",
      "execution_count": null,
      "metadata": {
        "id": "A7fwUU3ceR0O"
      },
      "outputs": [],
      "source": [
        "# Challenge 4:\n",
        "# Merge the following two manifesto project datasets and \n",
        "# discuss with your peer on origin of the missing values in the merged dataset\n",
        "#\n",
        "party_names_dataset  = 'http://bit.ly/PartyNamesMarporDataSet'\n",
        "party_names_dataset2 = 'http://bit.ly/PartyNamesPledges'\n",
        "\n",
        "OUR CODE GOES HERE"
      ]
    },
    {
      "cell_type": "markdown",
      "metadata": {
        "id": "vc56PH0F3yQk"
      },
      "source": [
        "## 1.2 User Input Values\n"
      ]
    },
    {
      "cell_type": "markdown",
      "metadata": {
        "id": "dcsdceT3kZ9T"
      },
      "source": [
        "Missing values within a dataset can also result from mistakes from the user during the data entry/collection phase. This could also result from creating a vector of values from a calculation or from manually curating a vector as shown in the examples below."
      ]
    },
    {
      "cell_type": "code",
      "execution_count": null,
      "metadata": {
        "id": "Ovv2uESk97lV"
      },
      "outputs": [],
      "source": [
        "# Importing nan from numpy so as to represent missing values\n",
        "#\n",
        "from numpy import nan"
      ]
    },
    {
      "cell_type": "code",
      "execution_count": null,
      "metadata": {
        "id": "NjxZX0bMlcDP"
      },
      "outputs": [],
      "source": [
        "# Creating a missing value in a series\n",
        "# NB: Series is the datastructure for a single column of a DataFrame. \n",
        "# \n",
        "population = pd.Series({'Kenya': 47, 'Tanzania': nan, 'Uganda': 30})\n",
        "\n",
        "# Lets now print. Note that NaNs are also valid values for both Series and DataFrames\n",
        "#\n",
        "OUR CODE GEOS HERE"
      ]
    },
    {
      "cell_type": "code",
      "execution_count": null,
      "metadata": {
        "id": "YpglYiRboZf8"
      },
      "outputs": [],
      "source": [
        "# Challenge 5:\n",
        "# Create a series with the names and ages of your peers. Note nan for the ages of peers who you don't know.\n",
        "# \n",
        "OUR CODE GOES HERE"
      ]
    },
    {
      "cell_type": "code",
      "execution_count": null,
      "metadata": {
        "id": "8srkAWH-rRtr"
      },
      "outputs": [],
      "source": [
        "# Now creating a missing value in a dataframe\n",
        "list_data = [['Steve', 56, 'Nairobi', 'no'],['Bill', 57, 'Machackos', 'yes'],['Richard', nan, nan, 'yes']]\n",
        "\n",
        "# Defining our columns\n",
        "age_df = pd.DataFrame(list_data, columns=['Name', 'Age', 'Hometown', 'Public Commute'])\n",
        "\n",
        "# Printing age_df\n",
        "age_df"
      ]
    },
    {
      "cell_type": "code",
      "execution_count": null,
      "metadata": {
        "id": "PUJgSHm-stTx"
      },
      "outputs": [],
      "source": [
        "# We can also assign a column of missing values to a dataframe directly\n",
        "#\n",
        "age_df['Public Commute'] = 'Yes';\n",
        "\n",
        "# print age_df\n",
        "#\n",
        "OUR CODE GOES HERE"
      ]
    },
    {
      "cell_type": "code",
      "execution_count": null,
      "metadata": {
        "id": "vhMyz-00uCgC"
      },
      "outputs": [],
      "source": [
        "# Challenge 6\n",
        "# Create a dataframe with a list of your country's presidents \n",
        "# with their no. of years in office and their last year in office. \n",
        "# NB: You do not know the last year of office for the current president. \n",
        "#\n",
        "OUR CODE GOE HERE"
      ]
    },
    {
      "cell_type": "markdown",
      "metadata": {
        "id": "ck7WHi5q30vR"
      },
      "source": [
        "## 1.3 Re-indexing\n"
      ]
    },
    {
      "cell_type": "markdown",
      "metadata": {
        "id": "hQUEsqgqzgJi"
      },
      "source": [
        "Missing values in data can also be introduced when we reindex our dataframe. We will show this through  a dataset from Gapminder."
      ]
    },
    {
      "cell_type": "code",
      "execution_count": null,
      "metadata": {
        "id": "LLwszhn_0D1_"
      },
      "outputs": [],
      "source": [
        "# Getting our dataset\n",
        "gapminder_dataset    = 'http://bit.ly/GapMinderKenyaDataSet'\n",
        "gapminder_dataset_df = pd.read_csv(gapminder_dataset, encoding ='latin1')\n",
        "\n",
        "# printing the dataframe\n",
        "print(gapminder_dataset_df)"
      ]
    },
    {
      "cell_type": "code",
      "execution_count": null,
      "metadata": {
        "id": "Qk6CFqnP3VyD"
      },
      "outputs": [],
      "source": [
        "# now performing a groupby operation so as to subset the data\n",
        "life_exp = gapminder_dataset_df.groupby(['year'])['lifeExp'].mean()\n",
        "print(life_exp)"
      ]
    },
    {
      "cell_type": "code",
      "execution_count": null,
      "metadata": {
        "id": "dreKsIPC33IN"
      },
      "outputs": [],
      "source": [
        "# We then reindexing by slicing the data. We continue to chain the 'loc' from the code above\n",
        "print(life_exp.loc[range(2000, 2007), ])"
      ]
    },
    {
      "cell_type": "markdown",
      "metadata": {
        "id": "z3D_BL4Y6Wc-"
      },
      "source": [
        "Now, it seems we have been provided a suggestion to use the reindex() method. We will do this below as we choose to subset the data separately and then use the reindex() method."
      ]
    },
    {
      "cell_type": "code",
      "execution_count": null,
      "metadata": {
        "id": "QHf1dxsB6Zgj"
      },
      "outputs": [],
      "source": [
        "# subsetting the dataframe\n",
        "y_2000_df = life_exp[life_exp.index > 2000] \n",
        "print(y_2000_df)"
      ]
    },
    {
      "cell_type": "code",
      "execution_count": null,
      "metadata": {
        "id": "zw134j3963KS"
      },
      "outputs": [],
      "source": [
        "# then reindexing\n",
        "print(y_2000_df.reindex(range(2000, 2010)))"
      ]
    },
    {
      "cell_type": "code",
      "execution_count": null,
      "metadata": {
        "id": "cGkhGcDr9CHB"
      },
      "outputs": [],
      "source": [
        "# Challenge 7\n",
        "# We would want to look at only the years from 2000 to 2010 from the gapminder dataset below. \n",
        "# Perform grouped operations, subseting the data and then re-indexing it. \n",
        "# Show how this process might result to getting missing values.\n",
        "\n",
        "# Assinging data the url for our dataset\n",
        "data = 'http://bit.ly/GapMinderUgandaDataSet'\n",
        "\n",
        "OUR CODE GOES HERE"
      ]
    },
    {
      "cell_type": "markdown",
      "metadata": {
        "id": "EkPq4SVvwIEh"
      },
      "source": []
    }
  ],
  "metadata": {
    "colab": {
      "collapsed_sections": [
        "WuROceEy3suc",
        "eVonhQHZ3v_B",
        "vc56PH0F3yQk",
        "ck7WHi5q30vR"
      ],
      "name": "Where does Missing Data come from?",
      "provenance": []
    },
    "kernelspec": {
      "display_name": "Python 3",
      "name": "python3"
    },
    "language_info": {
      "codemirror_mode": {
        "name": "ipython",
        "version": 3
      },
      "file_extension": ".py",
      "mimetype": "text/x-python",
      "name": "python",
      "nbconvert_exporter": "python",
      "pygments_lexer": "ipython3",
      "version": "3.9.2"
    }
  },
  "nbformat": 4,
  "nbformat_minor": 0
}
