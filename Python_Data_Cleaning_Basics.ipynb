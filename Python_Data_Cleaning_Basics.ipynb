{
  "nbformat": 4,
  "nbformat_minor": 0,
  "metadata": {
    "colab": {
      "name": "Python Data Cleaning: Basics",
      "provenance": [],
      "collapsed_sections": [
        "sMVIZyM7NAWR",
        "-KXUxWLb3wKH",
        "2rizu8-L30Th",
        "cp-NTai_33x6",
        "QdrSkHEP35t5",
        "Zohn05Kl37a3"
      ]
    },
    "kernelspec": {
      "name": "python3",
      "display_name": "Python 3"
    }
  },
  "cells": [
    {
      "cell_type": "markdown",
      "metadata": {
        "id": "zERjtLoSL1js"
      },
      "source": [
        "<font color=\"green\">*To start working on this notebook, or any other notebook that we will use in the Moringa Data Science Course, we will need to save our own copy of it. We can do this by clicking File > Save a Copy in Drive. We will then be able to make edits to our own copy of this notebook.*</font>"
      ]
    },
    {
      "cell_type": "markdown",
      "metadata": {
        "id": "pZLONleTl2Ky"
      },
      "source": [
        "# Python Data Cleaning: Basics"
      ]
    },
    {
      "cell_type": "markdown",
      "metadata": {
        "id": "tMorzwEdMnhX"
      },
      "source": [
        "## Step 1: Finding and counting missing data\n",
        "\n",
        "\n",
        "\n"
      ]
    },
    {
      "cell_type": "markdown",
      "metadata": {
        "id": "zCgWU_ioNjBT"
      },
      "source": [
        "Having known how missing values in a dataset are created, we will now get introduced to how we can work with such a dataset. The first step that we will perform is to find the missing values and know how many they are. \n",
        "\n"
      ]
    },
    {
      "cell_type": "code",
      "metadata": {
        "id": "gpIzM0fdLA7b"
      },
      "source": [
        "# We will first import our dataset that we will use for the examples. We will do this by first\n",
        "# Importing our pandas library \n",
        "import pandas as pd\n",
        "\n",
        "\n",
        "# then storing the url location of our dataset to the variable url\n",
        "url = 'http://bit.ly/TitanicDataset1'\n",
        "\n",
        "# We will read the dataset from above url and store the dataframe in the variable df\n",
        "df = pd.read_csv(url)"
      ],
      "execution_count": null,
      "outputs": []
    },
    {
      "cell_type": "code",
      "metadata": {
        "id": "2z2oonHgg6gd"
      },
      "source": [
        "# Challenge 1\n",
        "# In parallel to this, we will also be working with another dataset too. We will use it for practice.\n",
        "\n",
        "# Let's first store our url location just like we did above\n",
        "gov_dataset = 'http://bit.ly/GovProjectFinanceDataset1'\n",
        "\n",
        "# Then read the dataset from url and store it in our variable of choice\n",
        "# \n",
        "OUR CODE GOES HERE\n",
        "\n",
        "# And familiarize ourselves with the dataframe by viewing its first 5 rows\n",
        "# \n",
        "OUR CODE GOES HERE"
      ],
      "execution_count": null,
      "outputs": []
    },
    {
      "cell_type": "code",
      "metadata": {
        "id": "nHVATaZXNOO9"
      },
      "source": [
        "# We count the number of non - missing values in the df dataframe\n",
        "#\n",
        "df.count()"
      ],
      "execution_count": null,
      "outputs": []
    },
    {
      "cell_type": "code",
      "metadata": {
        "id": "RMfbpsNXhSkb"
      },
      "source": [
        "# Challenge 2: Government Project Dataset\n",
        "# We also count the number of non - missing values in the our government project dataset\n",
        "# \n",
        "OUR CODE GOES HERE"
      ],
      "execution_count": null,
      "outputs": []
    },
    {
      "cell_type": "code",
      "metadata": {
        "id": "wsXs2IHFNnNa"
      },
      "source": [
        "# A longer method can be to subtract the no. of non-missing rows from the total number \n",
        "# of rows in the dataframe in order to determine the no. of missing values as shown\n",
        "# \n",
        "num_rows = df.shape[0]\n",
        "num_missing = num_rows - df.count() \n",
        "num_missing"
      ],
      "execution_count": null,
      "outputs": []
    },
    {
      "cell_type": "code",
      "metadata": {
        "id": "9TLCUeubhiAF"
      },
      "source": [
        "# Challenge 3: Government Project Dataset\n",
        "# We now also subtract the no. of non-missing rows from the total number of rows \n",
        "# to determine the no. of missing values in our government project dataset\n",
        "#\n",
        "OUR CODE GOES HERE"
      ],
      "execution_count": null,
      "outputs": []
    },
    {
      "cell_type": "code",
      "metadata": {
        "id": "XbjpjZs2ONOU"
      },
      "source": [
        "# Another method would also be to count the number of missing values in our dataframe,  \n",
        "# using the count_nonzero function from numpy - and including the isnull() method.\n",
        "\n",
        "# But before we do that, we would need import numpy,\n",
        "# \n",
        "OUR CODE GOES HERE\n",
        "\n",
        "# Then count those missing values in our dataframe\n",
        "#\n",
        "np.count_nonzero(df.isnull())"
      ],
      "execution_count": null,
      "outputs": []
    },
    {
      "cell_type": "code",
      "metadata": {
        "id": "xVsRCHychzr2"
      },
      "source": [
        "# Challenge 4: Government Project Dataset\n",
        "# Let's just do what we did in our previous cell. We found out the number of missing values \n",
        "# in our dataset using the count_nonzero function from numpy \n",
        "#\n",
        "OUR CODE GOES HERE"
      ],
      "execution_count": null,
      "outputs": []
    },
    {
      "cell_type": "code",
      "metadata": {
        "id": "mN8PrJR0Oqry"
      },
      "source": [
        "# We could also count the number of missing values for a particular column by specifying \n",
        "# the column by still using the count_nonzero function from numpy \n",
        "# \n",
        "np.count_nonzero(df['body'].isnull())"
      ],
      "execution_count": null,
      "outputs": []
    },
    {
      "cell_type": "code",
      "metadata": {
        "id": "5gKt_D3KiTfB"
      },
      "source": [
        "# Challenge 5: Government Project Dataset\n",
        "# And again specify how many non-missing values we have in the column: Total_-_GOK_Budget_Est_KES\t\n",
        "#\n",
        "OUR CODE GOES HERE"
      ],
      "execution_count": null,
      "outputs": []
    },
    {
      "cell_type": "markdown",
      "metadata": {
        "id": "sMVIZyM7NAWR"
      },
      "source": [
        "## Step 2: Clean Missing Data"
      ]
    },
    {
      "cell_type": "markdown",
      "metadata": {
        "id": "bf4VF5tiPKfK"
      },
      "source": [
        "Now that we have been able to identify our missing values in our datasets, we can deal with them in the following ways."
      ]
    },
    {
      "cell_type": "markdown",
      "metadata": {
        "id": "-KXUxWLb3wKH"
      },
      "source": [
        "### a) We can recode/replace these values\n",
        "Here, we can do this by using the fillna method and recoding/replacing the missing values with another value or other values. In this example, we will recode the missing values to 0."
      ]
    },
    {
      "cell_type": "code",
      "metadata": {
        "id": "aY13KkxRPQdB"
      },
      "source": [
        "# We can recode missing values with 0 by doing the following. \n",
        "# Do note that this will appear as 0.0 in your dataframe.\n",
        "# \n",
        "df_recode = df.fillna(0)\n",
        "\n",
        "# then preview the first 5 rows for the recoded dataframe\n",
        "#\n",
        "OUR CODE GOES HERE"
      ],
      "execution_count": null,
      "outputs": []
    },
    {
      "cell_type": "code",
      "metadata": {
        "id": "B-N_zB18QrHx"
      },
      "source": [
        "# After recoding, let's check for non-missing values in the recoded dataframe\n",
        "#\n",
        "OUR CODE GOES HERE"
      ],
      "execution_count": null,
      "outputs": []
    },
    {
      "cell_type": "code",
      "metadata": {
        "id": "bGyp0dbhi1b-"
      },
      "source": [
        "# Challenge 6: Government Project Dataset\n",
        "# Nice! Let's now replace the missing values in our dataset with 0 again \n",
        "# just as in our previous example\n",
        "# \n",
        "OUR CODE GOES HERE"
      ],
      "execution_count": null,
      "outputs": []
    },
    {
      "cell_type": "markdown",
      "metadata": {
        "id": "QaPXaERdleI1"
      },
      "source": [
        "**Challenge 7:** Together with your peer now discuss the cases where you might use the above recoding technique."
      ]
    },
    {
      "cell_type": "markdown",
      "metadata": {
        "id": "2rizu8-L30Th"
      },
      "source": [
        "### b) We can fill forward missing values"
      ]
    },
    {
      "cell_type": "markdown",
      "metadata": {
        "id": "tHxr0SwnSXOX"
      },
      "source": [
        "When data is filled data forward, the last known value is used for the next missing value. The missing values are replaced with the last known/recorded value. Let's see how that works."
      ]
    },
    {
      "cell_type": "code",
      "metadata": {
        "id": "rkY5ZdmzTLeV"
      },
      "source": [
        "# First lets preview out df ,and note the missing data in the boat and body columns\n",
        "#\n",
        "OUR CODE GOES HERE"
      ],
      "execution_count": null,
      "outputs": []
    },
    {
      "cell_type": "code",
      "metadata": {
        "id": "MFpvJFFeSLwc"
      },
      "source": [
        "# And now let's fill forward\n",
        "#\n",
        "df_fill_forward = df.fillna(method='ffill')\n",
        "\n",
        "# Then preview our dataframe and try to understand it\n",
        "#\n",
        "OUR CODE GOES HERE \n",
        "\n",
        "# Did you notice what happens when the column begins with a missing value? \n",
        "# Discuss this with your peer"
      ],
      "execution_count": null,
      "outputs": []
    },
    {
      "cell_type": "code",
      "metadata": {
        "id": "KTFGrhLPjHTK"
      },
      "source": [
        "# Challenge 8: Government Project Dataset\n",
        "# Onto our other dataset, let's now fill forward the missing values and see what happens\n",
        "# \n",
        "OUR CODE GOES HER\n"
      ],
      "execution_count": null,
      "outputs": []
    },
    {
      "cell_type": "markdown",
      "metadata": {
        "id": "QhKnRkirk-13"
      },
      "source": [
        "**Challenge 9: **Together with your peer discuss the cases where you might use the above fill forward technique."
      ]
    },
    {
      "cell_type": "markdown",
      "metadata": {
        "id": "cp-NTai_33x6"
      },
      "source": [
        "### c) We can fill backward missing values"
      ]
    },
    {
      "cell_type": "markdown",
      "metadata": {
        "id": "9tCj_qF0UdK2"
      },
      "source": [
        "We can also do the opposite, and fill data backward our missing values. When doing this, the newest value replaces the missing data."
      ]
    },
    {
      "cell_type": "code",
      "metadata": {
        "id": "emdfItSJViLy"
      },
      "source": [
        "# Again first lets preview df (last 10 items), and note the missing data in the boat and body columns\n",
        "#\n",
        "print(df.tail(10))"
      ],
      "execution_count": null,
      "outputs": []
    },
    {
      "cell_type": "code",
      "metadata": {
        "id": "t3lUQSTPUtna"
      },
      "source": [
        "# And now fill backward\n",
        "#\n",
        "df_fill_backward = df.fillna(method='bfill')\n",
        "\n",
        "# Then preview our dataframe (last 10 items) and try to understand what took place\n",
        "#\n",
        "print(df_fill_backward.tail(10))\n",
        "\n",
        "# After this, we will discuss what happens when a column ends with a missing value."
      ],
      "execution_count": null,
      "outputs": []
    },
    {
      "cell_type": "code",
      "metadata": {
        "id": "jf_uQkE-jUZB"
      },
      "source": [
        "# Challenge 10: Government Project Dataset\n",
        "# Back to our government dataset. We now fill backward the missing values \n",
        "# and try to understand the changes that took place\n",
        "# \n",
        "OUR CODE GOES HERE"
      ],
      "execution_count": null,
      "outputs": []
    },
    {
      "cell_type": "markdown",
      "metadata": {
        "id": "_PIG0u78lKe-"
      },
      "source": [
        "**Challenge 11: ** Together with your peer discuss the cases where you might use the above fill backward technique."
      ]
    },
    {
      "cell_type": "markdown",
      "metadata": {
        "id": "QdrSkHEP35t5"
      },
      "source": [
        "\n",
        "### d) We can interpolate missing values"
      ]
    },
    {
      "cell_type": "markdown",
      "metadata": {
        "id": "pVDrZtZSXewN"
      },
      "source": [
        "Interpolation uses other values to fill in the missing values. It does this by treating missing values as if they should be equally spaced apart. This function fills in the missing values linearly as shown in the example below."
      ]
    },
    {
      "cell_type": "code",
      "metadata": {
        "id": "J4TIJ5OxYKdj"
      },
      "source": [
        "# Once again first lets print out df, and note the missing data in the boat and body columns\n",
        "# NB: iloc gets rows (or columns) at particular positions in the index\n",
        "#\n",
        "df.iloc[0:10, 11:13].head(10)"
      ],
      "execution_count": null,
      "outputs": []
    },
    {
      "cell_type": "code",
      "metadata": {
        "id": "g7Fti2xIXq1a"
      },
      "source": [
        "# Then perform our intepolation\n",
        "#\n",
        "df_interpolate = df.interpolate().iloc[0:10, 11:13];\n",
        "df_interpolate.head(10)"
      ],
      "execution_count": null,
      "outputs": []
    },
    {
      "cell_type": "code",
      "metadata": {
        "id": "8fESIpX-kRfF"
      },
      "source": [
        "# Challenge 12: Government Project Dataset\n",
        "# Intepolate the missing values in our dataset, noting the changes\n",
        "#\n",
        "OUR CODE GOES HERE"
      ],
      "execution_count": null,
      "outputs": []
    },
    {
      "cell_type": "markdown",
      "metadata": {
        "id": "7g7vkwiwlPNE"
      },
      "source": [
        "**Challenge 13: **Together with your peer discuss the cases where you might use the above interpolate technique."
      ]
    },
    {
      "cell_type": "markdown",
      "metadata": {
        "id": "Zohn05Kl37a3"
      },
      "source": [
        "### e) We can drop/delete missing values"
      ]
    },
    {
      "cell_type": "markdown",
      "metadata": {
        "id": "kiRRtN2NZxHm"
      },
      "source": [
        "The other way to work with missing data is to drop/delete the records with the missing data. This is a judgement that you have to make based on your research. Sometimes keeping the entire dataset together with the missing values, can leave you with a useless dataset. On the other hand, the missing data many not be random and dropping those missing values would leave you with a biased dataset or deleting the missing dataset might leave you with insufficient data for analysis. All of this we will learn more indepth during the course of the program. \n",
        "\n",
        "For now lets see how we can drop missing values from a dataset."
      ]
    },
    {
      "cell_type": "code",
      "metadata": {
        "id": "HvKBpbSVZq3X"
      },
      "source": [
        "# Let's find out the size of our dataset\n",
        "# \n",
        "df.shape"
      ],
      "execution_count": null,
      "outputs": []
    },
    {
      "cell_type": "code",
      "metadata": {
        "id": "TzPYCUtddJJn"
      },
      "source": [
        "# If we were to keep our complete rows; meaning we drop any record with a missing value, then\n",
        "#\n",
        "df_dropped = df.dropna()\n",
        "\n",
        "# We are left with no rows of data\n",
        "#\n",
        "df_dropped.shape"
      ],
      "execution_count": null,
      "outputs": []
    },
    {
      "cell_type": "code",
      "metadata": {
        "id": "AOZ80EPSdzGI"
      },
      "source": [
        "# Printing out df_dropped\n",
        "df_dropped"
      ],
      "execution_count": null,
      "outputs": []
    },
    {
      "cell_type": "code",
      "metadata": {
        "id": "zAazAAGHgFkP"
      },
      "source": [
        "# Challenge 14: Financial Allocation Dataset\n",
        "# Let's now drop the records that have missing values\n",
        "# url = http://bit.ly/MSFinancialDataset\n",
        "#\n",
        "OUR CODE GOES HERE"
      ],
      "execution_count": null,
      "outputs": []
    },
    {
      "cell_type": "markdown",
      "metadata": {
        "id": "h5AGA9relVMf"
      },
      "source": [
        "Challenge 15: Together with your peer discuss the cases where you might use the above drop/delete technique."
      ]
    }
  ]
}