{
 "cells": [
  {
   "cell_type": "code",
   "execution_count": 1,
   "metadata": {},
   "outputs": [],
   "source": [
    "# yearwise distribution in total customers, gender, profit margin\n",
    "# country wise distriution of hotels, total customers, profit margin\n",
    "#most frequent destination in each country and least frequent destination\n",
    "# Age wise distribution of customers in countries\n",
    "# which months have more frequent bookings and least bookings\n",
    "#most frequently used hotels in a country and less frequent hotels\n",
    "#most frequently used payment modes\n",
    "#most frequently used banknames\n",
    "#maximum no.of days stay in every country and least no of days\n",
    "# range of booking price in each country\n",
    "# maximum, minimum and average discounts provided country wise or location wise\n"
   ]
  },
  {
   "cell_type": "markdown",
   "metadata": {},
   "source": [
    "#### Problem"
   ]
  },
  {
   "cell_type": "code",
   "execution_count": 2,
   "metadata": {},
   "outputs": [
    {
     "data": {
      "text/html": [
       "<div>\n",
       "<style scoped>\n",
       "    .dataframe tbody tr th:only-of-type {\n",
       "        vertical-align: middle;\n",
       "    }\n",
       "\n",
       "    .dataframe tbody tr th {\n",
       "        vertical-align: top;\n",
       "    }\n",
       "\n",
       "    .dataframe thead th {\n",
       "        text-align: right;\n",
       "    }\n",
       "</style>\n",
       "<table border=\"1\" class=\"dataframe\">\n",
       "  <thead>\n",
       "    <tr style=\"text-align: right;\">\n",
       "      <th></th>\n",
       "      <th>Booking ID</th>\n",
       "      <th>Date of Booking</th>\n",
       "      <th>Year</th>\n",
       "      <th>Time</th>\n",
       "      <th>Customer ID</th>\n",
       "      <th>Gender</th>\n",
       "      <th>Age</th>\n",
       "      <th>Origin Country</th>\n",
       "      <th>State</th>\n",
       "      <th>Location</th>\n",
       "      <th>...</th>\n",
       "      <th>Hotel Name</th>\n",
       "      <th>Hotel Rating</th>\n",
       "      <th>Payment Mode</th>\n",
       "      <th>Bank Name</th>\n",
       "      <th>No. Of Days.1</th>\n",
       "      <th>Rooms.1</th>\n",
       "      <th>Booking Price[SGD]</th>\n",
       "      <th>Discount</th>\n",
       "      <th>GST</th>\n",
       "      <th>Profit Margin</th>\n",
       "    </tr>\n",
       "  </thead>\n",
       "  <tbody>\n",
       "    <tr>\n",
       "      <th>0</th>\n",
       "      <td>DDMY00001</td>\n",
       "      <td>2010-01-01</td>\n",
       "      <td>2010</td>\n",
       "      <td>10:49:40</td>\n",
       "      <td>MY00001</td>\n",
       "      <td>Male</td>\n",
       "      <td>42</td>\n",
       "      <td>Malaysia</td>\n",
       "      <td>Johor</td>\n",
       "      <td>Iskandar Puteri</td>\n",
       "      <td>...</td>\n",
       "      <td>Hotel Triton</td>\n",
       "      <td>4.3</td>\n",
       "      <td>Wallet</td>\n",
       "      <td>United Overseas Bank (UOB)</td>\n",
       "      <td>8</td>\n",
       "      <td>1</td>\n",
       "      <td>243</td>\n",
       "      <td>0.01</td>\n",
       "      <td>0.07</td>\n",
       "      <td>0.25</td>\n",
       "    </tr>\n",
       "    <tr>\n",
       "      <th>1</th>\n",
       "      <td>DDID00002</td>\n",
       "      <td>2010-01-01</td>\n",
       "      <td>2010</td>\n",
       "      <td>09:19:47</td>\n",
       "      <td>ID00001</td>\n",
       "      <td>Female</td>\n",
       "      <td>44</td>\n",
       "      <td>Indonesia</td>\n",
       "      <td>Ciawi</td>\n",
       "      <td>West Java</td>\n",
       "      <td>...</td>\n",
       "      <td>Enchanted Isle</td>\n",
       "      <td>4.2</td>\n",
       "      <td>Wallet</td>\n",
       "      <td>EZ-Link</td>\n",
       "      <td>1</td>\n",
       "      <td>2</td>\n",
       "      <td>312</td>\n",
       "      <td>0.00</td>\n",
       "      <td>0.07</td>\n",
       "      <td>0.24</td>\n",
       "    </tr>\n",
       "    <tr>\n",
       "      <th>2</th>\n",
       "      <td>DDSG00003</td>\n",
       "      <td>2010-01-01</td>\n",
       "      <td>2010</td>\n",
       "      <td>11:52:56</td>\n",
       "      <td>SG00001</td>\n",
       "      <td>Female</td>\n",
       "      <td>31</td>\n",
       "      <td>Singapore</td>\n",
       "      <td>Central</td>\n",
       "      <td>Rochor</td>\n",
       "      <td>...</td>\n",
       "      <td>Seacoast Hotel</td>\n",
       "      <td>4.5</td>\n",
       "      <td>Credit Card</td>\n",
       "      <td>Grab</td>\n",
       "      <td>7</td>\n",
       "      <td>2</td>\n",
       "      <td>338</td>\n",
       "      <td>0.19</td>\n",
       "      <td>0.07</td>\n",
       "      <td>0.20</td>\n",
       "    </tr>\n",
       "    <tr>\n",
       "      <th>3</th>\n",
       "      <td>DDSG00004</td>\n",
       "      <td>2010-01-01</td>\n",
       "      <td>2010</td>\n",
       "      <td>13:44:40</td>\n",
       "      <td>SG00002</td>\n",
       "      <td>Male</td>\n",
       "      <td>28</td>\n",
       "      <td>Singapore</td>\n",
       "      <td>North</td>\n",
       "      <td>Yishun</td>\n",
       "      <td>...</td>\n",
       "      <td>Night In Paradise</td>\n",
       "      <td>4.2</td>\n",
       "      <td>Debit Card</td>\n",
       "      <td>DBS Paylah</td>\n",
       "      <td>4</td>\n",
       "      <td>2</td>\n",
       "      <td>254</td>\n",
       "      <td>0.19</td>\n",
       "      <td>0.07</td>\n",
       "      <td>0.13</td>\n",
       "    </tr>\n",
       "    <tr>\n",
       "      <th>4</th>\n",
       "      <td>DDKH00005</td>\n",
       "      <td>2010-01-01</td>\n",
       "      <td>2010</td>\n",
       "      <td>05:38:26</td>\n",
       "      <td>KH00001</td>\n",
       "      <td>Male</td>\n",
       "      <td>44</td>\n",
       "      <td>Cambodia</td>\n",
       "      <td>Phnom Trop</td>\n",
       "      <td>Pursat</td>\n",
       "      <td>...</td>\n",
       "      <td>Tiny Digs Hotel</td>\n",
       "      <td>4.6</td>\n",
       "      <td>Wallet</td>\n",
       "      <td>Bank of Singapore (BOS)</td>\n",
       "      <td>3</td>\n",
       "      <td>3</td>\n",
       "      <td>313</td>\n",
       "      <td>0.15</td>\n",
       "      <td>0.07</td>\n",
       "      <td>0.17</td>\n",
       "    </tr>\n",
       "    <tr>\n",
       "      <th>...</th>\n",
       "      <td>...</td>\n",
       "      <td>...</td>\n",
       "      <td>...</td>\n",
       "      <td>...</td>\n",
       "      <td>...</td>\n",
       "      <td>...</td>\n",
       "      <td>...</td>\n",
       "      <td>...</td>\n",
       "      <td>...</td>\n",
       "      <td>...</td>\n",
       "      <td>...</td>\n",
       "      <td>...</td>\n",
       "      <td>...</td>\n",
       "      <td>...</td>\n",
       "      <td>...</td>\n",
       "      <td>...</td>\n",
       "      <td>...</td>\n",
       "      <td>...</td>\n",
       "      <td>...</td>\n",
       "      <td>...</td>\n",
       "      <td>...</td>\n",
       "    </tr>\n",
       "    <tr>\n",
       "      <th>66530</th>\n",
       "      <td>DDSG66531</td>\n",
       "      <td>2019-12-31</td>\n",
       "      <td>2019</td>\n",
       "      <td>23:36:16</td>\n",
       "      <td>SG12034</td>\n",
       "      <td>Female</td>\n",
       "      <td>42</td>\n",
       "      <td>Singapore</td>\n",
       "      <td>Central</td>\n",
       "      <td>Orchard</td>\n",
       "      <td>...</td>\n",
       "      <td>Silver Cloud Inn</td>\n",
       "      <td>4.3</td>\n",
       "      <td>Wallet</td>\n",
       "      <td>Grab</td>\n",
       "      <td>4</td>\n",
       "      <td>2</td>\n",
       "      <td>182</td>\n",
       "      <td>0.23</td>\n",
       "      <td>0.07</td>\n",
       "      <td>0.24</td>\n",
       "    </tr>\n",
       "    <tr>\n",
       "      <th>66531</th>\n",
       "      <td>DDSG66532</td>\n",
       "      <td>2019-12-31</td>\n",
       "      <td>2019</td>\n",
       "      <td>14:41:01</td>\n",
       "      <td>SG12035</td>\n",
       "      <td>Female</td>\n",
       "      <td>54</td>\n",
       "      <td>Singapore</td>\n",
       "      <td>Central</td>\n",
       "      <td>Geylang</td>\n",
       "      <td>...</td>\n",
       "      <td>The Elet</td>\n",
       "      <td>4.2</td>\n",
       "      <td>COD</td>\n",
       "      <td>DBS Paylah</td>\n",
       "      <td>4</td>\n",
       "      <td>2</td>\n",
       "      <td>125</td>\n",
       "      <td>0.06</td>\n",
       "      <td>0.07</td>\n",
       "      <td>0.19</td>\n",
       "    </tr>\n",
       "    <tr>\n",
       "      <th>66532</th>\n",
       "      <td>DDSG66533</td>\n",
       "      <td>2019-12-31</td>\n",
       "      <td>2019</td>\n",
       "      <td>19:11:16</td>\n",
       "      <td>SG12036</td>\n",
       "      <td>Female</td>\n",
       "      <td>57</td>\n",
       "      <td>Singapore</td>\n",
       "      <td>Central</td>\n",
       "      <td>Downtown Core</td>\n",
       "      <td>...</td>\n",
       "      <td>The Elet</td>\n",
       "      <td>4.4</td>\n",
       "      <td>Debit Card</td>\n",
       "      <td>EZ-Link</td>\n",
       "      <td>1</td>\n",
       "      <td>4</td>\n",
       "      <td>318</td>\n",
       "      <td>0.02</td>\n",
       "      <td>0.07</td>\n",
       "      <td>0.22</td>\n",
       "    </tr>\n",
       "    <tr>\n",
       "      <th>66533</th>\n",
       "      <td>DDTH66534</td>\n",
       "      <td>2019-12-31</td>\n",
       "      <td>2019</td>\n",
       "      <td>05:12:29</td>\n",
       "      <td>TH12170</td>\n",
       "      <td>Female</td>\n",
       "      <td>44</td>\n",
       "      <td>Thailand</td>\n",
       "      <td>Surat Thani</td>\n",
       "      <td>Ko Samui</td>\n",
       "      <td>...</td>\n",
       "      <td>Sunset Lodge</td>\n",
       "      <td>4.2</td>\n",
       "      <td>Debit Card</td>\n",
       "      <td>HSBC</td>\n",
       "      <td>1</td>\n",
       "      <td>2</td>\n",
       "      <td>173</td>\n",
       "      <td>0.14</td>\n",
       "      <td>0.07</td>\n",
       "      <td>0.25</td>\n",
       "    </tr>\n",
       "    <tr>\n",
       "      <th>66534</th>\n",
       "      <td>DDVN66535</td>\n",
       "      <td>2019-12-31</td>\n",
       "      <td>2019</td>\n",
       "      <td>00:51:52</td>\n",
       "      <td>VN05959</td>\n",
       "      <td>Female</td>\n",
       "      <td>52</td>\n",
       "      <td>Vietnam</td>\n",
       "      <td>Pleiku</td>\n",
       "      <td>Gia Lai</td>\n",
       "      <td>...</td>\n",
       "      <td>Coastal bay hotel</td>\n",
       "      <td>4.3</td>\n",
       "      <td>Internet Banking</td>\n",
       "      <td>Grab</td>\n",
       "      <td>4</td>\n",
       "      <td>3</td>\n",
       "      <td>182</td>\n",
       "      <td>0.17</td>\n",
       "      <td>0.07</td>\n",
       "      <td>0.24</td>\n",
       "    </tr>\n",
       "  </tbody>\n",
       "</table>\n",
       "<p>66535 rows × 27 columns</p>\n",
       "</div>"
      ],
      "text/plain": [
       "      Booking ID Date of Booking  Year      Time Customer ID  Gender  Age  \\\n",
       "0      DDMY00001      2010-01-01  2010  10:49:40     MY00001    Male   42   \n",
       "1      DDID00002      2010-01-01  2010  09:19:47     ID00001  Female   44   \n",
       "2      DDSG00003      2010-01-01  2010  11:52:56     SG00001  Female   31   \n",
       "3      DDSG00004      2010-01-01  2010  13:44:40     SG00002    Male   28   \n",
       "4      DDKH00005      2010-01-01  2010  05:38:26     KH00001    Male   44   \n",
       "...          ...             ...   ...       ...         ...     ...  ...   \n",
       "66530  DDSG66531      2019-12-31  2019  23:36:16     SG12034  Female   42   \n",
       "66531  DDSG66532      2019-12-31  2019  14:41:01     SG12035  Female   54   \n",
       "66532  DDSG66533      2019-12-31  2019  19:11:16     SG12036  Female   57   \n",
       "66533  DDTH66534      2019-12-31  2019  05:12:29     TH12170  Female   44   \n",
       "66534  DDVN66535      2019-12-31  2019  00:51:52     VN05959  Female   52   \n",
       "\n",
       "      Origin Country        State         Location  ...         Hotel Name  \\\n",
       "0           Malaysia        Johor  Iskandar Puteri  ...       Hotel Triton   \n",
       "1          Indonesia        Ciawi        West Java  ...     Enchanted Isle   \n",
       "2          Singapore      Central           Rochor  ...     Seacoast Hotel   \n",
       "3          Singapore        North           Yishun  ...  Night In Paradise   \n",
       "4           Cambodia   Phnom Trop           Pursat  ...    Tiny Digs Hotel   \n",
       "...              ...          ...              ...  ...                ...   \n",
       "66530      Singapore      Central          Orchard  ...   Silver Cloud Inn   \n",
       "66531      Singapore      Central          Geylang  ...           The Elet   \n",
       "66532      Singapore      Central    Downtown Core  ...           The Elet   \n",
       "66533       Thailand  Surat Thani         Ko Samui  ...       Sunset Lodge   \n",
       "66534        Vietnam       Pleiku          Gia Lai  ...  Coastal bay hotel   \n",
       "\n",
       "      Hotel Rating      Payment Mode                   Bank Name  \\\n",
       "0              4.3            Wallet  United Overseas Bank (UOB)   \n",
       "1              4.2            Wallet                     EZ-Link   \n",
       "2              4.5       Credit Card                        Grab   \n",
       "3              4.2        Debit Card                  DBS Paylah   \n",
       "4              4.6            Wallet     Bank of Singapore (BOS)   \n",
       "...            ...               ...                         ...   \n",
       "66530          4.3            Wallet                        Grab   \n",
       "66531          4.2               COD                  DBS Paylah   \n",
       "66532          4.4        Debit Card                     EZ-Link   \n",
       "66533          4.2        Debit Card                        HSBC   \n",
       "66534          4.3  Internet Banking                        Grab   \n",
       "\n",
       "       No. Of Days.1 Rooms.1  Booking Price[SGD] Discount   GST Profit Margin  \n",
       "0                  8       1                 243     0.01  0.07          0.25  \n",
       "1                  1       2                 312     0.00  0.07          0.24  \n",
       "2                  7       2                 338     0.19  0.07          0.20  \n",
       "3                  4       2                 254     0.19  0.07          0.13  \n",
       "4                  3       3                 313     0.15  0.07          0.17  \n",
       "...              ...     ...                 ...      ...   ...           ...  \n",
       "66530              4       2                 182     0.23  0.07          0.24  \n",
       "66531              4       2                 125     0.06  0.07          0.19  \n",
       "66532              1       4                 318     0.02  0.07          0.22  \n",
       "66533              1       2                 173     0.14  0.07          0.25  \n",
       "66534              4       3                 182     0.17  0.07          0.24  \n",
       "\n",
       "[66535 rows x 27 columns]"
      ]
     },
     "execution_count": 2,
     "metadata": {},
     "output_type": "execute_result"
    }
   ],
   "source": [
    "import pandas as pd\n",
    "import numpy as np\n",
    "df = pd.read_excel('Hostel Booking Challenge_FestMan.xlsx', engine='openpyxl')\n",
    "df"
   ]
  },
  {
   "cell_type": "code",
   "execution_count": 3,
   "metadata": {},
   "outputs": [
    {
     "data": {
      "text/html": [
       "<div>\n",
       "<style scoped>\n",
       "    .dataframe tbody tr th:only-of-type {\n",
       "        vertical-align: middle;\n",
       "    }\n",
       "\n",
       "    .dataframe tbody tr th {\n",
       "        vertical-align: top;\n",
       "    }\n",
       "\n",
       "    .dataframe thead th {\n",
       "        text-align: right;\n",
       "    }\n",
       "</style>\n",
       "<table border=\"1\" class=\"dataframe\">\n",
       "  <thead>\n",
       "    <tr style=\"text-align: right;\">\n",
       "      <th></th>\n",
       "      <th>Booking ID</th>\n",
       "      <th>Date of Booking</th>\n",
       "      <th>Year</th>\n",
       "      <th>Time</th>\n",
       "      <th>Customer ID</th>\n",
       "      <th>Gender</th>\n",
       "      <th>Age</th>\n",
       "      <th>Origin Country</th>\n",
       "      <th>State</th>\n",
       "      <th>Location</th>\n",
       "      <th>...</th>\n",
       "      <th>Hotel Name</th>\n",
       "      <th>Hotel Rating</th>\n",
       "      <th>Payment Mode</th>\n",
       "      <th>Bank Name</th>\n",
       "      <th>No. Of Days.1</th>\n",
       "      <th>Rooms.1</th>\n",
       "      <th>Booking Price[SGD]</th>\n",
       "      <th>Discount</th>\n",
       "      <th>GST</th>\n",
       "      <th>Profit Margin</th>\n",
       "    </tr>\n",
       "  </thead>\n",
       "  <tbody>\n",
       "    <tr>\n",
       "      <th>0</th>\n",
       "      <td>DDMY00001</td>\n",
       "      <td>2010-01-01</td>\n",
       "      <td>2010</td>\n",
       "      <td>10:49:40</td>\n",
       "      <td>MY00001</td>\n",
       "      <td>Male</td>\n",
       "      <td>42</td>\n",
       "      <td>Malaysia</td>\n",
       "      <td>Johor</td>\n",
       "      <td>Iskandar Puteri</td>\n",
       "      <td>...</td>\n",
       "      <td>Hotel Triton</td>\n",
       "      <td>4.3</td>\n",
       "      <td>Wallet</td>\n",
       "      <td>United Overseas Bank (UOB)</td>\n",
       "      <td>8</td>\n",
       "      <td>1</td>\n",
       "      <td>243</td>\n",
       "      <td>0.01</td>\n",
       "      <td>0.07</td>\n",
       "      <td>0.25</td>\n",
       "    </tr>\n",
       "    <tr>\n",
       "      <th>1</th>\n",
       "      <td>DDID00002</td>\n",
       "      <td>2010-01-01</td>\n",
       "      <td>2010</td>\n",
       "      <td>09:19:47</td>\n",
       "      <td>ID00001</td>\n",
       "      <td>Female</td>\n",
       "      <td>44</td>\n",
       "      <td>Indonesia</td>\n",
       "      <td>Ciawi</td>\n",
       "      <td>West Java</td>\n",
       "      <td>...</td>\n",
       "      <td>Enchanted Isle</td>\n",
       "      <td>4.2</td>\n",
       "      <td>Wallet</td>\n",
       "      <td>EZ-Link</td>\n",
       "      <td>1</td>\n",
       "      <td>2</td>\n",
       "      <td>312</td>\n",
       "      <td>0.00</td>\n",
       "      <td>0.07</td>\n",
       "      <td>0.24</td>\n",
       "    </tr>\n",
       "    <tr>\n",
       "      <th>2</th>\n",
       "      <td>DDSG00003</td>\n",
       "      <td>2010-01-01</td>\n",
       "      <td>2010</td>\n",
       "      <td>11:52:56</td>\n",
       "      <td>SG00001</td>\n",
       "      <td>Female</td>\n",
       "      <td>31</td>\n",
       "      <td>Singapore</td>\n",
       "      <td>Central</td>\n",
       "      <td>Rochor</td>\n",
       "      <td>...</td>\n",
       "      <td>Seacoast Hotel</td>\n",
       "      <td>4.5</td>\n",
       "      <td>Credit Card</td>\n",
       "      <td>Grab</td>\n",
       "      <td>7</td>\n",
       "      <td>2</td>\n",
       "      <td>338</td>\n",
       "      <td>0.19</td>\n",
       "      <td>0.07</td>\n",
       "      <td>0.20</td>\n",
       "    </tr>\n",
       "    <tr>\n",
       "      <th>3</th>\n",
       "      <td>DDSG00004</td>\n",
       "      <td>2010-01-01</td>\n",
       "      <td>2010</td>\n",
       "      <td>13:44:40</td>\n",
       "      <td>SG00002</td>\n",
       "      <td>Male</td>\n",
       "      <td>28</td>\n",
       "      <td>Singapore</td>\n",
       "      <td>North</td>\n",
       "      <td>Yishun</td>\n",
       "      <td>...</td>\n",
       "      <td>Night In Paradise</td>\n",
       "      <td>4.2</td>\n",
       "      <td>Debit Card</td>\n",
       "      <td>DBS Paylah</td>\n",
       "      <td>4</td>\n",
       "      <td>2</td>\n",
       "      <td>254</td>\n",
       "      <td>0.19</td>\n",
       "      <td>0.07</td>\n",
       "      <td>0.13</td>\n",
       "    </tr>\n",
       "    <tr>\n",
       "      <th>4</th>\n",
       "      <td>DDKH00005</td>\n",
       "      <td>2010-01-01</td>\n",
       "      <td>2010</td>\n",
       "      <td>05:38:26</td>\n",
       "      <td>KH00001</td>\n",
       "      <td>Male</td>\n",
       "      <td>44</td>\n",
       "      <td>Cambodia</td>\n",
       "      <td>Phnom Trop</td>\n",
       "      <td>Pursat</td>\n",
       "      <td>...</td>\n",
       "      <td>Tiny Digs Hotel</td>\n",
       "      <td>4.6</td>\n",
       "      <td>Wallet</td>\n",
       "      <td>Bank of Singapore (BOS)</td>\n",
       "      <td>3</td>\n",
       "      <td>3</td>\n",
       "      <td>313</td>\n",
       "      <td>0.15</td>\n",
       "      <td>0.07</td>\n",
       "      <td>0.17</td>\n",
       "    </tr>\n",
       "  </tbody>\n",
       "</table>\n",
       "<p>5 rows × 27 columns</p>\n",
       "</div>"
      ],
      "text/plain": [
       "  Booking ID Date of Booking  Year      Time Customer ID  Gender  Age  \\\n",
       "0  DDMY00001      2010-01-01  2010  10:49:40     MY00001    Male   42   \n",
       "1  DDID00002      2010-01-01  2010  09:19:47     ID00001  Female   44   \n",
       "2  DDSG00003      2010-01-01  2010  11:52:56     SG00001  Female   31   \n",
       "3  DDSG00004      2010-01-01  2010  13:44:40     SG00002    Male   28   \n",
       "4  DDKH00005      2010-01-01  2010  05:38:26     KH00001    Male   44   \n",
       "\n",
       "  Origin Country       State         Location  ...         Hotel Name  \\\n",
       "0       Malaysia       Johor  Iskandar Puteri  ...       Hotel Triton   \n",
       "1      Indonesia       Ciawi        West Java  ...     Enchanted Isle   \n",
       "2      Singapore     Central           Rochor  ...     Seacoast Hotel   \n",
       "3      Singapore       North           Yishun  ...  Night In Paradise   \n",
       "4       Cambodia  Phnom Trop           Pursat  ...    Tiny Digs Hotel   \n",
       "\n",
       "  Hotel Rating  Payment Mode                   Bank Name  No. Of Days.1  \\\n",
       "0          4.3        Wallet  United Overseas Bank (UOB)              8   \n",
       "1          4.2        Wallet                     EZ-Link              1   \n",
       "2          4.5   Credit Card                        Grab              7   \n",
       "3          4.2    Debit Card                  DBS Paylah              4   \n",
       "4          4.6        Wallet     Bank of Singapore (BOS)              3   \n",
       "\n",
       "  Rooms.1  Booking Price[SGD] Discount   GST Profit Margin  \n",
       "0       1                 243     0.01  0.07          0.25  \n",
       "1       2                 312     0.00  0.07          0.24  \n",
       "2       2                 338     0.19  0.07          0.20  \n",
       "3       2                 254     0.19  0.07          0.13  \n",
       "4       3                 313     0.15  0.07          0.17  \n",
       "\n",
       "[5 rows x 27 columns]"
      ]
     },
     "execution_count": 3,
     "metadata": {},
     "output_type": "execute_result"
    }
   ],
   "source": [
    "df.head()"
   ]
  },
  {
   "cell_type": "code",
   "execution_count": 4,
   "metadata": {},
   "outputs": [
    {
     "data": {
      "text/html": [
       "<div>\n",
       "<style scoped>\n",
       "    .dataframe tbody tr th:only-of-type {\n",
       "        vertical-align: middle;\n",
       "    }\n",
       "\n",
       "    .dataframe tbody tr th {\n",
       "        vertical-align: top;\n",
       "    }\n",
       "\n",
       "    .dataframe thead th {\n",
       "        text-align: right;\n",
       "    }\n",
       "</style>\n",
       "<table border=\"1\" class=\"dataframe\">\n",
       "  <thead>\n",
       "    <tr style=\"text-align: right;\">\n",
       "      <th></th>\n",
       "      <th>Booking ID</th>\n",
       "      <th>Date of Booking</th>\n",
       "      <th>Year</th>\n",
       "      <th>Time</th>\n",
       "      <th>Customer ID</th>\n",
       "      <th>Gender</th>\n",
       "      <th>Age</th>\n",
       "      <th>Origin Country</th>\n",
       "      <th>State</th>\n",
       "      <th>Location</th>\n",
       "      <th>...</th>\n",
       "      <th>Hotel Name</th>\n",
       "      <th>Hotel Rating</th>\n",
       "      <th>Payment Mode</th>\n",
       "      <th>Bank Name</th>\n",
       "      <th>No. Of Days.1</th>\n",
       "      <th>Rooms.1</th>\n",
       "      <th>Booking Price[SGD]</th>\n",
       "      <th>Discount</th>\n",
       "      <th>GST</th>\n",
       "      <th>Profit Margin</th>\n",
       "    </tr>\n",
       "  </thead>\n",
       "  <tbody>\n",
       "    <tr>\n",
       "      <th>66530</th>\n",
       "      <td>DDSG66531</td>\n",
       "      <td>2019-12-31</td>\n",
       "      <td>2019</td>\n",
       "      <td>23:36:16</td>\n",
       "      <td>SG12034</td>\n",
       "      <td>Female</td>\n",
       "      <td>42</td>\n",
       "      <td>Singapore</td>\n",
       "      <td>Central</td>\n",
       "      <td>Orchard</td>\n",
       "      <td>...</td>\n",
       "      <td>Silver Cloud Inn</td>\n",
       "      <td>4.3</td>\n",
       "      <td>Wallet</td>\n",
       "      <td>Grab</td>\n",
       "      <td>4</td>\n",
       "      <td>2</td>\n",
       "      <td>182</td>\n",
       "      <td>0.23</td>\n",
       "      <td>0.07</td>\n",
       "      <td>0.24</td>\n",
       "    </tr>\n",
       "    <tr>\n",
       "      <th>66531</th>\n",
       "      <td>DDSG66532</td>\n",
       "      <td>2019-12-31</td>\n",
       "      <td>2019</td>\n",
       "      <td>14:41:01</td>\n",
       "      <td>SG12035</td>\n",
       "      <td>Female</td>\n",
       "      <td>54</td>\n",
       "      <td>Singapore</td>\n",
       "      <td>Central</td>\n",
       "      <td>Geylang</td>\n",
       "      <td>...</td>\n",
       "      <td>The Elet</td>\n",
       "      <td>4.2</td>\n",
       "      <td>COD</td>\n",
       "      <td>DBS Paylah</td>\n",
       "      <td>4</td>\n",
       "      <td>2</td>\n",
       "      <td>125</td>\n",
       "      <td>0.06</td>\n",
       "      <td>0.07</td>\n",
       "      <td>0.19</td>\n",
       "    </tr>\n",
       "    <tr>\n",
       "      <th>66532</th>\n",
       "      <td>DDSG66533</td>\n",
       "      <td>2019-12-31</td>\n",
       "      <td>2019</td>\n",
       "      <td>19:11:16</td>\n",
       "      <td>SG12036</td>\n",
       "      <td>Female</td>\n",
       "      <td>57</td>\n",
       "      <td>Singapore</td>\n",
       "      <td>Central</td>\n",
       "      <td>Downtown Core</td>\n",
       "      <td>...</td>\n",
       "      <td>The Elet</td>\n",
       "      <td>4.4</td>\n",
       "      <td>Debit Card</td>\n",
       "      <td>EZ-Link</td>\n",
       "      <td>1</td>\n",
       "      <td>4</td>\n",
       "      <td>318</td>\n",
       "      <td>0.02</td>\n",
       "      <td>0.07</td>\n",
       "      <td>0.22</td>\n",
       "    </tr>\n",
       "    <tr>\n",
       "      <th>66533</th>\n",
       "      <td>DDTH66534</td>\n",
       "      <td>2019-12-31</td>\n",
       "      <td>2019</td>\n",
       "      <td>05:12:29</td>\n",
       "      <td>TH12170</td>\n",
       "      <td>Female</td>\n",
       "      <td>44</td>\n",
       "      <td>Thailand</td>\n",
       "      <td>Surat Thani</td>\n",
       "      <td>Ko Samui</td>\n",
       "      <td>...</td>\n",
       "      <td>Sunset Lodge</td>\n",
       "      <td>4.2</td>\n",
       "      <td>Debit Card</td>\n",
       "      <td>HSBC</td>\n",
       "      <td>1</td>\n",
       "      <td>2</td>\n",
       "      <td>173</td>\n",
       "      <td>0.14</td>\n",
       "      <td>0.07</td>\n",
       "      <td>0.25</td>\n",
       "    </tr>\n",
       "    <tr>\n",
       "      <th>66534</th>\n",
       "      <td>DDVN66535</td>\n",
       "      <td>2019-12-31</td>\n",
       "      <td>2019</td>\n",
       "      <td>00:51:52</td>\n",
       "      <td>VN05959</td>\n",
       "      <td>Female</td>\n",
       "      <td>52</td>\n",
       "      <td>Vietnam</td>\n",
       "      <td>Pleiku</td>\n",
       "      <td>Gia Lai</td>\n",
       "      <td>...</td>\n",
       "      <td>Coastal bay hotel</td>\n",
       "      <td>4.3</td>\n",
       "      <td>Internet Banking</td>\n",
       "      <td>Grab</td>\n",
       "      <td>4</td>\n",
       "      <td>3</td>\n",
       "      <td>182</td>\n",
       "      <td>0.17</td>\n",
       "      <td>0.07</td>\n",
       "      <td>0.24</td>\n",
       "    </tr>\n",
       "  </tbody>\n",
       "</table>\n",
       "<p>5 rows × 27 columns</p>\n",
       "</div>"
      ],
      "text/plain": [
       "      Booking ID Date of Booking  Year      Time Customer ID  Gender  Age  \\\n",
       "66530  DDSG66531      2019-12-31  2019  23:36:16     SG12034  Female   42   \n",
       "66531  DDSG66532      2019-12-31  2019  14:41:01     SG12035  Female   54   \n",
       "66532  DDSG66533      2019-12-31  2019  19:11:16     SG12036  Female   57   \n",
       "66533  DDTH66534      2019-12-31  2019  05:12:29     TH12170  Female   44   \n",
       "66534  DDVN66535      2019-12-31  2019  00:51:52     VN05959  Female   52   \n",
       "\n",
       "      Origin Country        State       Location  ...         Hotel Name  \\\n",
       "66530      Singapore      Central        Orchard  ...   Silver Cloud Inn   \n",
       "66531      Singapore      Central        Geylang  ...           The Elet   \n",
       "66532      Singapore      Central  Downtown Core  ...           The Elet   \n",
       "66533       Thailand  Surat Thani       Ko Samui  ...       Sunset Lodge   \n",
       "66534        Vietnam       Pleiku        Gia Lai  ...  Coastal bay hotel   \n",
       "\n",
       "      Hotel Rating      Payment Mode   Bank Name  No. Of Days.1 Rooms.1  \\\n",
       "66530          4.3            Wallet        Grab              4       2   \n",
       "66531          4.2               COD  DBS Paylah              4       2   \n",
       "66532          4.4        Debit Card     EZ-Link              1       4   \n",
       "66533          4.2        Debit Card        HSBC              1       2   \n",
       "66534          4.3  Internet Banking        Grab              4       3   \n",
       "\n",
       "       Booking Price[SGD] Discount   GST Profit Margin  \n",
       "66530                 182     0.23  0.07          0.24  \n",
       "66531                 125     0.06  0.07          0.19  \n",
       "66532                 318     0.02  0.07          0.22  \n",
       "66533                 173     0.14  0.07          0.25  \n",
       "66534                 182     0.17  0.07          0.24  \n",
       "\n",
       "[5 rows x 27 columns]"
      ]
     },
     "execution_count": 4,
     "metadata": {},
     "output_type": "execute_result"
    }
   ],
   "source": [
    "df.tail()"
   ]
  },
  {
   "cell_type": "code",
   "execution_count": 5,
   "metadata": {},
   "outputs": [
    {
     "name": "stdout",
     "output_type": "stream",
     "text": [
      "<class 'pandas.core.frame.DataFrame'>\n",
      "RangeIndex: 66535 entries, 0 to 66534\n",
      "Data columns (total 27 columns):\n",
      " #   Column               Non-Null Count  Dtype         \n",
      "---  ------               --------------  -----         \n",
      " 0   Booking ID           66535 non-null  object        \n",
      " 1   Date of Booking      66535 non-null  datetime64[ns]\n",
      " 2   Year                 66535 non-null  int64         \n",
      " 3   Time                 66535 non-null  object        \n",
      " 4   Customer ID          66535 non-null  object        \n",
      " 5   Gender               66535 non-null  object        \n",
      " 6   Age                  66535 non-null  int64         \n",
      " 7   Origin Country       66535 non-null  object        \n",
      " 8   State                66535 non-null  object        \n",
      " 9   Location             66535 non-null  object        \n",
      " 10  Destination Country  66535 non-null  object        \n",
      " 11  Destination City     66535 non-null  object        \n",
      " 12  No. Of People        66535 non-null  int64         \n",
      " 13  Check-in date        66535 non-null  datetime64[ns]\n",
      " 14  No. Of Days          66535 non-null  int64         \n",
      " 15  Check-Out Date       66535 non-null  datetime64[ns]\n",
      " 16  Rooms                66535 non-null  int64         \n",
      " 17  Hotel Name           66535 non-null  object        \n",
      " 18  Hotel Rating         66535 non-null  float64       \n",
      " 19  Payment Mode         66535 non-null  object        \n",
      " 20  Bank Name            66535 non-null  object        \n",
      " 21  No. Of Days.1        66535 non-null  int64         \n",
      " 22  Rooms.1              66535 non-null  int64         \n",
      " 23  Booking Price[SGD]   66535 non-null  int64         \n",
      " 24  Discount             66535 non-null  float64       \n",
      " 25  GST                  66535 non-null  float64       \n",
      " 26  Profit Margin        66535 non-null  float64       \n",
      "dtypes: datetime64[ns](3), float64(4), int64(8), object(12)\n",
      "memory usage: 13.7+ MB\n"
     ]
    }
   ],
   "source": [
    "df.info()"
   ]
  },
  {
   "cell_type": "code",
   "execution_count": 6,
   "metadata": {},
   "outputs": [
    {
     "name": "stdout",
     "output_type": "stream",
     "text": [
      "1796445\n",
      "(66535, 27)\n",
      "<class 'pandas.core.frame.DataFrame'>\n",
      "RangeIndex: 66535 entries, 0 to 66534\n",
      "Data columns (total 27 columns):\n",
      " #   Column               Non-Null Count  Dtype         \n",
      "---  ------               --------------  -----         \n",
      " 0   Booking ID           66535 non-null  object        \n",
      " 1   Date of Booking      66535 non-null  datetime64[ns]\n",
      " 2   Year                 66535 non-null  int64         \n",
      " 3   Time                 66535 non-null  object        \n",
      " 4   Customer ID          66535 non-null  object        \n",
      " 5   Gender               66535 non-null  object        \n",
      " 6   Age                  66535 non-null  int64         \n",
      " 7   Origin Country       66535 non-null  object        \n",
      " 8   State                66535 non-null  object        \n",
      " 9   Location             66535 non-null  object        \n",
      " 10  Destination Country  66535 non-null  object        \n",
      " 11  Destination City     66535 non-null  object        \n",
      " 12  No. Of People        66535 non-null  int64         \n",
      " 13  Check-in date        66535 non-null  datetime64[ns]\n",
      " 14  No. Of Days          66535 non-null  int64         \n",
      " 15  Check-Out Date       66535 non-null  datetime64[ns]\n",
      " 16  Rooms                66535 non-null  int64         \n",
      " 17  Hotel Name           66535 non-null  object        \n",
      " 18  Hotel Rating         66535 non-null  float64       \n",
      " 19  Payment Mode         66535 non-null  object        \n",
      " 20  Bank Name            66535 non-null  object        \n",
      " 21  No. Of Days.1        66535 non-null  int64         \n",
      " 22  Rooms.1              66535 non-null  int64         \n",
      " 23  Booking Price[SGD]   66535 non-null  int64         \n",
      " 24  Discount             66535 non-null  float64       \n",
      " 25  GST                  66535 non-null  float64       \n",
      " 26  Profit Margin        66535 non-null  float64       \n",
      "dtypes: datetime64[ns](3), float64(4), int64(8), object(12)\n",
      "memory usage: 13.7+ MB\n",
      "None\n"
     ]
    }
   ],
   "source": [
    "print(df.size)\n",
    "print(df.shape)\n",
    "print(df.info())"
   ]
  },
  {
   "cell_type": "code",
   "execution_count": 7,
   "metadata": {},
   "outputs": [
    {
     "data": {
      "text/html": [
       "<div>\n",
       "<style scoped>\n",
       "    .dataframe tbody tr th:only-of-type {\n",
       "        vertical-align: middle;\n",
       "    }\n",
       "\n",
       "    .dataframe tbody tr th {\n",
       "        vertical-align: top;\n",
       "    }\n",
       "\n",
       "    .dataframe thead th {\n",
       "        text-align: right;\n",
       "    }\n",
       "</style>\n",
       "<table border=\"1\" class=\"dataframe\">\n",
       "  <thead>\n",
       "    <tr style=\"text-align: right;\">\n",
       "      <th></th>\n",
       "      <th>Year</th>\n",
       "      <th>Age</th>\n",
       "      <th>No. Of People</th>\n",
       "      <th>No. Of Days</th>\n",
       "      <th>Rooms</th>\n",
       "      <th>Hotel Rating</th>\n",
       "      <th>No. Of Days.1</th>\n",
       "      <th>Rooms.1</th>\n",
       "      <th>Booking Price[SGD]</th>\n",
       "      <th>Discount</th>\n",
       "      <th>GST</th>\n",
       "      <th>Profit Margin</th>\n",
       "    </tr>\n",
       "  </thead>\n",
       "  <tbody>\n",
       "    <tr>\n",
       "      <th>count</th>\n",
       "      <td>66535.000000</td>\n",
       "      <td>66535.000000</td>\n",
       "      <td>66535.000000</td>\n",
       "      <td>66535.000000</td>\n",
       "      <td>66535.000000</td>\n",
       "      <td>66535.000000</td>\n",
       "      <td>66535.000000</td>\n",
       "      <td>66535.000000</td>\n",
       "      <td>66535.000000</td>\n",
       "      <td>66535.000000</td>\n",
       "      <td>6.653500e+04</td>\n",
       "      <td>66535.000000</td>\n",
       "    </tr>\n",
       "    <tr>\n",
       "      <th>mean</th>\n",
       "      <td>2015.132396</td>\n",
       "      <td>38.436402</td>\n",
       "      <td>3.995852</td>\n",
       "      <td>3.233787</td>\n",
       "      <td>2.283400</td>\n",
       "      <td>4.288508</td>\n",
       "      <td>3.233787</td>\n",
       "      <td>2.283400</td>\n",
       "      <td>214.054212</td>\n",
       "      <td>0.125473</td>\n",
       "      <td>7.000000e-02</td>\n",
       "      <td>0.188815</td>\n",
       "    </tr>\n",
       "    <tr>\n",
       "      <th>std</th>\n",
       "      <td>2.885649</td>\n",
       "      <td>11.556566</td>\n",
       "      <td>2.000116</td>\n",
       "      <td>3.377939</td>\n",
       "      <td>1.031154</td>\n",
       "      <td>0.275520</td>\n",
       "      <td>3.377939</td>\n",
       "      <td>1.031154</td>\n",
       "      <td>108.127280</td>\n",
       "      <td>0.075115</td>\n",
       "      <td>4.163368e-17</td>\n",
       "      <td>0.052766</td>\n",
       "    </tr>\n",
       "    <tr>\n",
       "      <th>min</th>\n",
       "      <td>2010.000000</td>\n",
       "      <td>19.000000</td>\n",
       "      <td>1.000000</td>\n",
       "      <td>1.000000</td>\n",
       "      <td>1.000000</td>\n",
       "      <td>3.300000</td>\n",
       "      <td>1.000000</td>\n",
       "      <td>1.000000</td>\n",
       "      <td>35.000000</td>\n",
       "      <td>0.000000</td>\n",
       "      <td>7.000000e-02</td>\n",
       "      <td>0.100000</td>\n",
       "    </tr>\n",
       "    <tr>\n",
       "      <th>25%</th>\n",
       "      <td>2013.000000</td>\n",
       "      <td>28.000000</td>\n",
       "      <td>2.000000</td>\n",
       "      <td>1.000000</td>\n",
       "      <td>1.000000</td>\n",
       "      <td>4.200000</td>\n",
       "      <td>1.000000</td>\n",
       "      <td>1.000000</td>\n",
       "      <td>125.000000</td>\n",
       "      <td>0.060000</td>\n",
       "      <td>7.000000e-02</td>\n",
       "      <td>0.140000</td>\n",
       "    </tr>\n",
       "    <tr>\n",
       "      <th>50%</th>\n",
       "      <td>2015.000000</td>\n",
       "      <td>38.000000</td>\n",
       "      <td>4.000000</td>\n",
       "      <td>2.000000</td>\n",
       "      <td>2.000000</td>\n",
       "      <td>4.300000</td>\n",
       "      <td>2.000000</td>\n",
       "      <td>2.000000</td>\n",
       "      <td>199.000000</td>\n",
       "      <td>0.130000</td>\n",
       "      <td>7.000000e-02</td>\n",
       "      <td>0.200000</td>\n",
       "    </tr>\n",
       "    <tr>\n",
       "      <th>75%</th>\n",
       "      <td>2018.000000</td>\n",
       "      <td>48.000000</td>\n",
       "      <td>6.000000</td>\n",
       "      <td>4.000000</td>\n",
       "      <td>3.000000</td>\n",
       "      <td>4.500000</td>\n",
       "      <td>4.000000</td>\n",
       "      <td>3.000000</td>\n",
       "      <td>293.000000</td>\n",
       "      <td>0.190000</td>\n",
       "      <td>7.000000e-02</td>\n",
       "      <td>0.230000</td>\n",
       "    </tr>\n",
       "    <tr>\n",
       "      <th>max</th>\n",
       "      <td>2019.000000</td>\n",
       "      <td>58.000000</td>\n",
       "      <td>7.000000</td>\n",
       "      <td>97.000000</td>\n",
       "      <td>4.000000</td>\n",
       "      <td>4.700000</td>\n",
       "      <td>97.000000</td>\n",
       "      <td>4.000000</td>\n",
       "      <td>578.000000</td>\n",
       "      <td>0.250000</td>\n",
       "      <td>7.000000e-02</td>\n",
       "      <td>0.300000</td>\n",
       "    </tr>\n",
       "  </tbody>\n",
       "</table>\n",
       "</div>"
      ],
      "text/plain": [
       "               Year           Age  No. Of People   No. Of Days         Rooms  \\\n",
       "count  66535.000000  66535.000000   66535.000000  66535.000000  66535.000000   \n",
       "mean    2015.132396     38.436402       3.995852      3.233787      2.283400   \n",
       "std        2.885649     11.556566       2.000116      3.377939      1.031154   \n",
       "min     2010.000000     19.000000       1.000000      1.000000      1.000000   \n",
       "25%     2013.000000     28.000000       2.000000      1.000000      1.000000   \n",
       "50%     2015.000000     38.000000       4.000000      2.000000      2.000000   \n",
       "75%     2018.000000     48.000000       6.000000      4.000000      3.000000   \n",
       "max     2019.000000     58.000000       7.000000     97.000000      4.000000   \n",
       "\n",
       "       Hotel Rating  No. Of Days.1       Rooms.1  Booking Price[SGD]  \\\n",
       "count  66535.000000   66535.000000  66535.000000        66535.000000   \n",
       "mean       4.288508       3.233787      2.283400          214.054212   \n",
       "std        0.275520       3.377939      1.031154          108.127280   \n",
       "min        3.300000       1.000000      1.000000           35.000000   \n",
       "25%        4.200000       1.000000      1.000000          125.000000   \n",
       "50%        4.300000       2.000000      2.000000          199.000000   \n",
       "75%        4.500000       4.000000      3.000000          293.000000   \n",
       "max        4.700000      97.000000      4.000000          578.000000   \n",
       "\n",
       "           Discount           GST  Profit Margin  \n",
       "count  66535.000000  6.653500e+04   66535.000000  \n",
       "mean       0.125473  7.000000e-02       0.188815  \n",
       "std        0.075115  4.163368e-17       0.052766  \n",
       "min        0.000000  7.000000e-02       0.100000  \n",
       "25%        0.060000  7.000000e-02       0.140000  \n",
       "50%        0.130000  7.000000e-02       0.200000  \n",
       "75%        0.190000  7.000000e-02       0.230000  \n",
       "max        0.250000  7.000000e-02       0.300000  "
      ]
     },
     "execution_count": 7,
     "metadata": {},
     "output_type": "execute_result"
    }
   ],
   "source": [
    "df.describe()"
   ]
  },
  {
   "cell_type": "code",
   "execution_count": 8,
   "metadata": {},
   "outputs": [
    {
     "data": {
      "text/plain": [
       "Index(['Booking ID', 'Date of Booking', 'Year', 'Time', 'Customer ID',\n",
       "       'Gender', 'Age', 'Origin Country', 'State', 'Location',\n",
       "       'Destination Country', 'Destination City', 'No. Of People',\n",
       "       'Check-in date', 'No. Of Days', 'Check-Out Date', 'Rooms', 'Hotel Name',\n",
       "       'Hotel Rating', 'Payment Mode', 'Bank Name', 'No. Of Days.1', 'Rooms.1',\n",
       "       'Booking Price[SGD]', 'Discount', 'GST', 'Profit Margin'],\n",
       "      dtype='object')"
      ]
     },
     "execution_count": 8,
     "metadata": {},
     "output_type": "execute_result"
    }
   ],
   "source": [
    "df.columns"
   ]
  },
  {
   "cell_type": "markdown",
   "metadata": {},
   "source": [
    "# Validity"
   ]
  },
  {
   "cell_type": "code",
   "execution_count": 9,
   "metadata": {},
   "outputs": [],
   "source": [
    "df.drop(['No. Of Days.1'],axis=1,inplace=True)\n",
    "df.drop(['Rooms.1'],axis=1,inplace=True)"
   ]
  },
  {
   "cell_type": "code",
   "execution_count": 10,
   "metadata": {},
   "outputs": [
    {
     "data": {
      "text/plain": [
       "Index(['Booking ID', 'Date of Booking', 'Year', 'Time', 'Customer ID',\n",
       "       'Gender', 'Age', 'Origin Country', 'State', 'Location',\n",
       "       'Destination Country', 'Destination City', 'No. Of People',\n",
       "       'Check-in date', 'No. Of Days', 'Check-Out Date', 'Rooms', 'Hotel Name',\n",
       "       'Hotel Rating', 'Payment Mode', 'Bank Name', 'Booking Price[SGD]',\n",
       "       'Discount', 'GST', 'Profit Margin'],\n",
       "      dtype='object')"
      ]
     },
     "execution_count": 10,
     "metadata": {},
     "output_type": "execute_result"
    }
   ],
   "source": [
    "df.columns"
   ]
  },
  {
   "cell_type": "code",
   "execution_count": 11,
   "metadata": {},
   "outputs": [
    {
     "data": {
      "text/plain": [
       "Year                     AxesSubplot(0.125,0.536818;0.110714x0.343182)\n",
       "Age                   AxesSubplot(0.257857,0.536818;0.110714x0.343182)\n",
       "No. Of People         AxesSubplot(0.390714,0.536818;0.110714x0.343182)\n",
       "No. Of Days           AxesSubplot(0.523571,0.536818;0.110714x0.343182)\n",
       "Rooms                 AxesSubplot(0.656429,0.536818;0.110714x0.343182)\n",
       "Hotel Rating          AxesSubplot(0.789286,0.536818;0.110714x0.343182)\n",
       "Booking Price[SGD]          AxesSubplot(0.125,0.125;0.110714x0.343182)\n",
       "Discount                 AxesSubplot(0.257857,0.125;0.110714x0.343182)\n",
       "GST                      AxesSubplot(0.390714,0.125;0.110714x0.343182)\n",
       "Profit Margin            AxesSubplot(0.523571,0.125;0.110714x0.343182)\n",
       "dtype: object"
      ]
     },
     "execution_count": 11,
     "metadata": {},
     "output_type": "execute_result"
    },
    {
     "data": {
      "image/png": "[encoded data removed]",
      "text/plain": [
       "<Figure size 1440x1440 with 12 Axes>"
      ]
     },
     "metadata": {
      "needs_background": "light"
     },
     "output_type": "display_data"
    }
   ],
   "source": [
    "df.plot(kind = 'box',subplots = True, layout= (2,6),sharex = False, sharey = False, figsize = (20,20))\n"
   ]
  },
  {
   "cell_type": "markdown",
   "metadata": {},
   "source": [
    "# Accuracy"
   ]
  },
  {
   "cell_type": "code",
   "execution_count": 12,
   "metadata": {},
   "outputs": [
    {
     "data": {
      "text/plain": [
       "423"
      ]
     },
     "execution_count": 12,
     "metadata": {},
     "output_type": "execute_result"
    }
   ],
   "source": [
    "#no of days outliers\n",
    "outliers=[]\n",
    "\n",
    "def detect_outlier(data_1):\n",
    "    \n",
    "    threshold=3\n",
    "    mean_1 = np.mean(data_1)\n",
    "    std_1 =np.std(data_1)\n",
    "    \n",
    "    for y in data_1:\n",
    "        z_score= (y - mean_1)/std_1 \n",
    "        if np.abs(z_score) > threshold:\n",
    "            outliers.append(y)\n",
    "    return outliers\n",
    "\n",
    "len(detect_outlier(df['No. Of Days']))"
   ]
  },
  {
   "cell_type": "code",
   "execution_count": 13,
   "metadata": {},
   "outputs": [
    {
     "data": {
      "text/html": [
       "<div>\n",
       "<style scoped>\n",
       "    .dataframe tbody tr th:only-of-type {\n",
       "        vertical-align: middle;\n",
       "    }\n",
       "\n",
       "    .dataframe tbody tr th {\n",
       "        vertical-align: top;\n",
       "    }\n",
       "\n",
       "    .dataframe thead th {\n",
       "        text-align: right;\n",
       "    }\n",
       "</style>\n",
       "<table border=\"1\" class=\"dataframe\">\n",
       "  <thead>\n",
       "    <tr style=\"text-align: right;\">\n",
       "      <th></th>\n",
       "      <th>Booking ID</th>\n",
       "      <th>Date of Booking</th>\n",
       "      <th>Year</th>\n",
       "      <th>Time</th>\n",
       "      <th>Customer ID</th>\n",
       "      <th>Gender</th>\n",
       "      <th>Age</th>\n",
       "      <th>Origin Country</th>\n",
       "      <th>State</th>\n",
       "      <th>Location</th>\n",
       "      <th>...</th>\n",
       "      <th>Hotel Name</th>\n",
       "      <th>Hotel Rating</th>\n",
       "      <th>Payment Mode</th>\n",
       "      <th>Bank Name</th>\n",
       "      <th>Booking Price[SGD]</th>\n",
       "      <th>Discount</th>\n",
       "      <th>GST</th>\n",
       "      <th>Profit Margin</th>\n",
       "      <th>date_diff</th>\n",
       "      <th>Comparision</th>\n",
       "    </tr>\n",
       "  </thead>\n",
       "  <tbody>\n",
       "  </tbody>\n",
       "</table>\n",
       "<p>0 rows × 27 columns</p>\n",
       "</div>"
      ],
      "text/plain": [
       "Empty DataFrame\n",
       "Columns: [Booking ID, Date of Booking, Year, Time, Customer ID, Gender, Age, Origin Country, State, Location, Destination Country, Destination City, No. Of People, Check-in date, No. Of Days, Check-Out Date, Rooms, Hotel Name, Hotel Rating, Payment Mode, Bank Name, Booking Price[SGD], Discount, GST, Profit Margin, date_diff, Comparision]\n",
       "Index: []\n",
       "\n",
       "[0 rows x 27 columns]"
      ]
     },
     "execution_count": 13,
     "metadata": {},
     "output_type": "execute_result"
    }
   ],
   "source": [
    "df['Check-Out Date'] = pd.to_datetime(df['Check-Out Date'])\n",
    "\n",
    "df['Check-in date']= pd.to_datetime(df['Check-in date'])\n",
    "#df.info()\n",
    "# difference between check in and check out in days\n",
    "df['date_diff'] = df['Check-Out Date']-df['Check-in date']\n",
    "#we change the data type from time delta to string to remove days\n",
    "df['date_diff'] = df['date_diff'].astype(str).str.replace('days','')\n",
    "#convert to numeric to compare the no of days\n",
    "df['date_diff'] = pd.to_numeric(df['date_diff'])\n",
    "#check whether the difference is true or false\n",
    "df['Comparision'] = np.where(df['No. Of Days'] == df['date_diff'],1,0)\n",
    "#locate where comparision is false\n",
    "df.loc[df['Comparision']==0]"
   ]
  },
  {
   "cell_type": "code",
   "execution_count": 14,
   "metadata": {},
   "outputs": [
    {
     "data": {
      "text/html": [
       "<div>\n",
       "<style scoped>\n",
       "    .dataframe tbody tr th:only-of-type {\n",
       "        vertical-align: middle;\n",
       "    }\n",
       "\n",
       "    .dataframe tbody tr th {\n",
       "        vertical-align: top;\n",
       "    }\n",
       "\n",
       "    .dataframe thead th {\n",
       "        text-align: right;\n",
       "    }\n",
       "</style>\n",
       "<table border=\"1\" class=\"dataframe\">\n",
       "  <thead>\n",
       "    <tr style=\"text-align: right;\">\n",
       "      <th></th>\n",
       "      <th>Booking ID</th>\n",
       "      <th>Date of Booking</th>\n",
       "      <th>Year</th>\n",
       "      <th>Time</th>\n",
       "      <th>Customer ID</th>\n",
       "      <th>Gender</th>\n",
       "      <th>Age</th>\n",
       "      <th>Origin Country</th>\n",
       "      <th>State</th>\n",
       "      <th>Location</th>\n",
       "      <th>...</th>\n",
       "      <th>Hotel Name</th>\n",
       "      <th>Hotel Rating</th>\n",
       "      <th>Payment Mode</th>\n",
       "      <th>Bank Name</th>\n",
       "      <th>Booking Price[SGD]</th>\n",
       "      <th>Discount</th>\n",
       "      <th>GST</th>\n",
       "      <th>Profit Margin</th>\n",
       "      <th>date_diff</th>\n",
       "      <th>Comparision</th>\n",
       "    </tr>\n",
       "  </thead>\n",
       "  <tbody>\n",
       "    <tr>\n",
       "      <th>0</th>\n",
       "      <td>DDMY00001</td>\n",
       "      <td>2010-01-01</td>\n",
       "      <td>2010</td>\n",
       "      <td>10:49:40</td>\n",
       "      <td>MY00001</td>\n",
       "      <td>Male</td>\n",
       "      <td>42</td>\n",
       "      <td>Malaysia</td>\n",
       "      <td>Johor</td>\n",
       "      <td>Iskandar Puteri</td>\n",
       "      <td>...</td>\n",
       "      <td>Hotel Triton</td>\n",
       "      <td>4.3</td>\n",
       "      <td>Wallet</td>\n",
       "      <td>United Overseas Bank (UOB)</td>\n",
       "      <td>243</td>\n",
       "      <td>0.01</td>\n",
       "      <td>0.07</td>\n",
       "      <td>0.25</td>\n",
       "      <td>8</td>\n",
       "      <td>1</td>\n",
       "    </tr>\n",
       "    <tr>\n",
       "      <th>1</th>\n",
       "      <td>DDID00002</td>\n",
       "      <td>2010-01-01</td>\n",
       "      <td>2010</td>\n",
       "      <td>09:19:47</td>\n",
       "      <td>ID00001</td>\n",
       "      <td>Female</td>\n",
       "      <td>44</td>\n",
       "      <td>Indonesia</td>\n",
       "      <td>Ciawi</td>\n",
       "      <td>West Java</td>\n",
       "      <td>...</td>\n",
       "      <td>Enchanted Isle</td>\n",
       "      <td>4.2</td>\n",
       "      <td>Wallet</td>\n",
       "      <td>EZ-Link</td>\n",
       "      <td>312</td>\n",
       "      <td>0.00</td>\n",
       "      <td>0.07</td>\n",
       "      <td>0.24</td>\n",
       "      <td>1</td>\n",
       "      <td>1</td>\n",
       "    </tr>\n",
       "    <tr>\n",
       "      <th>2</th>\n",
       "      <td>DDSG00003</td>\n",
       "      <td>2010-01-01</td>\n",
       "      <td>2010</td>\n",
       "      <td>11:52:56</td>\n",
       "      <td>SG00001</td>\n",
       "      <td>Female</td>\n",
       "      <td>31</td>\n",
       "      <td>Singapore</td>\n",
       "      <td>Central</td>\n",
       "      <td>Rochor</td>\n",
       "      <td>...</td>\n",
       "      <td>Seacoast Hotel</td>\n",
       "      <td>4.5</td>\n",
       "      <td>Credit Card</td>\n",
       "      <td>Grab</td>\n",
       "      <td>338</td>\n",
       "      <td>0.19</td>\n",
       "      <td>0.07</td>\n",
       "      <td>0.20</td>\n",
       "      <td>7</td>\n",
       "      <td>1</td>\n",
       "    </tr>\n",
       "    <tr>\n",
       "      <th>3</th>\n",
       "      <td>DDSG00004</td>\n",
       "      <td>2010-01-01</td>\n",
       "      <td>2010</td>\n",
       "      <td>13:44:40</td>\n",
       "      <td>SG00002</td>\n",
       "      <td>Male</td>\n",
       "      <td>28</td>\n",
       "      <td>Singapore</td>\n",
       "      <td>North</td>\n",
       "      <td>Yishun</td>\n",
       "      <td>...</td>\n",
       "      <td>Night In Paradise</td>\n",
       "      <td>4.2</td>\n",
       "      <td>Debit Card</td>\n",
       "      <td>DBS Paylah</td>\n",
       "      <td>254</td>\n",
       "      <td>0.19</td>\n",
       "      <td>0.07</td>\n",
       "      <td>0.13</td>\n",
       "      <td>4</td>\n",
       "      <td>1</td>\n",
       "    </tr>\n",
       "    <tr>\n",
       "      <th>4</th>\n",
       "      <td>DDKH00005</td>\n",
       "      <td>2010-01-01</td>\n",
       "      <td>2010</td>\n",
       "      <td>05:38:26</td>\n",
       "      <td>KH00001</td>\n",
       "      <td>Male</td>\n",
       "      <td>44</td>\n",
       "      <td>Cambodia</td>\n",
       "      <td>Phnom Trop</td>\n",
       "      <td>Pursat</td>\n",
       "      <td>...</td>\n",
       "      <td>Tiny Digs Hotel</td>\n",
       "      <td>4.6</td>\n",
       "      <td>Wallet</td>\n",
       "      <td>Bank of Singapore (BOS)</td>\n",
       "      <td>313</td>\n",
       "      <td>0.15</td>\n",
       "      <td>0.07</td>\n",
       "      <td>0.17</td>\n",
       "      <td>3</td>\n",
       "      <td>1</td>\n",
       "    </tr>\n",
       "  </tbody>\n",
       "</table>\n",
       "<p>5 rows × 27 columns</p>\n",
       "</div>"
      ],
      "text/plain": [
       "  Booking ID Date of Booking  Year      Time Customer ID  Gender  Age  \\\n",
       "0  DDMY00001      2010-01-01  2010  10:49:40     MY00001    Male   42   \n",
       "1  DDID00002      2010-01-01  2010  09:19:47     ID00001  Female   44   \n",
       "2  DDSG00003      2010-01-01  2010  11:52:56     SG00001  Female   31   \n",
       "3  DDSG00004      2010-01-01  2010  13:44:40     SG00002    Male   28   \n",
       "4  DDKH00005      2010-01-01  2010  05:38:26     KH00001    Male   44   \n",
       "\n",
       "  Origin Country       State         Location  ...         Hotel Name  \\\n",
       "0       Malaysia       Johor  Iskandar Puteri  ...       Hotel Triton   \n",
       "1      Indonesia       Ciawi        West Java  ...     Enchanted Isle   \n",
       "2      Singapore     Central           Rochor  ...     Seacoast Hotel   \n",
       "3      Singapore       North           Yishun  ...  Night In Paradise   \n",
       "4       Cambodia  Phnom Trop           Pursat  ...    Tiny Digs Hotel   \n",
       "\n",
       "  Hotel Rating  Payment Mode                   Bank Name  Booking Price[SGD]  \\\n",
       "0          4.3        Wallet  United Overseas Bank (UOB)                 243   \n",
       "1          4.2        Wallet                     EZ-Link                 312   \n",
       "2          4.5   Credit Card                        Grab                 338   \n",
       "3          4.2    Debit Card                  DBS Paylah                 254   \n",
       "4          4.6        Wallet     Bank of Singapore (BOS)                 313   \n",
       "\n",
       "  Discount   GST Profit Margin  date_diff Comparision  \n",
       "0     0.01  0.07          0.25          8           1  \n",
       "1     0.00  0.07          0.24          1           1  \n",
       "2     0.19  0.07          0.20          7           1  \n",
       "3     0.19  0.07          0.13          4           1  \n",
       "4     0.15  0.07          0.17          3           1  \n",
       "\n",
       "[5 rows x 27 columns]"
      ]
     },
     "execution_count": 14,
     "metadata": {},
     "output_type": "execute_result"
    }
   ],
   "source": [
    "df.head()"
   ]
  },
  {
   "cell_type": "code",
   "execution_count": 15,
   "metadata": {},
   "outputs": [
    {
     "data": {
      "text/plain": [
       "16"
      ]
     },
     "execution_count": 15,
     "metadata": {},
     "output_type": "execute_result"
    }
   ],
   "source": [
    "# booking price action\n",
    "outliers=[]\n",
    "\n",
    "len(detect_outlier(df['Booking Price[SGD]']))"
   ]
  },
  {
   "cell_type": "code",
   "execution_count": 16,
   "metadata": {},
   "outputs": [
    {
     "data": {
      "text/plain": [
       "1296"
      ]
     },
     "execution_count": 16,
     "metadata": {},
     "output_type": "execute_result"
    }
   ],
   "source": [
    "#Hotel rating\n",
    "outliers=[]\n",
    "\n",
    "len(detect_outlier(df['Hotel Rating']))"
   ]
  },
  {
   "cell_type": "markdown",
   "metadata": {},
   "source": [
    "# Completeness"
   ]
  },
  {
   "cell_type": "code",
   "execution_count": 17,
   "metadata": {},
   "outputs": [
    {
     "data": {
      "text/plain": [
       "Booking ID             0\n",
       "Date of Booking        0\n",
       "Year                   0\n",
       "Time                   0\n",
       "Customer ID            0\n",
       "Gender                 0\n",
       "Age                    0\n",
       "Origin Country         0\n",
       "State                  0\n",
       "Location               0\n",
       "Destination Country    0\n",
       "Destination City       0\n",
       "No. Of People          0\n",
       "Check-in date          0\n",
       "No. Of Days            0\n",
       "Check-Out Date         0\n",
       "Rooms                  0\n",
       "Hotel Name             0\n",
       "Hotel Rating           0\n",
       "Payment Mode           0\n",
       "Bank Name              0\n",
       "Booking Price[SGD]     0\n",
       "Discount               0\n",
       "GST                    0\n",
       "Profit Margin          0\n",
       "date_diff              0\n",
       "Comparision            0\n",
       "dtype: int64"
      ]
     },
     "execution_count": 17,
     "metadata": {},
     "output_type": "execute_result"
    }
   ],
   "source": [
    "#null values\n",
    "df.isnull().sum()  #no null values"
   ]
  },
  {
   "cell_type": "markdown",
   "metadata": {},
   "source": [
    "# Conistency"
   ]
  },
  {
   "cell_type": "code",
   "execution_count": 18,
   "metadata": {},
   "outputs": [
    {
     "data": {
      "text/plain": [
       "0"
      ]
     },
     "execution_count": 18,
     "metadata": {},
     "output_type": "execute_result"
    }
   ],
   "source": [
    "#duplicates\n",
    "df.duplicated().sum()"
   ]
  },
  {
   "cell_type": "code",
   "execution_count": 19,
   "metadata": {},
   "outputs": [
    {
     "data": {
      "text/plain": [
       "Index(['Booking ID', 'Date of Booking', 'Year', 'Time', 'Customer ID',\n",
       "       'Gender', 'Age', 'Origin Country', 'State', 'Location',\n",
       "       'Destination Country', 'Destination City', 'No. Of People',\n",
       "       'Check-in date', 'No. Of Days', 'Check-Out Date', 'Rooms', 'Hotel Name',\n",
       "       'Hotel Rating', 'Payment Mode', 'Bank Name', 'Booking Price[SGD]',\n",
       "       'Discount', 'GST', 'Profit Margin', 'date_diff', 'Comparision'],\n",
       "      dtype='object')"
      ]
     },
     "execution_count": 19,
     "metadata": {},
     "output_type": "execute_result"
    }
   ],
   "source": [
    "df.columns"
   ]
  },
  {
   "cell_type": "markdown",
   "metadata": {},
   "source": [
    "# Uniformity"
   ]
  },
  {
   "cell_type": "code",
   "execution_count": 20,
   "metadata": {},
   "outputs": [],
   "source": [
    "df.columns = ['Booking_ID', 'Date_of_Booking', 'Year', 'Time', 'Customer_ID',\n",
    "       'Gender', 'Age', 'Origin_Country', 'State', 'Location',\n",
    "       'Destination_Country', 'Destination_City', 'No_Of_People',\n",
    "       'Check_in_date', 'No_Of_Days', 'Check_Out_Date', 'Rooms', 'Hotel_Name',\n",
    "       'Hotel_Rating', 'Payment_Mode', 'Bank_Name','Booking_Price[SGD]', 'Discount', 'GST', 'Profit_Margin','date_diff','Comparision']"
   ]
  },
  {
   "cell_type": "code",
   "execution_count": 21,
   "metadata": {},
   "outputs": [
    {
     "data": {
      "text/html": [
       "<div>\n",
       "<style scoped>\n",
       "    .dataframe tbody tr th:only-of-type {\n",
       "        vertical-align: middle;\n",
       "    }\n",
       "\n",
       "    .dataframe tbody tr th {\n",
       "        vertical-align: top;\n",
       "    }\n",
       "\n",
       "    .dataframe thead th {\n",
       "        text-align: right;\n",
       "    }\n",
       "</style>\n",
       "<table border=\"1\" class=\"dataframe\">\n",
       "  <thead>\n",
       "    <tr style=\"text-align: right;\">\n",
       "      <th></th>\n",
       "      <th>Booking_ID</th>\n",
       "      <th>Date_of_Booking</th>\n",
       "      <th>Year</th>\n",
       "      <th>Time</th>\n",
       "      <th>Customer_ID</th>\n",
       "      <th>Gender</th>\n",
       "      <th>Age</th>\n",
       "      <th>Origin_Country</th>\n",
       "      <th>State</th>\n",
       "      <th>Location</th>\n",
       "      <th>...</th>\n",
       "      <th>Hotel_Name</th>\n",
       "      <th>Hotel_Rating</th>\n",
       "      <th>Payment_Mode</th>\n",
       "      <th>Bank_Name</th>\n",
       "      <th>Booking_Price[SGD]</th>\n",
       "      <th>Discount</th>\n",
       "      <th>GST</th>\n",
       "      <th>Profit_Margin</th>\n",
       "      <th>date_diff</th>\n",
       "      <th>Comparision</th>\n",
       "    </tr>\n",
       "  </thead>\n",
       "  <tbody>\n",
       "    <tr>\n",
       "      <th>0</th>\n",
       "      <td>DDMY00001</td>\n",
       "      <td>2010-01-01</td>\n",
       "      <td>2010</td>\n",
       "      <td>10:49:40</td>\n",
       "      <td>MY00001</td>\n",
       "      <td>Male</td>\n",
       "      <td>42</td>\n",
       "      <td>Malaysia</td>\n",
       "      <td>Johor</td>\n",
       "      <td>Iskandar Puteri</td>\n",
       "      <td>...</td>\n",
       "      <td>Hotel Triton</td>\n",
       "      <td>4.3</td>\n",
       "      <td>Wallet</td>\n",
       "      <td>United Overseas Bank (UOB)</td>\n",
       "      <td>243</td>\n",
       "      <td>0.01</td>\n",
       "      <td>0.07</td>\n",
       "      <td>0.25</td>\n",
       "      <td>8</td>\n",
       "      <td>1</td>\n",
       "    </tr>\n",
       "    <tr>\n",
       "      <th>1</th>\n",
       "      <td>DDID00002</td>\n",
       "      <td>2010-01-01</td>\n",
       "      <td>2010</td>\n",
       "      <td>09:19:47</td>\n",
       "      <td>ID00001</td>\n",
       "      <td>Female</td>\n",
       "      <td>44</td>\n",
       "      <td>Indonesia</td>\n",
       "      <td>Ciawi</td>\n",
       "      <td>West Java</td>\n",
       "      <td>...</td>\n",
       "      <td>Enchanted Isle</td>\n",
       "      <td>4.2</td>\n",
       "      <td>Wallet</td>\n",
       "      <td>EZ-Link</td>\n",
       "      <td>312</td>\n",
       "      <td>0.00</td>\n",
       "      <td>0.07</td>\n",
       "      <td>0.24</td>\n",
       "      <td>1</td>\n",
       "      <td>1</td>\n",
       "    </tr>\n",
       "    <tr>\n",
       "      <th>2</th>\n",
       "      <td>DDSG00003</td>\n",
       "      <td>2010-01-01</td>\n",
       "      <td>2010</td>\n",
       "      <td>11:52:56</td>\n",
       "      <td>SG00001</td>\n",
       "      <td>Female</td>\n",
       "      <td>31</td>\n",
       "      <td>Singapore</td>\n",
       "      <td>Central</td>\n",
       "      <td>Rochor</td>\n",
       "      <td>...</td>\n",
       "      <td>Seacoast Hotel</td>\n",
       "      <td>4.5</td>\n",
       "      <td>Credit Card</td>\n",
       "      <td>Grab</td>\n",
       "      <td>338</td>\n",
       "      <td>0.19</td>\n",
       "      <td>0.07</td>\n",
       "      <td>0.20</td>\n",
       "      <td>7</td>\n",
       "      <td>1</td>\n",
       "    </tr>\n",
       "    <tr>\n",
       "      <th>3</th>\n",
       "      <td>DDSG00004</td>\n",
       "      <td>2010-01-01</td>\n",
       "      <td>2010</td>\n",
       "      <td>13:44:40</td>\n",
       "      <td>SG00002</td>\n",
       "      <td>Male</td>\n",
       "      <td>28</td>\n",
       "      <td>Singapore</td>\n",
       "      <td>North</td>\n",
       "      <td>Yishun</td>\n",
       "      <td>...</td>\n",
       "      <td>Night In Paradise</td>\n",
       "      <td>4.2</td>\n",
       "      <td>Debit Card</td>\n",
       "      <td>DBS Paylah</td>\n",
       "      <td>254</td>\n",
       "      <td>0.19</td>\n",
       "      <td>0.07</td>\n",
       "      <td>0.13</td>\n",
       "      <td>4</td>\n",
       "      <td>1</td>\n",
       "    </tr>\n",
       "    <tr>\n",
       "      <th>4</th>\n",
       "      <td>DDKH00005</td>\n",
       "      <td>2010-01-01</td>\n",
       "      <td>2010</td>\n",
       "      <td>05:38:26</td>\n",
       "      <td>KH00001</td>\n",
       "      <td>Male</td>\n",
       "      <td>44</td>\n",
       "      <td>Cambodia</td>\n",
       "      <td>Phnom Trop</td>\n",
       "      <td>Pursat</td>\n",
       "      <td>...</td>\n",
       "      <td>Tiny Digs Hotel</td>\n",
       "      <td>4.6</td>\n",
       "      <td>Wallet</td>\n",
       "      <td>Bank of Singapore (BOS)</td>\n",
       "      <td>313</td>\n",
       "      <td>0.15</td>\n",
       "      <td>0.07</td>\n",
       "      <td>0.17</td>\n",
       "      <td>3</td>\n",
       "      <td>1</td>\n",
       "    </tr>\n",
       "  </tbody>\n",
       "</table>\n",
       "<p>5 rows × 27 columns</p>\n",
       "</div>"
      ],
      "text/plain": [
       "  Booking_ID Date_of_Booking  Year      Time Customer_ID  Gender  Age  \\\n",
       "0  DDMY00001      2010-01-01  2010  10:49:40     MY00001    Male   42   \n",
       "1  DDID00002      2010-01-01  2010  09:19:47     ID00001  Female   44   \n",
       "2  DDSG00003      2010-01-01  2010  11:52:56     SG00001  Female   31   \n",
       "3  DDSG00004      2010-01-01  2010  13:44:40     SG00002    Male   28   \n",
       "4  DDKH00005      2010-01-01  2010  05:38:26     KH00001    Male   44   \n",
       "\n",
       "  Origin_Country       State         Location  ...         Hotel_Name  \\\n",
       "0       Malaysia       Johor  Iskandar Puteri  ...       Hotel Triton   \n",
       "1      Indonesia       Ciawi        West Java  ...     Enchanted Isle   \n",
       "2      Singapore     Central           Rochor  ...     Seacoast Hotel   \n",
       "3      Singapore       North           Yishun  ...  Night In Paradise   \n",
       "4       Cambodia  Phnom Trop           Pursat  ...    Tiny Digs Hotel   \n",
       "\n",
       "  Hotel_Rating  Payment_Mode                   Bank_Name  Booking_Price[SGD]  \\\n",
       "0          4.3        Wallet  United Overseas Bank (UOB)                 243   \n",
       "1          4.2        Wallet                     EZ-Link                 312   \n",
       "2          4.5   Credit Card                        Grab                 338   \n",
       "3          4.2    Debit Card                  DBS Paylah                 254   \n",
       "4          4.6        Wallet     Bank of Singapore (BOS)                 313   \n",
       "\n",
       "  Discount   GST Profit_Margin  date_diff Comparision  \n",
       "0     0.01  0.07          0.25          8           1  \n",
       "1     0.00  0.07          0.24          1           1  \n",
       "2     0.19  0.07          0.20          7           1  \n",
       "3     0.19  0.07          0.13          4           1  \n",
       "4     0.15  0.07          0.17          3           1  \n",
       "\n",
       "[5 rows x 27 columns]"
      ]
     },
     "execution_count": 21,
     "metadata": {},
     "output_type": "execute_result"
    }
   ],
   "source": [
    "df.head()"
   ]
  },
  {
   "cell_type": "code",
   "execution_count": null,
   "metadata": {},
   "outputs": [],
   "source": []
  },
  {
   "cell_type": "markdown",
   "metadata": {},
   "source": [
    "# ANALYSIS QUESTIONS"
   ]
  },
  {
   "cell_type": "code",
   "execution_count": 22,
   "metadata": {},
   "outputs": [
    {
     "name": "stdout",
     "output_type": "stream",
     "text": [
      "Top 3 ,most frequently used hotels,Hotel_Name\n",
      "Grand Hyatt       221\n",
      "Secret Mirage     146\n",
      "Enchanted Isle    146\n",
      "Name: Booking_ID, dtype: int64\n",
      "----------------------------------------------------------------------------\n",
      "Top 3 ,less frequently used hotels,Hotel_Name\n",
      "The Cottage Motel     73\n",
      "Simply Charmed B&B    75\n",
      "Star of Africa B&B    76\n",
      "Name: Booking_ID, dtype: int64\n"
     ]
    }
   ],
   "source": [
    "# Objective 1: Which are the top destinations for customers?\n",
    "x = df.groupby(['Hotel_Name'])['Booking_ID'].count()\n",
    "print(f'Top 3 ,most frequently used hotels,{x.sort_values(ascending=False).head(3)}')\n",
    "print('----------------------------------------------------------------------------')\n",
    "print(f'Top 3 ,less frequently used hotels,{x.sort_values(ascending=True).head(3)}')\n"
   ]
  },
  {
   "cell_type": "code",
   "execution_count": 23,
   "metadata": {},
   "outputs": [
    {
     "name": "stdout",
     "output_type": "stream",
     "text": [
      "Most visited  Destination_Country\n",
      "New Zealand    3447\n",
      "Nepal          3446\n",
      "Egypt          3422\n",
      "Name: Booking_ID, dtype: int64\n",
      "Least Visited  Destination_Country\n",
      "Iran      3172\n",
      "Kenya     3233\n",
      "Brazil    3241\n",
      "Name: Booking_ID, dtype: int64\n",
      "--------------------------------------------\n",
      "Most visited  Destination_City\n",
      "Hamilton          1084\n",
      "Bello              646\n",
      "Belo Horizonte     635\n",
      "Name: Booking_ID, dtype: int64\n",
      "least visited  Destination_City\n",
      "Curitiba     479\n",
      "Kobe         486\n",
      "Hyderabad    492\n",
      "Name: Booking_ID, dtype: int64\n"
     ]
    }
   ],
   "source": [
    "# 2.\tWhich are 3 top destinations for customers both countries and cities\n",
    "x = df.groupby(['Destination_Country'])['Booking_ID'].count()\n",
    "print('Most visited ', x.sort_values(ascending=False).head(3))\n",
    "print('Least Visited ',x.sort_values(ascending=True).head(3))\n",
    "print('--------------------------------------------')\n",
    "x = df.groupby(['Destination_City'])['Booking_ID'].count()\n",
    "print('Most visited ' , x.sort_values(ascending=False).head(3))\n",
    "print('least visited ',x.sort_values(ascending=True).head(3))"
   ]
  },
  {
   "cell_type": "code",
   "execution_count": 24,
   "metadata": {},
   "outputs": [
    {
     "name": "stdout",
     "output_type": "stream",
     "text": [
      "Grand Hyatt ... belongs to the top destination counties\n",
      "Secret Mirage ... belongs to the top destination counties\n",
      "Enchanted Isle ... belongs to the top destination counties\n",
      "\n",
      ">>>>>> As a list\n",
      "['Grand Hyatt', 'Secret Mirage', 'Enchanted Isle']\n"
     ]
    }
   ],
   "source": [
    "# 3.\tAre the top 3 hotel located in top destination countries?\n",
    "zeeland_nepal = df[(df['Destination_Country'] == 'New Zealand') | (df['Destination_Country'] == 'Nepal')]\n",
    "lst = zeeland_nepal['Hotel_Name'].unique()\n",
    "hotels = ['Grand Hyatt', 'Secret Mirage', 'Enchanted Isle']\n",
    "\n",
    "for item in hotels:\n",
    "    if item not in lst:\n",
    "        print(item + 'does not belong to the top destination counties')\n",
    "    else: \n",
    "        print(item + ' ... belongs to the top destination counties')\n",
    "\n",
    "#Alternatevely \n",
    "\n",
    "main_list = [item for item in hotels if item in lst]\n",
    "print('')\n",
    "print('>>>>>> As a list')\n",
    "print(main_list)"
   ]
  },
  {
   "cell_type": "code",
   "execution_count": 25,
   "metadata": {},
   "outputs": [],
   "source": [
    "# Objective 2: To provide insights on Top Countries Customers prefer to visit.\n"
   ]
  },
  {
   "cell_type": "code",
   "execution_count": 26,
   "metadata": {},
   "outputs": [
    {
     "name": "stdout",
     "output_type": "stream",
     "text": [
      "Minimum rarings is 3.3\n",
      "Maximum rating is 4.7\n",
      "------------------------------------------------------------\n",
      "The countries with the most lowest hotel ratings\n",
      "Ireland     51\n",
      "China       57\n",
      "Iceland     57\n",
      "Italy       57\n",
      "Maldives    57\n",
      "Name: Destination_Country, dtype: int64\n",
      "------------------------------------------------------------\n",
      "The countries with the most highest hotel ratings\n",
      "Egypt          98\n",
      "France         87\n",
      "New Zealand    73\n",
      "Iceland        72\n",
      "Canada         72\n",
      "Name: Destination_Country, dtype: int64\n"
     ]
    }
   ],
   "source": [
    "# 4.\twhich counties have highest and lowest hotel ratings\n",
    "print('Minimum rarings is', df['Hotel_Rating'].min())\n",
    "print('Maximum rating is', df['Hotel_Rating'].max())\n",
    "print('------------------------------------------------------------')\n",
    "\n",
    "min_ratings = df[df['Hotel_Rating'] == df['Hotel_Rating'].min()]\n",
    "print(\"The countries with the most lowest hotel ratings\")\n",
    "print(min_ratings['Destination_Country'].value_counts().sort_values(ascending=True).head(5))\n",
    "print('------------------------------------------------------------')\n",
    "\n",
    "max_ratings = df[df['Hotel_Rating'] == df['Hotel_Rating'].max()]\n",
    "print(\"The countries with the most highest hotel ratings\")\n",
    "print(max_ratings['Destination_Country'].value_counts().sort_values(ascending=False).head(5))"
   ]
  },
  {
   "cell_type": "code",
   "execution_count": 27,
   "metadata": {},
   "outputs": [
    {
     "name": "stdout",
     "output_type": "stream",
     "text": [
      "Popilar countries\n",
      "Destination_Country\n",
      "New Zealand    3447\n",
      "Nepal          3446\n",
      "Egypt          3422\n",
      "Colombia       3408\n",
      "China          3391\n",
      "Name: Booking_ID, dtype: int64\n",
      "*******************************************\n"
     ]
    },
    {
     "data": {
      "text/plain": [
       "Payment_Mode\n",
       "COD                 3401\n",
       "Credit Card         3449\n",
       "Debit Card          3436\n",
       "Internet Banking    3465\n",
       "Wallet              3363\n",
       "Name: Booking_ID, dtype: int64"
      ]
     },
     "execution_count": 27,
     "metadata": {},
     "output_type": "execute_result"
    }
   ],
   "source": [
    "# 5.\twhich are the payment methods that’s are used in the top 5 countries\n",
    "print('Popilar countries')\n",
    "print(df.groupby(['Destination_Country'])['Booking_ID'].count().sort_values(ascending=False).head(5))\n",
    "\n",
    "print('*******************************************')\n",
    "mf = df[(df['Destination_Country'] == 'New Zealand') |(df['Destination_Country'] == 'Nepal') | (df['Destination_Country'] == 'Egypt') | (df['Destination_Country'] == 'Colombia') | (df['Destination_Country'] == 'China')]\n",
    "\n",
    "\n",
    "mf.groupby('Payment_Mode')['Booking_ID'].count()"
   ]
  },
  {
   "cell_type": "code",
   "execution_count": 28,
   "metadata": {},
   "outputs": [
    {
     "name": "stdout",
     "output_type": "stream",
     "text": [
      "Country with the highest profit\n",
      "Destination_Country\n",
      "New Zealand    136193.11\n",
      "Name: Profit, dtype: float64\n",
      "\n",
      "The county with the lowest proft\n"
     ]
    },
    {
     "data": {
      "text/plain": [
       "Destination_Country\n",
       "Iran    124134.0\n",
       "Name: Profit, dtype: float64"
      ]
     },
     "execution_count": 28,
     "metadata": {},
     "output_type": "execute_result"
    }
   ],
   "source": [
    "# 6.\tWhich countries that profit margin?\n",
    "df['Profit'] = (df['Booking_Price[SGD]'] * df['Profit_Margin'])\n",
    "print('Country with the highest profit')\n",
    "print(df.groupby(['Destination_Country'])['Profit'].sum().sort_values(ascending = False).head(1))\n",
    "\n",
    "print('')\n",
    "print('The county with the lowest proft')\n",
    "df.groupby(['Destination_Country'])['Profit'].sum().sort_values(ascending = True).head(1)"
   ]
  },
  {
   "cell_type": "code",
   "execution_count": 29,
   "metadata": {},
   "outputs": [
    {
     "data": {
      "text/plain": [
       "Destination_Country\n",
       "Nepal       432.60\n",
       "China       432.52\n",
       "Colombia    432.48\n",
       "Name: Discount, dtype: float64"
      ]
     },
     "execution_count": 29,
     "metadata": {},
     "output_type": "execute_result"
    }
   ],
   "source": [
    "# 7.\tWhich countries give more discount?\n",
    "df['Total_Discount'] = df['Booking_Price[SGD]'] * df['Discount']\n",
    "df.groupby(['Destination_Country'])['Discount'].sum().sort_values(ascending = False).head(3)"
   ]
  },
  {
   "cell_type": "code",
   "execution_count": 30,
   "metadata": {},
   "outputs": [
    {
     "name": "stdout",
     "output_type": "stream",
     "text": [
      "The country that recieves the highest tax is: \n",
      "Destination_Country\n",
      "New Zealand    51654.75\n",
      "Colombia       51388.75\n",
      "Name: Tax, dtype: float64\n",
      "The country that recieves the lowest tax is: \n"
     ]
    },
    {
     "data": {
      "text/plain": [
       "Destination_Country\n",
       "Iran     47663.63\n",
       "Japan    48019.93\n",
       "Name: Tax, dtype: float64"
      ]
     },
     "execution_count": 30,
     "metadata": {},
     "output_type": "execute_result"
    }
   ],
   "source": [
    "# 8.\tWhich countries charge high and low tax?\n",
    "df['Tax'] = df['Booking_Price[SGD]'] * df['GST']\n",
    "print('The country that recieves the highest tax is: ')\n",
    "print(df.groupby('Destination_Country')['Tax'].sum().sort_values(ascending=False).head(2))\n",
    "\n",
    "print('The country that recieves the lowest tax is: ')\n",
    "df.groupby('Destination_Country')['Tax'].sum().sort_values(ascending=True).head(2)"
   ]
  },
  {
   "cell_type": "code",
   "execution_count": 31,
   "metadata": {},
   "outputs": [],
   "source": [
    "# Objective 3: To evaluate customer profile and demographics?\n"
   ]
  },
  {
   "cell_type": "code",
   "execution_count": 32,
   "metadata": {},
   "outputs": [
    {
     "name": "stdout",
     "output_type": "stream",
     "text": [
      "1\n",
      "97\n",
      "3.233786728789359\n"
     ]
    }
   ],
   "source": [
    "# 9.\tCalculate the maximum, minimum and average number of days’ customers stay in a given hotel\n",
    "print(df['No_Of_Days'].min())\n",
    "print(df['No_Of_Days'].max())\n",
    "print(df['No_Of_Days'].mean())"
   ]
  },
  {
   "cell_type": "code",
   "execution_count": 33,
   "metadata": {},
   "outputs": [
    {
     "data": {
      "text/plain": [
       "Internet Banking    13445\n",
       "Debit Card          13363\n",
       "Wallet              13314\n",
       "Credit Card         13265\n",
       "COD                 13148\n",
       "Name: Payment_Mode, dtype: int64"
      ]
     },
     "execution_count": 33,
     "metadata": {},
     "output_type": "execute_result"
    }
   ],
   "source": [
    "#10. Which is the most used payment method?\n",
    "\n",
    "df['Payment_Mode'].value_counts().head()\n"
   ]
  },
  {
   "cell_type": "code",
   "execution_count": 34,
   "metadata": {},
   "outputs": [
    {
     "data": {
      "text/plain": [
       "Origin_Country\n",
       "Thailand    12170\n",
       "Malaysia    12049\n",
       "Name: Customer_ID, dtype: int64"
      ]
     },
     "execution_count": 34,
     "metadata": {},
     "output_type": "execute_result"
    }
   ],
   "source": [
    "# 11.\tWhich top 2 countries do most customers come from?\n",
    "df.groupby('Origin_Country')['Customer_ID'].count().sort_values(ascending=False).head(2)\n"
   ]
  },
  {
   "cell_type": "code",
   "execution_count": 35,
   "metadata": {},
   "outputs": [
    {
     "data": {
      "text/plain": [
       "State\n",
       "Central    4820\n",
       "West       2617\n",
       "Name: Customer_ID, dtype: int64"
      ]
     },
     "execution_count": 35,
     "metadata": {},
     "output_type": "execute_result"
    }
   ],
   "source": [
    "# 12.\tWhich states provide many customers?\n",
    "df.groupby('State')['Customer_ID'].count().sort_values(ascending=False).head(2)"
   ]
  },
  {
   "cell_type": "code",
   "execution_count": 36,
   "metadata": {},
   "outputs": [
    {
     "data": {
      "text/plain": [
       "Jakarta      3519\n",
       "West Java    1521\n",
       "Papua        1458\n",
       "Name: Location, dtype: int64"
      ]
     },
     "execution_count": 36,
     "metadata": {},
     "output_type": "execute_result"
    }
   ],
   "source": [
    "# 13.\tWhere are many customers located?\n",
    "df['Location'].value_counts().head(3)\n"
   ]
  },
  {
   "cell_type": "code",
   "execution_count": 37,
   "metadata": {},
   "outputs": [
    {
     "data": {
      "text/plain": [
       "Gender\n",
       "Female    33387\n",
       "Male      33148\n",
       "Name: Customer_ID, dtype: int64"
      ]
     },
     "execution_count": 37,
     "metadata": {},
     "output_type": "execute_result"
    }
   ],
   "source": [
    "# 14.\tWhich gender love travelling?\n",
    "df.groupby('Gender')['Customer_ID'].count()"
   ]
  },
  {
   "cell_type": "code",
   "execution_count": 38,
   "metadata": {},
   "outputs": [
    {
     "data": {
      "text/plain": [
       "22    1776\n",
       "56    1754\n",
       "25    1742\n",
       "28    1735\n",
       "44    1732\n",
       "47    1726\n",
       "46    1722\n",
       "19    1722\n",
       "58    1720\n",
       "33    1715\n",
       "38    1704\n",
       "31    1703\n",
       "32    1696\n",
       "34    1688\n",
       "43    1675\n",
       "54    1671\n",
       "40    1665\n",
       "51    1659\n",
       "41    1656\n",
       "30    1652\n",
       "50    1651\n",
       "26    1651\n",
       "29    1649\n",
       "27    1647\n",
       "21    1645\n",
       "24    1645\n",
       "35    1639\n",
       "39    1638\n",
       "23    1630\n",
       "45    1625\n",
       "37    1621\n",
       "55    1617\n",
       "57    1611\n",
       "52    1607\n",
       "36    1602\n",
       "20    1601\n",
       "53    1598\n",
       "49    1594\n",
       "42    1584\n",
       "48    1567\n",
       "Name: Age, dtype: int64"
      ]
     },
     "execution_count": 38,
     "metadata": {},
     "output_type": "execute_result"
    }
   ],
   "source": [
    "# 15.\tWhich age group are most travelers\n",
    "df['Age'].value_counts()"
   ]
  },
  {
   "cell_type": "code",
   "execution_count": 39,
   "metadata": {},
   "outputs": [
    {
     "data": {
      "text/plain": [
       "New Zealand    3447\n",
       "Nepal          3446\n",
       "Egypt          3422\n",
       "Colombia       3408\n",
       "China          3391\n",
       "Denmark        3375\n",
       "Israel         3356\n",
       "France         3346\n",
       "Iceland        3344\n",
       "Italy          3340\n",
       "Canada         3331\n",
       "Ireland        3316\n",
       "Germany        3300\n",
       "India          3290\n",
       "Maldives       3265\n",
       "Mexico         3257\n",
       "Japan          3255\n",
       "Brazil         3241\n",
       "Kenya          3233\n",
       "Iran           3172\n",
       "Name: Destination_Country, dtype: int64"
      ]
     },
     "execution_count": 39,
     "metadata": {},
     "output_type": "execute_result"
    }
   ],
   "source": [
    "# 16.\tWhich destination country do the most traveling age group travel to?\n",
    "df['Destination_Country'].value_counts()"
   ]
  },
  {
   "cell_type": "code",
   "execution_count": 40,
   "metadata": {},
   "outputs": [
    {
     "data": {
      "text/plain": [
       "Year\n",
       "2019    9501\n",
       "Name: Customer_ID, dtype: int64"
      ]
     },
     "execution_count": 40,
     "metadata": {},
     "output_type": "execute_result"
    }
   ],
   "source": [
    "#which year has highest number of customers?\n",
    "\n",
    "df.groupby(['Year'])['Customer_ID'].count().sort_values(ascending=False).head(1)\n"
   ]
  },
  {
   "cell_type": "code",
   "execution_count": 41,
   "metadata": {},
   "outputs": [
    {
     "data": {
      "text/plain": [
       "Index(['Booking_ID', 'Date_of_Booking', 'Year', 'Time', 'Customer_ID',\n",
       "       'Gender', 'Age', 'Origin_Country', 'State', 'Location',\n",
       "       'Destination_Country', 'Destination_City', 'No_Of_People',\n",
       "       'Check_in_date', 'No_Of_Days', 'Check_Out_Date', 'Rooms', 'Hotel_Name',\n",
       "       'Hotel_Rating', 'Payment_Mode', 'Bank_Name', 'Booking_Price[SGD]',\n",
       "       'Discount', 'GST', 'Profit_Margin', 'date_diff', 'Comparision',\n",
       "       'Profit', 'Total_Discount', 'Tax'],\n",
       "      dtype='object')"
      ]
     },
     "execution_count": 41,
     "metadata": {},
     "output_type": "execute_result"
    }
   ],
   "source": [
    "df.columns"
   ]
  },
  {
   "cell_type": "code",
   "execution_count": 47,
   "metadata": {},
   "outputs": [],
   "source": [
    "import matplotlib.pyplot as plt\n",
    "import pandas as pd\n",
    "\n",
    "# # gca stands for 'get current axis'\n",
    "# ax = plt.gca()\n",
    "\n",
    "# df.plot(kind='line',x='Age',y='Rooms',ax=ax)\n",
    "# #df.plot(kind='line',x='Year',y='Age', color='red', ax=ax)\n",
    "\n",
    "# plt.show()"
   ]
  },
  {
   "cell_type": "code",
   "execution_count": 48,
   "metadata": {},
   "outputs": [
    {
     "data": {
      "text/plain": [
       "Year\n",
       "2010    19147\n",
       "2011    21182\n",
       "2012    22585\n",
       "2013    22153\n",
       "2014    23670\n",
       "2015    24963\n",
       "2016    24651\n",
       "2017    34413\n",
       "2018    35094\n",
       "2019    38006\n",
       "Name: No_Of_People, dtype: int64"
      ]
     },
     "execution_count": 48,
     "metadata": {},
     "output_type": "execute_result"
    }
   ],
   "source": [
    "x = df.groupby(['Year'])['No_Of_People'].sum()\n",
    "x"
   ]
  },
  {
   "cell_type": "code",
   "execution_count": 49,
   "metadata": {},
   "outputs": [
    {
     "data": {
      "text/plain": [
       "[2010, 2011, 2012, 2013, 2014, 2015, 2016, 2017, 2018, 2019]"
      ]
     },
     "execution_count": 49,
     "metadata": {},
     "output_type": "execute_result"
    }
   ],
   "source": [
    "#x.plot(kind='line')\n",
    "import numpy as np\n",
    "y = list(x)\n",
    "y\n",
    "z= list(x.index)\n",
    "z"
   ]
  },
  {
   "cell_type": "code",
   "execution_count": 50,
   "metadata": {},
   "outputs": [
    {
     "data": {
      "image/png": "[encoded data removed]",
      "text/plain": [
       "<Figure size 432x288 with 1 Axes>"
      ]
     },
     "metadata": {
      "needs_background": "light"
     },
     "output_type": "display_data"
    }
   ],
   "source": [
    "\n",
    "plt.plot(z,y)\n",
    "plt.xticks(z)\n",
    "plt.yticks(y)\n",
    "plt.show()"
   ]
  },
  {
   "cell_type": "code",
   "execution_count": 51,
   "metadata": {},
   "outputs": [],
   "source": [
    "# graph of country and no of people\n",
    "# graph of gender and no of people\n",
    "# hotel name and hotel ratings in thailand\n",
    "# how many people use different banks\n",
    "# age group and people\n",
    "# destination country and no of people\n",
    "# no of people and discount percentage, group by the discount percent\n"
   ]
  },
  {
   "cell_type": "code",
   "execution_count": 63,
   "metadata": {},
   "outputs": [
    {
     "data": {
      "text/plain": [
       "4.2    12424\n",
       "4.6    10725\n",
       "4.5     9681\n",
       "4.3     9348\n",
       "4.4     8374\n",
       "4.1     6569\n",
       "3.8     4133\n",
       "3.9     1355\n",
       "3.7     1347\n",
       "3.3     1296\n",
       "4.7     1283\n",
       "Name: Hotel_Rating, dtype: int64"
      ]
     },
     "execution_count": 63,
     "metadata": {},
     "output_type": "execute_result"
    }
   ],
   "source": [
    "x = df['Hotel_Rating'].value_counts()\n",
    "x"
   ]
  },
  {
   "cell_type": "code",
   "execution_count": 55,
   "metadata": {},
   "outputs": [
    {
     "data": {
      "text/html": [
       "<div>\n",
       "<style scoped>\n",
       "    .dataframe tbody tr th:only-of-type {\n",
       "        vertical-align: middle;\n",
       "    }\n",
       "\n",
       "    .dataframe tbody tr th {\n",
       "        vertical-align: top;\n",
       "    }\n",
       "\n",
       "    .dataframe thead th {\n",
       "        text-align: right;\n",
       "    }\n",
       "</style>\n",
       "<table border=\"1\" class=\"dataframe\">\n",
       "  <thead>\n",
       "    <tr style=\"text-align: right;\">\n",
       "      <th></th>\n",
       "      <th>Booking_ID</th>\n",
       "      <th>Date_of_Booking</th>\n",
       "      <th>Year</th>\n",
       "      <th>Time</th>\n",
       "      <th>Customer_ID</th>\n",
       "      <th>Gender</th>\n",
       "      <th>Age</th>\n",
       "      <th>Origin_Country</th>\n",
       "      <th>State</th>\n",
       "      <th>Location</th>\n",
       "      <th>...</th>\n",
       "      <th>Bank_Name</th>\n",
       "      <th>Booking_Price[SGD]</th>\n",
       "      <th>Discount</th>\n",
       "      <th>GST</th>\n",
       "      <th>Profit_Margin</th>\n",
       "      <th>date_diff</th>\n",
       "      <th>Comparision</th>\n",
       "      <th>Profit</th>\n",
       "      <th>Total_Discount</th>\n",
       "      <th>Tax</th>\n",
       "    </tr>\n",
       "  </thead>\n",
       "  <tbody>\n",
       "  </tbody>\n",
       "</table>\n",
       "<p>0 rows × 30 columns</p>\n",
       "</div>"
      ],
      "text/plain": [
       "Empty DataFrame\n",
       "Columns: [Booking_ID, Date_of_Booking, Year, Time, Customer_ID, Gender, Age, Origin_Country, State, Location, Destination_Country, Destination_City, No_Of_People, Check_in_date, No_Of_Days, Check_Out_Date, Rooms, Hotel_Name, Hotel_Rating, Payment_Mode, Bank_Name, Booking_Price[SGD], Discount, GST, Profit_Margin, date_diff, Comparision, Profit, Total_Discount, Tax]\n",
       "Index: []\n",
       "\n",
       "[0 rows x 30 columns]"
      ]
     },
     "execution_count": 55,
     "metadata": {},
     "output_type": "execute_result"
    }
   ],
   "source": [
    "df[df['Destination_Country']=='Thailand']"
   ]
  },
  {
   "cell_type": "code",
   "execution_count": 71,
   "metadata": {},
   "outputs": [
    {
     "ename": "TypeError",
     "evalue": "list.count() takes exactly one argument (0 given)",
     "output_type": "error",
     "traceback": [
      "\u001b[1;31m---------------------------------------------------------------------------\u001b[0m",
      "\u001b[1;31mTypeError\u001b[0m                                 Traceback (most recent call last)",
      "\u001b[1;32mC:\\Users\\MARCHE~1\\AppData\\Local\\Temp/ipykernel_2348/4215870926.py\u001b[0m in \u001b[0;36m<module>\u001b[1;34m\u001b[0m\n\u001b[1;32m----> 1\u001b[1;33m \u001b[0my\u001b[0m \u001b[1;33m=\u001b[0m \u001b[0mdf\u001b[0m\u001b[1;33m[\u001b[0m\u001b[1;33m(\u001b[0m\u001b[0mdf\u001b[0m\u001b[1;33m[\u001b[0m\u001b[1;34m'Origin_Country'\u001b[0m\u001b[1;33m]\u001b[0m\u001b[1;33m==\u001b[0m\u001b[1;34m'Thailand'\u001b[0m\u001b[1;33m)\u001b[0m\u001b[1;33m]\u001b[0m\u001b[1;33m.\u001b[0m\u001b[0mgroupby\u001b[0m\u001b[1;33m(\u001b[0m\u001b[1;33m[\u001b[0m\u001b[1;34m'Hotel_Rating'\u001b[0m\u001b[1;33m]\u001b[0m\u001b[1;33m.\u001b[0m\u001b[0mcount\u001b[0m\u001b[1;33m(\u001b[0m\u001b[1;33m)\u001b[0m\u001b[1;33m)\u001b[0m\u001b[1;33m\u001b[0m\u001b[1;33m\u001b[0m\u001b[0m\n\u001b[0m\u001b[0;32m      2\u001b[0m \u001b[0mpd\u001b[0m\u001b[1;33m.\u001b[0m\u001b[0mDataFrame\u001b[0m\u001b[1;33m(\u001b[0m\u001b[0my\u001b[0m\u001b[1;33m)\u001b[0m\u001b[1;33m\u001b[0m\u001b[1;33m\u001b[0m\u001b[0m\n",
      "\u001b[1;31mTypeError\u001b[0m: list.count() takes exactly one argument (0 given)"
     ]
    }
   ],
   "source": [
    "y = df[(df['Origin_Country']=='Thailand')].groupby(['Hotel_Rating'])\n",
    "pd.DataFrame(y)"
   ]
  },
  {
   "cell_type": "code",
   "execution_count": null,
   "metadata": {},
   "outputs": [],
   "source": []
  }
 ],
 "metadata": {
  "interpreter": {
   "hash": "63fd5069d213b44bf678585dea6b12cceca9941eaf7f819626cde1f2670de90d"
  },
  "kernelspec": {
   "display_name": "Python 3.9.2 64-bit",
   "language": "python",
   "name": "python3"
  },
  "language_info": {
   "codemirror_mode": {
    "name": "ipython",
    "version": 3
   },
   "file_extension": ".py",
   "mimetype": "text/x-python",
   "name": "python",
   "nbconvert_exporter": "python",
   "pygments_lexer": "ipython3",
   "version": "3.9.2"
  },
  "orig_nbformat": 4
 },
 "nbformat": 4,
 "nbformat_minor": 2
}
