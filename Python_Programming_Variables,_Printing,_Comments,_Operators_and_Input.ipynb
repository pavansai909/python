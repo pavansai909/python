{
 "cells": [
  {
   "cell_type": "markdown",
   "metadata": {
    "id": "ZJUYY3Kvm4jW"
   },
   "source": [
    "<font color=\"green\">*To start working on this notebook, or any other notebook that we will use in this course, we will need to save our own copy of it. We can do this by clicking File > Save a Copy in Drive. We will then be able to make edits to our own copy of this notebook.*</font>\n",
    "\n",
    "---\n",
    "\n"
   ]
  },
  {
   "cell_type": "markdown",
   "metadata": {
    "id": "yP8LWf2IYcPt"
   },
   "source": [
    "# Variables, Printing, Comments, Operators and Input"
   ]
  },
  {
   "cell_type": "markdown",
   "metadata": {
    "id": "ouu4WxP3MIgj"
   },
   "source": [
    "## 1.0 Introduction"
   ]
  },
  {
   "cell_type": "markdown",
   "metadata": {
    "id": "FpRH6APAK3vV"
   },
   "source": [
    "Python is a programming language that is popularly used for data science. In this section we will get to learn the basics of the python programming language. More specifically, we will get to learn about printing, comments, variables operators and Input.\n",
    "\n",
    "---\n",
    "\n",
    "\n",
    "\n",
    "\n",
    "\n"
   ]
  },
  {
   "cell_type": "markdown",
   "metadata": {
    "id": "7LQwxB9bVRP1"
   },
   "source": [
    "Let's now swiftly begin to write code. Code is a set of instructions that a programmer writes so as to perform a particular task. Code can be written to perform calculations, move a robotic arm, perform analysis etc. During the course of the Moringa Data Science program, we will write alot of code and and this will help you become more confortable at solving a diverse of data science problems. \n",
    "\n",
    "We will also be using Colaboratory, which is an environment that we can use to run our code. This will eliminate the need to spend alot of time installing and configuring your environment and help you spend more time on learning how to write effective code.\n",
    "\n",
    "The page that we are currently using is called a notebook, while the different sections of this notebook are called cells. The cells can be either code or text. In order to start using a ready created notebook just like this one, we will have to first save a copy of this note book on drive i.e. visit File > Save a copy in Drive. This will allow us to have our own copy of the notebook and update any changes we want for example adding code. \n",
    "\n",
    "In order to run our code as shown in the example below, we can drag our mouse to the left of the cell and click on the circular icon with a triangle pointing to the right. Alternatively, we can click inside the cell which we want to run, then press shift+return buttons on our keyboard, all at the same time.\n",
    "\n"
   ]
  },
  {
   "cell_type": "code",
   "execution_count": 33,
   "metadata": {
    "id": "STRIQLywyUzJ"
   },
   "outputs": [
    {
     "name": "stdout",
     "output_type": "stream",
     "text": [
      "I just ran my first python code\n"
     ]
    }
   ],
   "source": [
    "# Example 1\n",
    "# \n",
    "print(\"I just ran my first python code\")"
   ]
  },
  {
   "cell_type": "markdown",
   "metadata": {
    "id": "DQXZu9wpDN5E"
   },
   "source": [
    "Don't worry, the first run of the code will take a few seconds to run. Thereafter, the running of our code will be much more faster. As we have also seen, our code is displayed at the bottom of the cell. This section of the cell is called the console and its where the output of our code will always be displayed."
   ]
  },
  {
   "cell_type": "markdown",
   "metadata": {
    "id": "Q9nYivGzNDz8"
   },
   "source": [
    "## 1.1 Printing\n"
   ]
  },
  {
   "cell_type": "markdown",
   "metadata": {
    "id": "K2Y5xqKgKwWF"
   },
   "source": [
    "The second thing that you must have noted in that line of code that we've just ran, is the keyword \"print\". This keyword is meant to print out any text that goes into the following parenthesis. By printing out, we mean outputing our code in the console.  As we continue learning python, we will also come across other keywords that are used to perform different tasks. Such keywords which have two brackets as print() are called functions. In the above example, we used the function print(). We shouldn't now worry about what these functions are as we will learn about them later in the course."
   ]
  },
  {
   "cell_type": "markdown",
   "metadata": {
    "id": "ewLHJRjljHm2"
   },
   "source": [
    "### <font color = 'green'> 1.1 Challenges</font>"
   ]
  },
  {
   "cell_type": "code",
   "execution_count": 34,
   "metadata": {
    "id": "A9EAzlEUjKDf"
   },
   "outputs": [
    {
     "name": "stdout",
     "output_type": "stream",
     "text": [
      "OUR CODE GOES HERE\n"
     ]
    }
   ],
   "source": [
    "# Challenge 1:\n",
    "# Let's now print out your name in the console of this cell.\n",
    "# Replace the text \"OUR CODE GOES HERE\" with the code that you will write \n",
    "# and do likewise to the following examples.\n",
    "#\n",
    "\n",
    "#print(\"Brendah\")\n",
    "print(\"OUR CODE GOES HERE\")\n"
   ]
  },
  {
   "cell_type": "code",
   "execution_count": 35,
   "metadata": {
    "id": "Ffeem6qVjKar"
   },
   "outputs": [
    {
     "name": "stdout",
     "output_type": "stream",
     "text": [
      "I am a Moringa Data Science Student\n"
     ]
    }
   ],
   "source": [
    "# Challenge 2:\n",
    "# Let's print \"I am a Moringa Data Science Student\" below\n",
    "print(\"I am a Moringa Data Science Student\")\n"
   ]
  },
  {
   "cell_type": "code",
   "execution_count": 36,
   "metadata": {
    "id": "B3681apHjKRN"
   },
   "outputs": [
    {
     "name": "stdout",
     "output_type": "stream",
     "text": [
      "66\n"
     ]
    }
   ],
   "source": [
    "# Challenge 3:\n",
    "# Print out the sum of 44 and 22 below\n",
    "# NB: We need to see 44 + 22 in our code \n",
    " \n",
    "print(44+22)\n"
   ]
  },
  {
   "cell_type": "markdown",
   "metadata": {
    "id": "ZCa4gqEhMQeX"
   },
   "source": [
    "## 1.2 Comments "
   ]
  },
  {
   "cell_type": "markdown",
   "metadata": {
    "id": "gnuZm4DJf46i"
   },
   "source": [
    "In this section, we will learn about another key concept of programming - Comments. \n",
    "\n",
    "Programmers and Data Scientists use comments to explain what their code means. These comments are acually pieces of code that do not get translated by the computer. We will use them as helpful messages that we leave within our code. \n",
    "\n",
    "Comments are created by putthing a hash character(#) before the line we would like the computer to ignore. By doing that we would say that we have commented out that line. \n",
    "\n",
    "For example, in the cell below, the first line is the commented out line in the code. It explains what the following code means. "
   ]
  },
  {
   "cell_type": "code",
   "execution_count": 37,
   "metadata": {
    "id": "xJBU9EQoYcPt"
   },
   "outputs": [],
   "source": [
    "# Example 1\n",
    "# The code below will print out the statement \"I already love Python\". \n",
    "# Let's press the shortcut shift + return (enter button) at the same time\n",
    "# to run the code in this cell. \n",
    "# print 'I already love Python'"
   ]
  },
  {
   "cell_type": "markdown",
   "metadata": {
    "id": "cXhURK-yvBfu"
   },
   "source": [
    "Good! Let's now comment out the code in the following cell and later run the code. By uncommenting we mean removing the last line # character before print."
   ]
  },
  {
   "cell_type": "code",
   "execution_count": 38,
   "metadata": {
    "id": "ZQj19k6kvLpy"
   },
   "outputs": [
    {
     "name": "stdout",
     "output_type": "stream",
     "text": [
      "My home is Kenya, all wild and wonderful!\n"
     ]
    }
   ],
   "source": [
    "# Example 2\n",
    "#\n",
    "# \n",
    "print(\"My home is Kenya, all wild and wonderful!\")"
   ]
  },
  {
   "cell_type": "markdown",
   "metadata": {
    "id": "ai0VXezYyCVl"
   },
   "source": [
    "If we'd like to make multiline comments, we can also use the # character as shown below:"
   ]
  },
  {
   "cell_type": "code",
   "execution_count": 39,
   "metadata": {
    "id": "9Ap2sfRVyA8s"
   },
   "outputs": [],
   "source": [
    "# Example 3\n",
    "# The following line of code prints out \n",
    "# \"I have just began my Data science journey\" in the console\n",
    "# print(\"I have just began my data science journey\")"
   ]
  },
  {
   "cell_type": "markdown",
   "metadata": {
    "id": "9g9cO9kTj7eS"
   },
   "source": [
    "### <font color = 'green'> 1.2 Challenges</font> "
   ]
  },
  {
   "cell_type": "code",
   "execution_count": 40,
   "metadata": {
    "id": "X6FOU-U5j1_0"
   },
   "outputs": [
    {
     "name": "stdout",
     "output_type": "stream",
     "text": [
      "Brendah from Nairobi, Kenya\n"
     ]
    }
   ],
   "source": [
    "# Challenge 1:\n",
    "# We now add multiline comments that explain what happens to a line \n",
    "# that prints out the name of your home town below \n",
    "# \n",
    "\n",
    "# This is my new comment\n",
    "# i can write in multiple lines\n",
    "# it wont affect\n",
    "\n",
    "print(\"Brendah from Nairobi, Kenya\")\n"
   ]
  },
  {
   "cell_type": "code",
   "execution_count": 41,
   "metadata": {
    "id": "TUlfErrLj31q"
   },
   "outputs": [
    {
     "name": "stdout",
     "output_type": "stream",
     "text": [
      "Hello Brenda!\n"
     ]
    }
   ],
   "source": [
    "# Challenge 2:\n",
    "# Add comments to the program below. Add comments in two lines. \n",
    "# \n",
    "\n",
    "# the code below is a variable with info called hello brenda\n",
    "a = \"Hello Brenda!\"\n",
    "\n",
    "#here we printed the variable\n",
    "print(a)"
   ]
  },
  {
   "cell_type": "code",
   "execution_count": 42,
   "metadata": {
    "id": "RsAK7Vfmj6Pi"
   },
   "outputs": [
    {
     "name": "stdout",
     "output_type": "stream",
     "text": [
      "January\n",
      "February\n",
      "March\n",
      "April\n",
      "May\n",
      "June\n",
      "July\n",
      "August\n",
      "September\n",
      "October\n",
      "November\n",
      "December\n"
     ]
    }
   ],
   "source": [
    "# Challenge 3:\n",
    "# Run the code below then try to figure out what happens.\n",
    "# Then from your understanding, provide a documentation to the program\n",
    "# NB: By documentation we mean add comments to the program \n",
    "# to help the reader to understand the program.\n",
    "# Hint: Explain each line of the program.\n",
    "#\n",
    "#we created month variable with a list of all months in an year\n",
    "months = ['January', 'February', 'March', 'April', 'May', 'June', 'July','August','September','October', 'November','December']\n",
    "#show calendar function is defined with months as parameter\n",
    "def showCalender(months):\n",
    "  \n",
    "    for month in months:  # for loop is used to iterate the months in an year \n",
    "        print(month)      # print is used for the output in for loop after iteration\n",
    "        \n",
    "        \n",
    "showCalender(months)   # we called the function and output the months "
   ]
  },
  {
   "cell_type": "markdown",
   "metadata": {
    "id": "enegx82E43R0"
   },
   "source": [
    "## 1.3 Variables"
   ]
  },
  {
   "cell_type": "markdown",
   "metadata": {
    "id": "BkeWKmaiVZrw"
   },
   "source": [
    "The next thing we will learn is a variable. This is simply a container that we can use to store a value. This value can be a number, a character, a string (which is just a set of characters), a list (we will learn this, a dictionary - we will also learn this), etc. "
   ]
  },
  {
   "cell_type": "markdown",
   "metadata": {
    "id": "MNf-A-Vu_aPR"
   },
   "source": [
    "In python, we would create a variable and store a value at the same time, just as shown in the following example."
   ]
  },
  {
   "cell_type": "code",
   "execution_count": 43,
   "metadata": {
    "id": "dnmsWMx8_SUA"
   },
   "outputs": [],
   "source": [
    "# Example 1\n",
    "# We store the value 10 in a variable p. In programming we say that \"we are assigning the value 10 to p\"\n",
    "# Running this cell won't output anything. Why? You can discuss this with your peer. \n",
    "# If you haven't figure it out, then go on to the next example and you'll know why\n",
    "#\n",
    "p = 10"
   ]
  },
  {
   "cell_type": "code",
   "execution_count": 44,
   "metadata": {
    "id": "4jZQErLZVd_y"
   },
   "outputs": [
    {
     "name": "stdout",
     "output_type": "stream",
     "text": [
      "5\n"
     ]
    }
   ],
   "source": [
    "# Example 2\n",
    "# So as to create a variable we use the equals sign; =, like in the example below. \n",
    "# This sign is usually regarded to what is called an assignment operator.\n",
    "# How do we say what is happening to 5 and x below? We've learned this in\n",
    "# the previous example.\n",
    "# \n",
    "x = 5\n",
    "\n",
    "# Because we have assigned the value 5 to x, \n",
    "# we now need to print out and see whether x has that value. \n",
    "# Lets print out x below this line using the print() function below\n",
    "#\n",
    "print(x)"
   ]
  },
  {
   "cell_type": "code",
   "execution_count": 45,
   "metadata": {
    "id": "zitN-ocgVqsF"
   },
   "outputs": [
    {
     "name": "stdout",
     "output_type": "stream",
     "text": [
      "1000\n"
     ]
    }
   ],
   "source": [
    "# Example 3\n",
    "# Nice, Work now on this challenge: \n",
    "# Create a savings variable with the value 1000 \n",
    "savings = 1000\n",
    "\n",
    "# Then print this savings variable below this line;\n",
    "print(savings)"
   ]
  },
  {
   "cell_type": "code",
   "execution_count": 46,
   "metadata": {
    "id": "Mjj8BXlNYcPx"
   },
   "outputs": [
    {
     "name": "stdout",
     "output_type": "stream",
     "text": [
      "10\n",
      "5\n"
     ]
    }
   ],
   "source": [
    "# Example 4\n",
    "# Now uncomment the below lines to print a, \n",
    "# then later uncomment b = 5 and later uncomment print(b)\n",
    "# Do note what happens\n",
    "#\n",
    "\n",
    "a = 10\n",
    "\n",
    "print(a)\n",
    "\n",
    "b = 5\n",
    "\n",
    "print(b)"
   ]
  },
  {
   "cell_type": "markdown",
   "metadata": {
    "id": "O8SLfCskkHv4"
   },
   "source": [
    "### <font color = 'green'>  1.3 Challenges </font>"
   ]
  },
  {
   "cell_type": "code",
   "execution_count": 47,
   "metadata": {
    "id": "313rKbkAkKcR"
   },
   "outputs": [],
   "source": [
    "# Challenge 1\n",
    "# Assign the book Harry Potter and the Deathly Hollows to the variable author\n",
    "#\n",
    "Author = \"Harry Potter and the Deathly Hollows\""
   ]
  },
  {
   "cell_type": "code",
   "execution_count": 48,
   "metadata": {
    "id": "3PN6Ef_gkK39"
   },
   "outputs": [],
   "source": [
    "# Challenge 2\n",
    "# Fix the following code the run the cell\n",
    "#\n",
    "Einstein = \"7_quote\""
   ]
  },
  {
   "cell_type": "code",
   "execution_count": 49,
   "metadata": {
    "id": "IUdjEiyAkKpE"
   },
   "outputs": [],
   "source": [
    "# Challenge 3\n",
    "# Fix the following code the run the cell\n",
    "#\n",
    "second_number = 400"
   ]
  },
  {
   "cell_type": "markdown",
   "metadata": {
    "id": "UgmQhU5qeG8x"
   },
   "source": [
    "## 1.4 Operators"
   ]
  },
  {
   "cell_type": "code",
   "execution_count": 50,
   "metadata": {
    "id": "Rz2NNvZmYcP0"
   },
   "outputs": [
    {
     "name": "stdout",
     "output_type": "stream",
     "text": [
      "15\n",
      "50\n",
      "2.0\n",
      "5\n"
     ]
    }
   ],
   "source": [
    "# Example 1\n",
    "# In this section, we are going to use the variable a and b to perform \n",
    "# some arithmetic operations. Variable values or the variables from the above cell are retained \n",
    "# and can be used with the values that they were assigned to. \n",
    "# We will learn more about this when we run the lines below.\n",
    "# Let's run this cell once then \n",
    "# Uncomment the lines below to see the effect for multiplication, division and substraction \n",
    "#\n",
    "\n",
    "print(a + b)\n",
    "\n",
    "print(a * b)\n",
    "\n",
    "print(a / b)\n",
    "\n",
    "print(a - b)"
   ]
  },
  {
   "cell_type": "code",
   "execution_count": 51,
   "metadata": {
    "id": "w7UUv925YcP2"
   },
   "outputs": [
    {
     "name": "stdout",
     "output_type": "stream",
     "text": [
      "15\n"
     ]
    }
   ],
   "source": [
    "# Example 2\n",
    "# What would happen if we assigned the value of a + b to a. \n",
    "# Then try to come up with the answer in your mind \n",
    "# before uncommenting the line below;\n",
    "# \n",
    "\n",
    "a = a + b\n",
    "\n",
    "print(a)"
   ]
  },
  {
   "cell_type": "code",
   "execution_count": 53,
   "metadata": {
    "id": "yVolQ1lCYcP5"
   },
   "outputs": [
    {
     "name": "stdout",
     "output_type": "stream",
     "text": [
      "25\n",
      "20\n"
     ]
    }
   ],
   "source": [
    "# Example 3\n",
    "# Nice. Now we will introduce a rather unfamiliar operator that we normally use in python.\n",
    "# This operator is called the increment operator \n",
    "# \n",
    "\n",
    "a += b\n",
    "# a = a + b\n",
    "\n",
    "print(a)\n",
    "\n",
    "# Try using the decrement operator below. The increment operator is -=\n",
    "a -=b\n",
    "print(a)"
   ]
  },
  {
   "cell_type": "markdown",
   "metadata": {
    "id": "VoM4VEWeTxue"
   },
   "source": [
    "As you have seen, python is perfectly suited to do basic calculations. Apart from addition, subtraction, multiplication and division, there is also support for more advanced operations such as:\n",
    "\n",
    "\n",
    "*   Exponentiation:  This operator raises the number to its left to the power of the number to its right. For example 4**2 will give 16.\n",
    "*   Modulo: %. This operator returns the remainder of the division of the number to the left by the number on its right. For example 18 % 7 equals 4."
   ]
  },
  {
   "cell_type": "code",
   "execution_count": 55,
   "metadata": {
    "id": "s6fPLiHaTJs7"
   },
   "outputs": [
    {
     "name": "stdout",
     "output_type": "stream",
     "text": [
      "4\n",
      "16\n",
      "2\n"
     ]
    }
   ],
   "source": [
    "# Example 4\n",
    "# Lets uncomment the lines below to Exponentiation and then \n",
    "#\n",
    "\n",
    "print(18 % 7) # the remainder is 4\n",
    "print(4 ** 2) # it is 4 raised to power 2\n",
    "print(18//7) # divide number without remainder -- integer division"
   ]
  },
  {
   "cell_type": "markdown",
   "metadata": {
    "id": "8MEIfFSclWvn"
   },
   "source": [
    "### <font color = 'green'> 1.4 Challenges </font>"
   ]
  },
  {
   "cell_type": "code",
   "execution_count": 57,
   "metadata": {
    "id": "iILThnq6laDQ"
   },
   "outputs": [
    {
     "data": {
      "text/plain": [
       "216.66666666666666"
      ]
     },
     "execution_count": 57,
     "metadata": {},
     "output_type": "execute_result"
    }
   ],
   "source": [
    "# Challenge 1\n",
    "# Three persons have three notes of Ksh.50, Ksh.100 and Ksh.500.\n",
    "# Create three variables; person 1, person 2 and person 3 then \n",
    "# Find out the average of their money and display it below.\n",
    "# \n",
    "person1 = 50\n",
    "person2 = 100\n",
    "person3 = 500\n",
    "average = (person1 + person2 + person3)/3\n",
    "average"
   ]
  },
  {
   "cell_type": "code",
   "execution_count": 58,
   "metadata": {
    "id": "P9fCjPn9la7V"
   },
   "outputs": [
    {
     "data": {
      "text/plain": [
       "28500"
      ]
     },
     "execution_count": 58,
     "metadata": {},
     "output_type": "execute_result"
    }
   ],
   "source": [
    "# Challenge 2\n",
    "# An online shop sells designer jeans and t-shirts. \n",
    "# Each jeans costs Ksh. 4500 and t-shirt costs Ksh. 2500.\n",
    "# Calculate the cost below if you were to buy 3 pairs of jeans and 6 t-shirts\n",
    "# using variables and operators.\n",
    "#\n",
    "jeans = 4500\n",
    "tshirtt = 2500\n",
    "cost = (3*4500) + (6*2500)\n",
    "cost"
   ]
  },
  {
   "cell_type": "code",
   "execution_count": 65,
   "metadata": {
    "id": "NIDidtkllawY"
   },
   "outputs": [
    {
     "name": "stdout",
     "output_type": "stream",
     "text": [
      "1948.7171000000012\n",
      "4177.248169415656\n"
     ]
    }
   ],
   "source": [
    "# Challenge 3\n",
    "# We have Ksh 1000, which you invest with a 10% return each year. \n",
    "# After one year, it's 1000 × 1.1 = 1100 shillings, and after two years \n",
    "# it's 1000 × 1.1 × 1.1 = 121. \n",
    "# Now, write code below to calculate how much money \n",
    "# you would end up with after 7 years.\n",
    "# How much is your Ksh. 1000 worth after 15 years?\n",
    "\n",
    "money = 1000\n",
    "moneyafter7years = 1000 * 1.1 **7\n",
    "print(moneyafter7years)\n",
    "moneyafter15years = 1000 * 1.1 **15\n",
    "print(moneyafter15years)\n",
    "\n",
    "# Hint: Instead of calculating with the actual values, you can use variables instead. \n",
    "# The savings variable you've created in the previous exercise represents the Ksh 1000 you started with. \n",
    "# It's up to you to create a new variable to represent 1.1 and then redo the calculations!\n",
    "\n",
    "\n",
    "# We can recreate the savings variable that we will use below\n",
    "# #\n",
    "# savings = 1000\n",
    "\n",
    "# # and create a growth_multiplier variable that is equal to 1.1.\n",
    "# OUR CODE GOES HERE\n",
    "\n",
    "# # Then create a result variable and equal it to the amount of money you saved after 7 years.\n",
    "\n",
    "\n",
    "# Then print out the value of result below\n"
   ]
  },
  {
   "cell_type": "markdown",
   "metadata": {
    "id": "wCNLWKgJeLJn"
   },
   "source": [
    "## 1.5 Input"
   ]
  },
  {
   "cell_type": "code",
   "execution_count": 76,
   "metadata": {
    "id": "KFoVX3qxUVX5"
   },
   "outputs": [
    {
     "name": "stdout",
     "output_type": "stream",
     "text": [
      "Enter a number: 20\n",
      "22\n"
     ]
    }
   ],
   "source": [
    "# Example 1\n",
    "# The input() function allows for user input as shown\n",
    "# \n",
    "g = int(input(\"Enter a number: \"))\n",
    "\n",
    "# print(g + 2)"
   ]
  },
  {
   "cell_type": "code",
   "execution_count": 78,
   "metadata": {
    "id": "1nq-JtqvXI3h"
   },
   "outputs": [
    {
     "name": "stdout",
     "output_type": "stream",
     "text": [
      "Enter the first number: 5\n",
      "Enter the second number: 10\n",
      "15\n"
     ]
    }
   ],
   "source": [
    "# Example 2\n",
    "# Lets get the sum of two numbers from a user's input\n",
    "# \n",
    "x = int(input('Enter the first number: '))\n",
    "y = int(input('Enter the second number: '))\n",
    "\n",
    "print(x + y) "
   ]
  },
  {
   "cell_type": "code",
   "execution_count": 80,
   "metadata": {
    "id": "_2nBPR_o3bgY"
   },
   "outputs": [
    {
     "name": "stdout",
     "output_type": "stream",
     "text": [
      "What's your name? brenda\n",
      "Nice to meet you brenda!\n",
      "Your age? 25\n",
      "So, you are already 25 years old, brenda!\n"
     ]
    }
   ],
   "source": [
    "# Example 3\n",
    "# Let's get the name and age of the user \n",
    "#\n",
    "\n",
    "# Prompting the user to tell us their name and displaying their name\n",
    "name = input(\"What's your name? \")\n",
    "print(\"Nice to meet you \" + name + \"!\")\n",
    "\n",
    "# Prompting the user to tell use their age \n",
    "age = input(\"Your age? \")\n",
    "\n",
    "# Displaying both their name and age\n",
    "# Hint: Try to remove str() and see what happens. We will learn more about datatype conversion later()\n",
    "# \n",
    "print(\"So, you are already \" + age + \" years old, \" + name + \"!\")"
   ]
  },
  {
   "cell_type": "markdown",
   "metadata": {
    "id": "eEu2bBRRlo1e"
   },
   "source": [
    "### <font color = 'green'>  1.5 Challenges </font>"
   ]
  },
  {
   "cell_type": "code",
   "execution_count": 90,
   "metadata": {
    "id": "RmNOhWeWlyLb"
   },
   "outputs": [
    {
     "name": "stdout",
     "output_type": "stream",
     "text": [
      "Enter your height in metres: 2\n",
      "your height is 6.56168 in feet and 78.7402 in inches\n"
     ]
    }
   ],
   "source": [
    "# Challenge 1\n",
    "# Many people around the world think about their height in feet and inches \n",
    "# even here in Africa where many countries use the metric system. \n",
    "# Write a program reads the height in metres then converts it to\n",
    "# feet and inches. The program should display the equivalent \n",
    "# height in feet and height.\n",
    "# NB: You can look up the necessary conversion factors on the web.\n",
    "#\n",
    "Height = int(input(\"Enter your height in metres: \"))\n",
    "Height_in_feet = Height*3.28084\n",
    "# print(\"your height is \" + str(Height_in_feet) + \" in feet\")\n",
    "Height_in_inches = Height*39.3701\n",
    "# print(\"your height is \" + str(Height_in_inches) + \" in inches\")\n",
    "\n",
    "print(\"your height is \" + str(Height_in_feet) + \" in feet and \" + str(Height_in_inches) + \" in inches\")"
   ]
  },
  {
   "cell_type": "code",
   "execution_count": 94,
   "metadata": {
    "id": "EdIZZ53Ml4Jx"
   },
   "outputs": [
    {
     "name": "stdout",
     "output_type": "stream",
     "text": [
      "Enter the radius: 5\n",
      "Enter the Height: 5\n",
      "the volume of cylinder is 392.69908169872417\n"
     ]
    }
   ],
   "source": [
    "# Challenge 2\n",
    "# Given a certain column of data that has radius, a data scientist would like\n",
    "# to compute the volume the respective cylinder and save the result to a new column.\n",
    "# Thus, write a program that reads the radius of cylinder, along with its height \n",
    "# from the user to calculate the volume in the console.\n",
    "#\n",
    "radius = int(input(\"Enter the radius: \"))\n",
    "Height = int(input(\"Enter the Height: \"))\n",
    "import math\n",
    "volume = math.pi*radius**2 *Height\n",
    "print(\"the volume of cylinder is \" + str(volume))\n"
   ]
  },
  {
   "cell_type": "code",
   "execution_count": 111,
   "metadata": {
    "id": "EuzTUGQnl4tz"
   },
   "outputs": [
    {
     "ename": "SyntaxError",
     "evalue": "invalid syntax (<ipython-input-111-5ae14be0e748>, line 10)",
     "output_type": "error",
     "traceback": [
      "\u001b[1;36m  File \u001b[1;32m\"<ipython-input-111-5ae14be0e748>\"\u001b[1;36m, line \u001b[1;32m10\u001b[0m\n\u001b[1;33m    if notevalue == True:\u001b[0m\n\u001b[1;37m                        ^\u001b[0m\n\u001b[1;31mSyntaxError\u001b[0m\u001b[1;31m:\u001b[0m invalid syntax\n"
     ]
    }
   ],
   "source": [
    "# Challenge 3\n",
    "# While paying for her parking fee of Ksh. 50 , Jane inserts a Note into \n",
    "# the paying machine and gets back her change. \n",
    "# Write a program that reads as input the note greater than Ksh. 200 \n",
    "# and returns change in notes of 100 and 50.\n",
    "# Use the knowledge of variables to printing, comments, operators \n",
    "# and input to print the no of denominations given\n",
    "\n",
    "notevalue = int(input(\"Enter the note value: \")\n",
    "    if notevalue == True:\n",
    "        print(\"Please take\"+ str(notevalue/50) +\" of 50 notes \")\n",
    "    elseif:\n",
    "        print(\"Please take\"+ str(notevalue/100) +\" of 100 notes \")\n",
    "    else:\n",
    "        print(\"No change\")\n",
    "                \n",
    "            "
   ]
  },
  {
   "cell_type": "code",
   "execution_count": 112,
   "metadata": {},
   "outputs": [
    {
     "ename": "SyntaxError",
     "evalue": "invalid syntax (<ipython-input-112-5e7574376878>, line 2)",
     "output_type": "error",
     "traceback": [
      "\u001b[1;36m  File \u001b[1;32m\"<ipython-input-112-5e7574376878>\"\u001b[1;36m, line \u001b[1;32m2\u001b[0m\n\u001b[1;33m    if if notevalue == True:\u001b[0m\n\u001b[1;37m       ^\u001b[0m\n\u001b[1;31mSyntaxError\u001b[0m\u001b[1;31m:\u001b[0m invalid syntax\n"
     ]
    }
   ],
   "source": []
  },
  {
   "cell_type": "code",
   "execution_count": null,
   "metadata": {},
   "outputs": [],
   "source": []
  }
 ],
 "metadata": {
  "colab": {
   "collapsed_sections": [
    "ouu4WxP3MIgj",
    "Q9nYivGzNDz8",
    "ewLHJRjljHm2",
    "ZCa4gqEhMQeX",
    "9g9cO9kTj7eS",
    "enegx82E43R0",
    "O8SLfCskkHv4",
    "UgmQhU5qeG8x",
    "8MEIfFSclWvn",
    "wCNLWKgJeLJn",
    "eEu2bBRRlo1e"
   ],
   "name": "Python Programming: Variables, Printing, Comments, Operators and Input",
   "provenance": [],
   "toc_visible": true
  },
  "kernelspec": {
   "display_name": "Python 3",
   "language": "python",
   "name": "python3"
  },
  "language_info": {
   "codemirror_mode": {
    "name": "ipython",
    "version": 3
   },
   "file_extension": ".py",
   "mimetype": "text/x-python",
   "name": "python",
   "nbconvert_exporter": "python",
   "pygments_lexer": "ipython3",
   "version": "3.8.8"
  }
 },
 "nbformat": 4,
 "nbformat_minor": 1
}
