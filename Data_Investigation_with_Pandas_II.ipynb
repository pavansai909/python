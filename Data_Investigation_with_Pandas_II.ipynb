{
  "cells": [
    {
      "cell_type": "markdown",
      "metadata": {
        "id": "y5qL7fbUWJrX"
      },
      "source": [
        "<font color=\"green\">*To start working on this notebook, or any other notebook that we will use in the Moringa Data Science Course, we will need to save our own copy of it. We can do this by clicking File > Save a Copy in Drive. We will then be able to make edits to our own copy of this notebook.*</font>"
      ]
    },
    {
      "cell_type": "markdown",
      "metadata": {
        "id": "m0tgCkvzPLEa"
      },
      "source": [
        "# Data Investigation with Pandas II"
      ]
    },
    {
      "cell_type": "markdown",
      "metadata": {
        "id": "VSnOCZ5-IPCi"
      },
      "source": [
        "## 1.0 Importing our Libraries"
      ]
    },
    {
      "cell_type": "code",
      "execution_count": 2,
      "metadata": {
        "id": "3r-KDLvrO44a"
      },
      "outputs": [],
      "source": [
        "# Importing the libraries we will need \n",
        "\n",
        "# Importing the pandas library\n",
        "# \n",
        "import pandas as pd\n",
        "\n",
        "# Importing the numpy library\n",
        "#\n",
        "import numpy as np"
      ]
    },
    {
      "cell_type": "markdown",
      "metadata": {
        "id": "HToJZ2gBPawZ"
      },
      "source": [
        "## 1.1 Reading the Dataset from our CSV file\n",
        "\n"
      ]
    },
    {
      "cell_type": "markdown",
      "metadata": {
        "id": "LBUr8VUXQX-K"
      },
      "source": [
        "This dataset contains trips taken by thousands of kenyans to and from Nairobi during the year 2018.\n",
        "\n",
        "*   Dataset link for download or access: [Link](https://drive.google.com/a/moringaschool.com/file/d/1xe2sHapdeGo7bIaiG7UV0rjgQZ5U6OXv/view?usp=sharing)\n",
        "\n",
        "\n",
        "\n"
      ]
    },
    {
      "cell_type": "code",
      "execution_count": 3,
      "metadata": {
        "id": "1acwmZanRNHs"
      },
      "outputs": [
        {
          "data": {
            "text/html": [
              "<div>\n",
              "<style scoped>\n",
              "    .dataframe tbody tr th:only-of-type {\n",
              "        vertical-align: middle;\n",
              "    }\n",
              "\n",
              "    .dataframe tbody tr th {\n",
              "        vertical-align: top;\n",
              "    }\n",
              "\n",
              "    .dataframe thead th {\n",
              "        text-align: right;\n",
              "    }\n",
              "</style>\n",
              "<table border=\"1\" class=\"dataframe\">\n",
              "  <thead>\n",
              "    <tr style=\"text-align: right;\">\n",
              "      <th></th>\n",
              "      <th>ride_id</th>\n",
              "      <th>travel_date</th>\n",
              "      <th>travel_time</th>\n",
              "      <th>travel_from</th>\n",
              "      <th>travel_to</th>\n",
              "      <th>car_type</th>\n",
              "      <th>max_capacity</th>\n",
              "    </tr>\n",
              "  </thead>\n",
              "  <tbody>\n",
              "    <tr>\n",
              "      <th>0</th>\n",
              "      <td>247</td>\n",
              "      <td>2018-05-07</td>\n",
              "      <td>07:06</td>\n",
              "      <td>Kisii</td>\n",
              "      <td>Nairobi</td>\n",
              "      <td>Bus</td>\n",
              "      <td>49</td>\n",
              "    </tr>\n",
              "    <tr>\n",
              "      <th>1</th>\n",
              "      <td>256</td>\n",
              "      <td>2018-05-06</td>\n",
              "      <td>11:08</td>\n",
              "      <td>Kisii</td>\n",
              "      <td>Nairobi</td>\n",
              "      <td>shuttle</td>\n",
              "      <td>11</td>\n",
              "    </tr>\n",
              "    <tr>\n",
              "      <th>2</th>\n",
              "      <td>275</td>\n",
              "      <td>2018-05-04</td>\n",
              "      <td>05:00</td>\n",
              "      <td>Kisii</td>\n",
              "      <td>Nairobi</td>\n",
              "      <td>shuttle</td>\n",
              "      <td>11</td>\n",
              "    </tr>\n",
              "    <tr>\n",
              "      <th>3</th>\n",
              "      <td>285</td>\n",
              "      <td>2018-05-04</td>\n",
              "      <td>09:10</td>\n",
              "      <td>Kisii</td>\n",
              "      <td>Nairobi</td>\n",
              "      <td>shuttle</td>\n",
              "      <td>11</td>\n",
              "    </tr>\n",
              "    <tr>\n",
              "      <th>4</th>\n",
              "      <td>286</td>\n",
              "      <td>2018-05-04</td>\n",
              "      <td>09:20</td>\n",
              "      <td>Kisii</td>\n",
              "      <td>Nairobi</td>\n",
              "      <td>shuttle</td>\n",
              "      <td>11</td>\n",
              "    </tr>\n",
              "    <tr>\n",
              "      <th>...</th>\n",
              "      <td>...</td>\n",
              "      <td>...</td>\n",
              "      <td>...</td>\n",
              "      <td>...</td>\n",
              "      <td>...</td>\n",
              "      <td>...</td>\n",
              "      <td>...</td>\n",
              "    </tr>\n",
              "    <tr>\n",
              "      <th>1106</th>\n",
              "      <td>15336</td>\n",
              "      <td>2018-05-07</td>\n",
              "      <td>07:01</td>\n",
              "      <td>Oyugis</td>\n",
              "      <td>Nairobi</td>\n",
              "      <td>Bus</td>\n",
              "      <td>49</td>\n",
              "    </tr>\n",
              "    <tr>\n",
              "      <th>1107</th>\n",
              "      <td>15337</td>\n",
              "      <td>2018-05-07</td>\n",
              "      <td>07:08</td>\n",
              "      <td>Kehancha</td>\n",
              "      <td>Nairobi</td>\n",
              "      <td>Bus</td>\n",
              "      <td>49</td>\n",
              "    </tr>\n",
              "    <tr>\n",
              "      <th>1108</th>\n",
              "      <td>15338</td>\n",
              "      <td>2018-05-07</td>\n",
              "      <td>07:04</td>\n",
              "      <td>Rongo</td>\n",
              "      <td>Nairobi</td>\n",
              "      <td>Bus</td>\n",
              "      <td>49</td>\n",
              "    </tr>\n",
              "    <tr>\n",
              "      <th>1109</th>\n",
              "      <td>15339</td>\n",
              "      <td>2018-05-07</td>\n",
              "      <td>07:05</td>\n",
              "      <td>Ndhiwa</td>\n",
              "      <td>Nairobi</td>\n",
              "      <td>Bus</td>\n",
              "      <td>49</td>\n",
              "    </tr>\n",
              "    <tr>\n",
              "      <th>1110</th>\n",
              "      <td>15344</td>\n",
              "      <td>2018-05-09</td>\n",
              "      <td>08:00</td>\n",
              "      <td>Migori</td>\n",
              "      <td>Nairobi</td>\n",
              "      <td>Bus</td>\n",
              "      <td>49</td>\n",
              "    </tr>\n",
              "  </tbody>\n",
              "</table>\n",
              "<p>1111 rows × 7 columns</p>\n",
              "</div>"
            ],
            "text/plain": [
              "      ride_id travel_date travel_time travel_from travel_to car_type  \\\n",
              "0         247  2018-05-07       07:06       Kisii   Nairobi      Bus   \n",
              "1         256  2018-05-06       11:08       Kisii   Nairobi  shuttle   \n",
              "2         275  2018-05-04       05:00       Kisii   Nairobi  shuttle   \n",
              "3         285  2018-05-04       09:10       Kisii   Nairobi  shuttle   \n",
              "4         286  2018-05-04       09:20       Kisii   Nairobi  shuttle   \n",
              "...       ...         ...         ...         ...       ...      ...   \n",
              "1106    15336  2018-05-07       07:01      Oyugis   Nairobi      Bus   \n",
              "1107    15337  2018-05-07       07:08    Kehancha   Nairobi      Bus   \n",
              "1108    15338  2018-05-07       07:04       Rongo   Nairobi      Bus   \n",
              "1109    15339  2018-05-07       07:05      Ndhiwa   Nairobi      Bus   \n",
              "1110    15344  2018-05-09       08:00      Migori   Nairobi      Bus   \n",
              "\n",
              "      max_capacity  \n",
              "0               49  \n",
              "1               11  \n",
              "2               11  \n",
              "3               11  \n",
              "4               11  \n",
              "...            ...  \n",
              "1106            49  \n",
              "1107            49  \n",
              "1108            49  \n",
              "1109            49  \n",
              "1110            49  \n",
              "\n",
              "[1111 rows x 7 columns]"
            ]
          },
          "execution_count": 3,
          "metadata": {},
          "output_type": "execute_result"
        }
      ],
      "source": [
        "# Let's read the data from the CSV file and create the dataframe to be used\n",
        "# \n",
        "df = pd.read_csv('bus_travels.csv')\n",
        "df"
      ]
    },
    {
      "cell_type": "markdown",
      "metadata": {
        "id": "IICLGbvBRYHq"
      },
      "source": [
        "## 1.2 Previewing our Dataset\n"
      ]
    },
    {
      "cell_type": "code",
      "execution_count": 4,
      "metadata": {
        "id": "WrwHg-hzR5BY"
      },
      "outputs": [
        {
          "data": {
            "text/html": [
              "<div>\n",
              "<style scoped>\n",
              "    .dataframe tbody tr th:only-of-type {\n",
              "        vertical-align: middle;\n",
              "    }\n",
              "\n",
              "    .dataframe tbody tr th {\n",
              "        vertical-align: top;\n",
              "    }\n",
              "\n",
              "    .dataframe thead th {\n",
              "        text-align: right;\n",
              "    }\n",
              "</style>\n",
              "<table border=\"1\" class=\"dataframe\">\n",
              "  <thead>\n",
              "    <tr style=\"text-align: right;\">\n",
              "      <th></th>\n",
              "      <th>ride_id</th>\n",
              "      <th>travel_date</th>\n",
              "      <th>travel_time</th>\n",
              "      <th>travel_from</th>\n",
              "      <th>travel_to</th>\n",
              "      <th>car_type</th>\n",
              "      <th>max_capacity</th>\n",
              "    </tr>\n",
              "  </thead>\n",
              "  <tbody>\n",
              "    <tr>\n",
              "      <th>0</th>\n",
              "      <td>247</td>\n",
              "      <td>2018-05-07</td>\n",
              "      <td>07:06</td>\n",
              "      <td>Kisii</td>\n",
              "      <td>Nairobi</td>\n",
              "      <td>Bus</td>\n",
              "      <td>49</td>\n",
              "    </tr>\n",
              "    <tr>\n",
              "      <th>1</th>\n",
              "      <td>256</td>\n",
              "      <td>2018-05-06</td>\n",
              "      <td>11:08</td>\n",
              "      <td>Kisii</td>\n",
              "      <td>Nairobi</td>\n",
              "      <td>shuttle</td>\n",
              "      <td>11</td>\n",
              "    </tr>\n",
              "    <tr>\n",
              "      <th>2</th>\n",
              "      <td>275</td>\n",
              "      <td>2018-05-04</td>\n",
              "      <td>05:00</td>\n",
              "      <td>Kisii</td>\n",
              "      <td>Nairobi</td>\n",
              "      <td>shuttle</td>\n",
              "      <td>11</td>\n",
              "    </tr>\n",
              "    <tr>\n",
              "      <th>3</th>\n",
              "      <td>285</td>\n",
              "      <td>2018-05-04</td>\n",
              "      <td>09:10</td>\n",
              "      <td>Kisii</td>\n",
              "      <td>Nairobi</td>\n",
              "      <td>shuttle</td>\n",
              "      <td>11</td>\n",
              "    </tr>\n",
              "    <tr>\n",
              "      <th>4</th>\n",
              "      <td>286</td>\n",
              "      <td>2018-05-04</td>\n",
              "      <td>09:20</td>\n",
              "      <td>Kisii</td>\n",
              "      <td>Nairobi</td>\n",
              "      <td>shuttle</td>\n",
              "      <td>11</td>\n",
              "    </tr>\n",
              "    <tr>\n",
              "      <th>5</th>\n",
              "      <td>287</td>\n",
              "      <td>2018-05-04</td>\n",
              "      <td>07:02</td>\n",
              "      <td>Kisii</td>\n",
              "      <td>Nairobi</td>\n",
              "      <td>Bus</td>\n",
              "      <td>49</td>\n",
              "    </tr>\n",
              "    <tr>\n",
              "      <th>6</th>\n",
              "      <td>288</td>\n",
              "      <td>2018-05-04</td>\n",
              "      <td>09:30</td>\n",
              "      <td>Kisii</td>\n",
              "      <td>Nairobi</td>\n",
              "      <td>shuttle</td>\n",
              "      <td>11</td>\n",
              "    </tr>\n",
              "    <tr>\n",
              "      <th>7</th>\n",
              "      <td>292</td>\n",
              "      <td>2018-05-04</td>\n",
              "      <td>19:03</td>\n",
              "      <td>Kisii</td>\n",
              "      <td>Nairobi</td>\n",
              "      <td>Bus</td>\n",
              "      <td>49</td>\n",
              "    </tr>\n",
              "    <tr>\n",
              "      <th>8</th>\n",
              "      <td>298</td>\n",
              "      <td>2018-05-04</td>\n",
              "      <td>09:00</td>\n",
              "      <td>Kisii</td>\n",
              "      <td>Nairobi</td>\n",
              "      <td>shuttle</td>\n",
              "      <td>11</td>\n",
              "    </tr>\n",
              "    <tr>\n",
              "      <th>9</th>\n",
              "      <td>302</td>\n",
              "      <td>2018-05-04</td>\n",
              "      <td>08:40</td>\n",
              "      <td>Kisii</td>\n",
              "      <td>Nairobi</td>\n",
              "      <td>shuttle</td>\n",
              "      <td>11</td>\n",
              "    </tr>\n",
              "  </tbody>\n",
              "</table>\n",
              "</div>"
            ],
            "text/plain": [
              "   ride_id travel_date travel_time travel_from travel_to car_type  \\\n",
              "0      247  2018-05-07       07:06       Kisii   Nairobi      Bus   \n",
              "1      256  2018-05-06       11:08       Kisii   Nairobi  shuttle   \n",
              "2      275  2018-05-04       05:00       Kisii   Nairobi  shuttle   \n",
              "3      285  2018-05-04       09:10       Kisii   Nairobi  shuttle   \n",
              "4      286  2018-05-04       09:20       Kisii   Nairobi  shuttle   \n",
              "5      287  2018-05-04       07:02       Kisii   Nairobi      Bus   \n",
              "6      288  2018-05-04       09:30       Kisii   Nairobi  shuttle   \n",
              "7      292  2018-05-04       19:03       Kisii   Nairobi      Bus   \n",
              "8      298  2018-05-04       09:00       Kisii   Nairobi  shuttle   \n",
              "9      302  2018-05-04       08:40       Kisii   Nairobi  shuttle   \n",
              "\n",
              "   max_capacity  \n",
              "0            49  \n",
              "1            11  \n",
              "2            11  \n",
              "3            11  \n",
              "4            11  \n",
              "5            49  \n",
              "6            11  \n",
              "7            49  \n",
              "8            11  \n",
              "9            11  "
            ]
          },
          "execution_count": 4,
          "metadata": {},
          "output_type": "execute_result"
        }
      ],
      "source": [
        "# Let's preview the first 10 rows of our data\n",
        "# \n",
        "df.head(10)"
      ]
    },
    {
      "cell_type": "markdown",
      "metadata": {
        "id": "RAVzK5O6IR8v"
      },
      "source": [
        "## 1.3 Accessing Information about our Dataset"
      ]
    },
    {
      "cell_type": "code",
      "execution_count": 5,
      "metadata": {
        "id": "0d2kfemDIYWI"
      },
      "outputs": [
        {
          "name": "stdout",
          "output_type": "stream",
          "text": [
            "<class 'pandas.core.frame.DataFrame'>\n",
            "RangeIndex: 1111 entries, 0 to 1110\n",
            "Data columns (total 7 columns):\n",
            " #   Column        Non-Null Count  Dtype \n",
            "---  ------        --------------  ----- \n",
            " 0   ride_id       1111 non-null   int64 \n",
            " 1   travel_date   1111 non-null   object\n",
            " 2   travel_time   1111 non-null   object\n",
            " 3   travel_from   1111 non-null   object\n",
            " 4   travel_to     1111 non-null   object\n",
            " 5   car_type      1111 non-null   object\n",
            " 6   max_capacity  1111 non-null   int64 \n",
            "dtypes: int64(2), object(5)\n",
            "memory usage: 60.9+ KB\n"
          ]
        }
      ],
      "source": [
        "# Getting to know more about the dataset by accessing its information\n",
        "#\n",
        "df.info()"
      ]
    },
    {
      "cell_type": "markdown",
      "metadata": {
        "id": "NicC8P9LMjvO"
      },
      "source": [
        "## 1.4 Answering Questions"
      ]
    },
    {
      "cell_type": "markdown",
      "metadata": {
        "id": "8izhaW7UNYGJ"
      },
      "source": [
        "Let's answer the following questions with our dataset"
      ]
    },
    {
      "cell_type": "code",
      "execution_count": 6,
      "metadata": {
        "id": "tTOgnXvuMxcn"
      },
      "outputs": [
        {
          "data": {
            "text/plain": [
              "66"
            ]
          },
          "execution_count": 6,
          "metadata": {},
          "output_type": "execute_result"
        }
      ],
      "source": [
        "# Challenge 1\n",
        "# How many trips were taken on the 22/04/18?\n",
        "# \n",
        "df[df['travel_date']=='2018-04-22']['travel_date'].count()"
      ]
    },
    {
      "cell_type": "code",
      "execution_count": 7,
      "metadata": {
        "id": "BNegesaWNvQs"
      },
      "outputs": [
        {
          "data": {
            "text/html": [
              "<div>\n",
              "<style scoped>\n",
              "    .dataframe tbody tr th:only-of-type {\n",
              "        vertical-align: middle;\n",
              "    }\n",
              "\n",
              "    .dataframe tbody tr th {\n",
              "        vertical-align: top;\n",
              "    }\n",
              "\n",
              "    .dataframe thead th {\n",
              "        text-align: right;\n",
              "    }\n",
              "</style>\n",
              "<table border=\"1\" class=\"dataframe\">\n",
              "  <thead>\n",
              "    <tr style=\"text-align: right;\">\n",
              "      <th></th>\n",
              "      <th>ride_id</th>\n",
              "      <th>travel_date</th>\n",
              "      <th>travel_time</th>\n",
              "      <th>travel_from</th>\n",
              "      <th>travel_to</th>\n",
              "      <th>car_type</th>\n",
              "      <th>max_capacity</th>\n",
              "    </tr>\n",
              "  </thead>\n",
              "  <tbody>\n",
              "    <tr>\n",
              "      <th>497</th>\n",
              "      <td>5676</td>\n",
              "      <td>2018-04-23</td>\n",
              "      <td>07:15</td>\n",
              "      <td>Kisii</td>\n",
              "      <td>Nairobi</td>\n",
              "      <td>shuttle</td>\n",
              "      <td>11</td>\n",
              "    </tr>\n",
              "  </tbody>\n",
              "</table>\n",
              "</div>"
            ],
            "text/plain": [
              "     ride_id travel_date travel_time travel_from travel_to car_type  \\\n",
              "497     5676  2018-04-23       07:15       Kisii   Nairobi  shuttle   \n",
              "\n",
              "     max_capacity  \n",
              "497            11  "
            ]
          },
          "execution_count": 7,
          "metadata": {},
          "output_type": "execute_result"
        }
      ],
      "source": [
        "# Challenge 2\n",
        "# Which type of vehicle travelled on 23/04/18 from Kisii to Nairobi at 7.15am?\n",
        "#\n",
        "df[(df['travel_date']=='2018-04-23')&(df['travel_from']=='Kisii')&(df['travel_to']=='Nairobi')&(df['travel_time']=='07:15')]"
      ]
    },
    {
      "cell_type": "code",
      "execution_count": 8,
      "metadata": {
        "id": "7tilTerhNyiP"
      },
      "outputs": [
        {
          "data": {
            "text/plain": [
              "545"
            ]
          },
          "execution_count": 8,
          "metadata": {},
          "output_type": "execute_result"
        }
      ],
      "source": [
        "# Challenge 3\n",
        "# How many trips were made from Kisii to Nairobi?\n",
        "# \n",
        "df[(df['travel_from']=='Kisii')&(df['travel_to']=='Nairobi')]['travel_from'].count()"
      ]
    },
    {
      "cell_type": "code",
      "execution_count": 9,
      "metadata": {
        "id": "rhXeHa6IOBsq"
      },
      "outputs": [
        {
          "data": {
            "text/plain": [
              "0"
            ]
          },
          "execution_count": 9,
          "metadata": {},
          "output_type": "execute_result"
        }
      ],
      "source": [
        "# Challenge 4\n",
        "# How many trips were made by shuttle from Nairobi?\n",
        "# \n",
        "df[(df['car_type']=='shuttle')&(df['travel_from']=='Nairobi')]['travel_from'].count()"
      ]
    },
    {
      "cell_type": "code",
      "execution_count": 10,
      "metadata": {
        "id": "wddDP6yCOD_F"
      },
      "outputs": [
        {
          "data": {
            "text/plain": [
              "0"
            ]
          },
          "execution_count": 10,
          "metadata": {},
          "output_type": "execute_result"
        }
      ],
      "source": [
        "# Challenge 5\n",
        "# How many trips were made by bus from Nairobi to Awendo?\n",
        "# \n",
        "df[(df['car_type']=='bus')&(df['travel_from']=='Nairobi')&(df['travel_to']=='Awendo')]['travel_from'].count()"
      ]
    },
    {
      "cell_type": "code",
      "execution_count": 13,
      "metadata": {
        "id": "OemJ0HDYOHCq"
      },
      "outputs": [
        {
          "data": {
            "text/plain": [
              "Rongo    115\n",
              "Name: travel_from, dtype: int64"
            ]
          },
          "execution_count": 13,
          "metadata": {},
          "output_type": "execute_result"
        }
      ],
      "source": [
        "# Challenge 6\n",
        "# Which was the most travelled from destination by bus?\n",
        "# \n",
        "df.loc[df['car_type'] == 'Bus']['travel_from'].value_counts().sort_values(ascending= False).head(1)"
      ]
    },
    {
      "cell_type": "code",
      "execution_count": 14,
      "metadata": {
        "id": "CIxC5arSOLak"
      },
      "outputs": [
        {
          "data": {
            "text/plain": [
              "Nairobi    1111\n",
              "Name: travel_to, dtype: int64"
            ]
          },
          "execution_count": 14,
          "metadata": {},
          "output_type": "execute_result"
        }
      ],
      "source": [
        "# Challenge 7\n",
        "# Which was the most travelled to destination?\n",
        "# \n",
        "df['travel_to'].value_counts().head(1)"
      ]
    },
    {
      "cell_type": "code",
      "execution_count": 15,
      "metadata": {
        "id": "gSjjnw56OP8O"
      },
      "outputs": [
        {
          "data": {
            "text/plain": [
              "Nairobi    599\n",
              "Name: travel_to, dtype: int64"
            ]
          },
          "execution_count": 15,
          "metadata": {},
          "output_type": "execute_result"
        }
      ],
      "source": [
        "# Challenge 8\n",
        "# Which was the most travelled destination by bus?\n",
        "# \n",
        "df.loc[df['car_type'] == 'Bus']['travel_to'].value_counts().head(1)"
      ]
    },
    {
      "cell_type": "code",
      "execution_count": 19,
      "metadata": {
        "id": "UZLYqF7UOTtu"
      },
      "outputs": [
        {
          "data": {
            "text/plain": [
              "array(['Kisii', 'Rongo', 'Sirare', 'Homa Bay', 'Rodi', 'Awendo', 'Migori',\n",
              "       'Kijauri', 'Nyachenge', 'Kehancha', 'Keroka', 'Sori', 'Ndhiwa',\n",
              "       'Mbita', 'Oyugis'], dtype=object)"
            ]
          },
          "execution_count": 19,
          "metadata": {},
          "output_type": "execute_result"
        }
      ],
      "source": [
        "# Challenge 9\n",
        "# Which town did not have a departure by shuttle?\n",
        "# \n",
        "\n",
        "df['travel_from'].unique()"
      ]
    },
    {
      "cell_type": "code",
      "execution_count": 20,
      "metadata": {
        "id": "1qk8wF3MOXDu"
      },
      "outputs": [
        {
          "data": {
            "text/plain": [
              "Kisii       545\n",
              "Rongo       115\n",
              "Kijauri      79\n",
              "Homa Bay     53\n",
              "Awendo       44\n",
              "Name: travel_from, dtype: int64"
            ]
          },
          "execution_count": 20,
          "metadata": {},
          "output_type": "execute_result"
        }
      ],
      "source": [
        "# Challenge 10\n",
        "# Which were the most 5 travelled to destinations?\n",
        "# \n",
        "df['travel_from'].value_counts().head()"
      ]
    },
    {
      "cell_type": "code",
      "execution_count": 21,
      "metadata": {
        "id": "8xkStdjdXS3w"
      },
      "outputs": [
        {
          "data": {
            "text/plain": [
              "Sori      10\n",
              "Oyugis    12\n",
              "Keroka    21\n",
              "Mbita     25\n",
              "Sirare    28\n",
              "Name: travel_from, dtype: int64"
            ]
          },
          "execution_count": 21,
          "metadata": {},
          "output_type": "execute_result"
        }
      ],
      "source": [
        "# Challenge 11\n",
        "# Which were the least 5 travelled to destinations?\n",
        "#\n",
        "df['travel_from'].value_counts().sort_values(ascending=True).head(5)"
      ]
    },
    {
      "cell_type": "code",
      "execution_count": 36,
      "metadata": {},
      "outputs": [
        {
          "data": {
            "text/plain": [
              "ride_id          int64\n",
              "travel_date     object\n",
              "travel_time     object\n",
              "travel_from     object\n",
              "travel_to       object\n",
              "car_type        object\n",
              "max_capacity     int64\n",
              "dtype: object"
            ]
          },
          "execution_count": 36,
          "metadata": {},
          "output_type": "execute_result"
        }
      ],
      "source": [
        "df.dtypes"
      ]
    },
    {
      "cell_type": "code",
      "execution_count": 41,
      "metadata": {
        "id": "rgVsXH_5XVCh"
      },
      "outputs": [
        {
          "data": {
            "text/plain": [
              "1474"
            ]
          },
          "execution_count": 41,
          "metadata": {},
          "output_type": "execute_result"
        }
      ],
      "source": [
        "# Challenge 12\n",
        "# If all shuttles travelled with full capacity, how many people travelled in shuttles from Kisii to Nairobi in the month of May?\n",
        "#\n",
        "trips = df.loc[(pd.to_datetime(df['travel_date']).dt.month == 5)& (df['travel_from'] == 'Kisii') & (df['car_type'] == 'shuttle') & (df['travel_to'] == 'Nairobi')]['ride_id'].count()\n",
        "total_people = trips * 11\n",
        "total_people"
      ]
    },
    {
      "cell_type": "code",
      "execution_count": 45,
      "metadata": {
        "id": "XvvFWhuDXXeP"
      },
      "outputs": [
        {
          "data": {
            "text/plain": [
              "travel_date\n",
              "2018-05-01    108\n",
              "2018-05-02     75\n",
              "2018-05-03     89\n",
              "2018-05-04     59\n",
              "2018-05-05     13\n",
              "2018-05-06     12\n",
              "2018-05-07      6\n",
              "2018-05-09      1\n",
              "Name: travel_from, dtype: int64"
            ]
          },
          "execution_count": 45,
          "metadata": {},
          "output_type": "execute_result"
        }
      ],
      "source": [
        "# Challenge 13\n",
        "# Which date had the highest no. of trips in June?\n",
        "#\n",
        "df.loc[(pd.to_datetime(df['travel_date']).dt.month == 5)].groupby(['travel_date'])['travel_from'].count()"
      ]
    },
    {
      "cell_type": "code",
      "execution_count": 56,
      "metadata": {
        "id": "q1iq02FuXc2R"
      },
      "outputs": [
        {
          "data": {
            "text/plain": [
              "61.72222222222222"
            ]
          },
          "execution_count": 56,
          "metadata": {},
          "output_type": "execute_result"
        }
      ],
      "source": [
        "# Challenge 14\n",
        "# On average, how many trips were made by all vehicles in a day?\n",
        "#\n",
        "trips = df['ride_id'].nunique()\n",
        "date = df['travel_date'].nunique()\n",
        "avg = trips/date\n",
        "avg\n"
      ]
    },
    {
      "cell_type": "code",
      "execution_count": 53,
      "metadata": {},
      "outputs": [
        {
          "data": {
            "text/plain": [
              "61.72222222222222"
            ]
          },
          "execution_count": 53,
          "metadata": {},
          "output_type": "execute_result"
        }
      ],
      "source": [
        "df.groupby(df['travel_date'])['ride_id'].count().mean()"
      ]
    },
    {
      "cell_type": "code",
      "execution_count": 30,
      "metadata": {
        "id": "drAWpxBZXhcF"
      },
      "outputs": [
        {
          "data": {
            "text/plain": [
              "Bus        33.277778\n",
              "shuttle    28.444444\n",
              "Name: car_type, dtype: float64"
            ]
          },
          "execution_count": 30,
          "metadata": {},
          "output_type": "execute_result"
        }
      ],
      "source": [
        "# Challenge 15 \n",
        "# On average, how many buses and shuttles travelled in a day?\n",
        "# \n",
        "cars = df['car_type'].value_counts()\n",
        "# cars = df['car_type'].value_counts().sum() to get total\n",
        "dates = df['travel_date'].nunique()\n",
        "\n",
        "avg = cars / dates\n",
        "avg"
      ]
    },
    {
      "cell_type": "code",
      "execution_count": null,
      "metadata": {},
      "outputs": [],
      "source": []
    }
  ],
  "metadata": {
    "colab": {
      "collapsed_sections": [
        "VSnOCZ5-IPCi",
        "HToJZ2gBPawZ",
        "IICLGbvBRYHq",
        "RAVzK5O6IR8v",
        "NicC8P9LMjvO"
      ],
      "name": "Data Investigation with Pandas II",
      "provenance": [],
      "toc_visible": true
    },
    "kernelspec": {
      "display_name": "Python 3",
      "name": "python3"
    },
    "language_info": {
      "codemirror_mode": {
        "name": "ipython",
        "version": 3
      },
      "file_extension": ".py",
      "mimetype": "text/x-python",
      "name": "python",
      "nbconvert_exporter": "python",
      "pygments_lexer": "ipython3",
      "version": "3.9.2"
    }
  },
  "nbformat": 4,
  "nbformat_minor": 0
}
