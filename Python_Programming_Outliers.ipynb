{
  "cells": [
    {
      "cell_type": "markdown",
      "metadata": {
        "id": "4z4R6KDEOBu1"
      },
      "source": [
        "<font color=\"green\">*To start working on this notebook, or any other notebook that we will use in the Moringa Data Science Course, we will need to save our own copy of it. We can do this by clicking File > Save a Copy in Drive. We will then be able to make edits to our own copy of this notebook.*</font>"
      ]
    },
    {
      "cell_type": "markdown",
      "metadata": {
        "id": "jdpKPwMLOFq2"
      },
      "source": [
        "# Python Programming: Outliers"
      ]
    },
    {
      "cell_type": "markdown",
      "metadata": {
        "id": "H20nXTbl5gGM"
      },
      "source": [
        "### **Overview**"
      ]
    },
    {
      "cell_type": "markdown",
      "metadata": {
        "id": "JFLx2cE56_tf"
      },
      "source": [
        "During this session, we will get to learn about outliers found in datasets. We will learn how we can find them, their implications during analysis and how to deal with them.\n",
        "\n",
        "By definition, outliers are data points that differ greatly from the rest of the observations in a dataset.  A few examples of outliers include:\n",
        "\n",
        "*   Say during an exam, there's a student score of 20% while the rest of the scores are around 80%. The score of 20% is an outlier.\n",
        "*   A customer purchases shopping worth Ksh. 100, 000 while most customers shopping worth is Ksh. 3,000. The Ksh. 100, 000 is an outlier.\n",
        "\n",
        "There are many sources of outliers some of which include:\n",
        "1.   **Human error**: Errors in data entry\n",
        "2.   **Intentional reporting of incorrect data**: Under-reporting or over-reporting, fraud, etc.\n",
        "2.  **Sampling error**: Data collected from different target audiences.\n",
        "\n",
        "**Why do we need to detect outliers?**\n",
        "\n",
        "The presence of outliers in our dataset can sometimes distort our analysis. This is evident in certain cases where our models are sensitive to the training data i.e. linear regression. In other cases, detecting outliers helps us to further understand the system from which we collected our data. The following two suggested readings should provide us with guidelines on removing and handling outliers in data. \n",
        "\n",
        "Overall, if an outlier is due to some type of error, then its usually best practice to exclude the data from analysis i.e. by deleting the data. On the other hand, if the outlier was as a result of some natural process of the system where the experiment/or the data was being collected, then the outlier should not be removed.\n"
      ]
    },
    {
      "cell_type": "markdown",
      "metadata": {
        "id": "PmZdYSeHOVN2"
      },
      "source": [
        "## Examples"
      ]
    },
    {
      "cell_type": "markdown",
      "metadata": {
        "id": "DwM2aK5gVHO6"
      },
      "source": [
        "### 1. Finding Outliers"
      ]
    },
    {
      "cell_type": "markdown",
      "metadata": {
        "id": "ncXu-6kgOVgS"
      },
      "source": [
        "#### Example 1: Box Plot"
      ]
    },
    {
      "cell_type": "code",
      "execution_count": null,
      "metadata": {
        "colab": {
          "base_uri": "https://localhost:8080/",
          "height": 204
        },
        "id": "24XfAfBcOVgT",
        "outputId": "eb431063-e046-46fd-fb9b-8894419393d0"
      },
      "outputs": [
        {
          "data": {
            "text/html": [
              "<div>\n",
              "<style scoped>\n",
              "    .dataframe tbody tr th:only-of-type {\n",
              "        vertical-align: middle;\n",
              "    }\n",
              "\n",
              "    .dataframe tbody tr th {\n",
              "        vertical-align: top;\n",
              "    }\n",
              "\n",
              "    .dataframe thead th {\n",
              "        text-align: right;\n",
              "    }\n",
              "</style>\n",
              "<table border=\"1\" class=\"dataframe\">\n",
              "  <thead>\n",
              "    <tr style=\"text-align: right;\">\n",
              "      <th></th>\n",
              "      <th>total_bill</th>\n",
              "      <th>tip</th>\n",
              "      <th>sex</th>\n",
              "      <th>smoker</th>\n",
              "      <th>day</th>\n",
              "      <th>time</th>\n",
              "      <th>size</th>\n",
              "    </tr>\n",
              "  </thead>\n",
              "  <tbody>\n",
              "    <tr>\n",
              "      <th>0</th>\n",
              "      <td>16.99</td>\n",
              "      <td>1.01</td>\n",
              "      <td>Female</td>\n",
              "      <td>No</td>\n",
              "      <td>Sun</td>\n",
              "      <td>Dinner</td>\n",
              "      <td>2</td>\n",
              "    </tr>\n",
              "    <tr>\n",
              "      <th>1</th>\n",
              "      <td>10.34</td>\n",
              "      <td>1.66</td>\n",
              "      <td>Male</td>\n",
              "      <td>No</td>\n",
              "      <td>Sun</td>\n",
              "      <td>Dinner</td>\n",
              "      <td>3</td>\n",
              "    </tr>\n",
              "    <tr>\n",
              "      <th>2</th>\n",
              "      <td>21.01</td>\n",
              "      <td>3.50</td>\n",
              "      <td>Male</td>\n",
              "      <td>No</td>\n",
              "      <td>Sun</td>\n",
              "      <td>Dinner</td>\n",
              "      <td>3</td>\n",
              "    </tr>\n",
              "    <tr>\n",
              "      <th>3</th>\n",
              "      <td>23.68</td>\n",
              "      <td>3.31</td>\n",
              "      <td>Male</td>\n",
              "      <td>No</td>\n",
              "      <td>Sun</td>\n",
              "      <td>Dinner</td>\n",
              "      <td>2</td>\n",
              "    </tr>\n",
              "    <tr>\n",
              "      <th>4</th>\n",
              "      <td>24.59</td>\n",
              "      <td>3.61</td>\n",
              "      <td>Female</td>\n",
              "      <td>No</td>\n",
              "      <td>Sun</td>\n",
              "      <td>Dinner</td>\n",
              "      <td>4</td>\n",
              "    </tr>\n",
              "  </tbody>\n",
              "</table>\n",
              "</div>"
            ],
            "text/plain": [
              "   total_bill   tip     sex smoker  day    time  size\n",
              "0       16.99  1.01  Female     No  Sun  Dinner     2\n",
              "1       10.34  1.66    Male     No  Sun  Dinner     3\n",
              "2       21.01  3.50    Male     No  Sun  Dinner     3\n",
              "3       23.68  3.31    Male     No  Sun  Dinner     2\n",
              "4       24.59  3.61  Female     No  Sun  Dinner     4"
            ]
          },
          "execution_count": 46,
          "metadata": {
            "tags": []
          },
          "output_type": "execute_result"
        }
      ],
      "source": [
        "# Example 1 \n",
        "# ---\n",
        "# Visualising outliers using box plot.\n",
        "# ---\n",
        "# A boxplot is a method for graphically depicting groups of numerical data \n",
        "# through their quantiles or the five-number summary \n",
        "# (minimum, first quartile (Q1), median, third quartile (Q3), and maximum). \n",
        "# This method is normally used to detect outliers. \n",
        "# ---\n",
        "# Dataset url = http://bit.ly/OutlierDataset\n",
        "#\n",
        "\n",
        "# Importing the required libraries\n",
        "# \n",
        "import numpy as np \n",
        "import pandas as pd \n",
        "import matplotlib.pyplot as plt \n",
        "% matplotlib inline \n",
        "\n",
        "# Loading the dataset \n",
        "# \n",
        "df = pd.read_csv(\"http://bit.ly/OutlierDataset\") \n",
        "\n",
        "# Display 5 rows of dataset \n",
        "# \n",
        "df.head() "
      ]
    },
    {
      "cell_type": "code",
      "execution_count": null,
      "metadata": {
        "colab": {
          "base_uri": "https://localhost:8080/",
          "height": 283
        },
        "id": "4h9DfLYp8IN9",
        "outputId": "ea1f5e44-120f-49e8-ceb5-11824b5caef5"
      },
      "outputs": [
        {
          "data": {
            "text/plain": [
              "<matplotlib.axes._subplots.AxesSubplot at 0x7facd11d40f0>"
            ]
          },
          "execution_count": 47,
          "metadata": {
            "tags": []
          },
          "output_type": "execute_result"
        },
        {
          "data": {
            "image/png": "[encoded data removed]",
            "text/plain": [
              "<Figure size 432x288 with 1 Axes>"
            ]
          },
          "metadata": {
            "tags": []
          },
          "output_type": "display_data"
        }
      ],
      "source": [
        "# Creating a box plot of the variable 'total_bill'\n",
        "# ---\n",
        "# \n",
        "df.boxplot(column =['total_bill'], grid = False) \n",
        "\n",
        "# NB:\n",
        "# The circles in the plot indicate outliers and there are many."
      ]
    },
    {
      "cell_type": "code",
      "execution_count": null,
      "metadata": {
        "colab": {
          "base_uri": "https://localhost:8080/",
          "height": 318
        },
        "id": "6NgrHUi0-xMu",
        "outputId": "7b13c70c-4eb6-42a7-c874-032bd8a9d4fd"
      },
      "outputs": [
        {
          "data": {
            "text/plain": [
              "<matplotlib.axes._subplots.AxesSubplot at 0x7facccf83470>"
            ]
          },
          "execution_count": 48,
          "metadata": {
            "tags": []
          },
          "output_type": "execute_result"
        },
        {
          "data": {
            "image/png": "[encoded data removed]",
            "text/plain": [
              "<Figure size 432x288 with 1 Axes>"
            ]
          },
          "metadata": {
            "tags": []
          },
          "output_type": "display_data"
        }
      ],
      "source": [
        "# It is also possible to identify outliers using more than one variables as shown\n",
        "# ---\n",
        "#  \n",
        "df.boxplot(column =['total_bill'], by ='day', grid = False)"
      ]
    },
    {
      "cell_type": "code",
      "execution_count": null,
      "metadata": {
        "colab": {
          "base_uri": "https://localhost:8080/",
          "height": 316
        },
        "id": "P1ACyJO01BRv",
        "outputId": "a00bc734-0e96-4830-f905-5b1d36fc6b69"
      },
      "outputs": [
        {
          "data": {
            "text/plain": [
              "Text(0, 0.5, 'Life Expectancy')"
            ]
          },
          "execution_count": 56,
          "metadata": {
            "tags": []
          },
          "output_type": "execute_result"
        },
        {
          "data": {
            "image/png": "[encoded data removed]",
            "text/plain": [
              "<Figure size 432x288 with 1 Axes>"
            ]
          },
          "metadata": {
            "tags": []
          },
          "output_type": "display_data"
        }
      ],
      "source": [
        "# Example 1-2: Outliers - Box plot (Multiple variables)\n",
        "# ---\n",
        "# Another way of finding outliers of multiple variables is by creating a box plot as shown below\n",
        "# ---\n",
        "# \n",
        "\n",
        "# Importing the seaborn library\n",
        "# ---\n",
        "#\n",
        "import seaborn as sns\n",
        "\n",
        "# Reading data from url as dataframe\n",
        "# ---\n",
        "# \n",
        "gapminder = pd.read_csv(\"http://bit.ly/FiveYearData\") \n",
        "\n",
        "# Filtering the data such that we will keep data from all countries for the year 2007\n",
        "gapminder_2007 = gapminder[gapminder['year']==2007] \n",
        "\n",
        "# We then specify from the multiple options to customize the boxplot with Seaborn.\n",
        "# We choose color palette scheme for the boxplot with Seaborn. \n",
        "# Here, we chose colorblind friendly palette “colorblind”. \n",
        "# Other color palette options available in Seaborn include deep, muted, bright, pastel, and dark.\n",
        "# Uncomment the line below after running the previous lines\n",
        "bplot = sns.boxplot(y='lifeExp', x='continent', data=gapminder_2007, width=0.5, palette=\"colorblind\")\n",
        "\n",
        "# Boxplot alone is extremely useful in getting the summary of data within and between groups. \n",
        "# However, often, it is a good practice to overlay the actual data points on the boxplot.\n",
        "# We use jitter = True option to spread the data points horizontally and also \n",
        "# make boxplot with data points using stripplot.\n",
        "# Uncomment the line below after running the previous lines\n",
        "bplot=sns.stripplot(y='lifeExp', x='continent',  data=gapminder_2007, jitter=True, marker='o', alpha=0.5, color='black')\n",
        "\n",
        "# We then name and size our graph and axis\n",
        "# Uncomment the lines below after running the previous lines\n",
        "bplot.axes.set_title(\"2007: Life Expectancy Vs Continent\", fontsize=14)\n",
        "bplot.set_xlabel(\"Continent\", fontsize=12)\n",
        "bplot.set_ylabel(\"Life Expectancy\", fontsize=12)"
      ]
    },
    {
      "cell_type": "markdown",
      "metadata": {
        "id": "Vd-48O6POQaL"
      },
      "source": [
        "#### Example 2: Histogram"
      ]
    },
    {
      "cell_type": "code",
      "execution_count": null,
      "metadata": {
        "colab": {
          "base_uri": "https://localhost:8080/",
          "height": 282
        },
        "id": "Dy-FNfkSOR8A",
        "outputId": "2a386453-69a2-42c3-d1cd-8e969d5c88f5"
      },
      "outputs": [
        {
          "data": {
            "text/plain": [
              "<matplotlib.axes._subplots.AxesSubplot at 0x7facccf29f28>"
            ]
          },
          "execution_count": 49,
          "metadata": {
            "tags": []
          },
          "output_type": "execute_result"
        },
        {
          "data": {
            "image/png": "[encoded data removed]",
            "text/plain": [
              "<Figure size 432x288 with 1 Axes>"
            ]
          },
          "metadata": {
            "tags": []
          },
          "output_type": "display_data"
        }
      ],
      "source": [
        "# Example 2\n",
        "# ---\n",
        "# We use a histogram to visualize the distibution of a numerical variable.\n",
        "# The created histogram shows that the distribution is right-skewed \n",
        "# and there are extreme higher values at the right of the histogram.\n",
        "# ---\n",
        "# \n",
        "df.total_bill.hist()"
      ]
    },
    {
      "cell_type": "markdown",
      "metadata": {
        "id": "gxED3bY8OQrx"
      },
      "source": [
        "#### Example 3: Scatter Plot"
      ]
    },
    {
      "cell_type": "code",
      "execution_count": null,
      "metadata": {
        "colab": {
          "base_uri": "https://localhost:8080/",
          "height": 388
        },
        "id": "YKFv1b5TOQrz",
        "outputId": "23a43b58-8360-489c-baa4-942c0a16aebf"
      },
      "outputs": [
        {
          "data": {
            "image/png": "[encoded data removed]",
            "text/plain": [
              "<Figure size 864x432 with 1 Axes>"
            ]
          },
          "metadata": {
            "tags": []
          },
          "output_type": "display_data"
        }
      ],
      "source": [
        "# Example 3\n",
        "# ---\n",
        "# The scatterplot will visualize the relationship between two quantitative variables. \n",
        "# The data points will be displayed as a collection of points. \n",
        "# Data points outside the general clustering of the two variables can be indicated as outliers.\n",
        "# ---\n",
        "# \n",
        "fig, ax = plt.subplots(figsize=(12,6))\n",
        "ax.scatter(df['total_bill'], df['tip'])\n",
        "ax.set_xlabel('Total Bill')\n",
        "ax.set_ylabel('Tip')\n",
        "plt.show()"
      ]
    },
    {
      "cell_type": "markdown",
      "metadata": {
        "id": "6XEIOnysU89y"
      },
      "source": [
        "#### Example 4: Z-Score"
      ]
    },
    {
      "cell_type": "code",
      "execution_count": null,
      "metadata": {
        "colab": {
          "base_uri": "https://localhost:8080/",
          "height": 34
        },
        "id": "gXqBA9rbiI0_",
        "outputId": "a21cf5b5-437f-48fd-ee5c-186d4b076b2e"
      },
      "outputs": [
        {
          "data": {
            "text/plain": [
              "[48.27, 48.17, 50.81, 48.33]"
            ]
          },
          "execution_count": 51,
          "metadata": {
            "tags": []
          },
          "output_type": "execute_result"
        }
      ],
      "source": [
        "# Example 4: Outliers - Mathematical Function (Z-Score-)\n",
        "# ---\n",
        "# The Z-score is the signed number of standard deviations by which the value of an observation \n",
        "# or data point is above the mean value of what is being observed or measured.\n",
        "# The intuition behind Z-score is to describe any data point by finding their \n",
        "# relationship with the Standard Deviation and Mean of the group of data points. \n",
        "# Z-score is finding the distribution of data where mean is 0 \n",
        "# and standard deviation is 1 i.e. normal distribution.\n",
        "# You must be wondering that, how does this help in identifying the outliers? \n",
        "# Well, while calculating the Z-score we re-scale and center the data \n",
        "# and look for data points which are too far from zero. \n",
        "# These data points which are way too far from zero will be treated as the outliers. \n",
        "# In most of the cases a threshold of 3 or -3 is used i.e \n",
        "# if the Z-score value is greater than or less than 3 or -3 respectively, \n",
        "# that data point will be identified as an outlier.\n",
        "# ---\n",
        "# We will create the following function to calculate our z-scores and detect our outliers\n",
        "# ---\n",
        "# \n",
        "outliers=[]\n",
        "\n",
        "def detect_outlier(data_1):\n",
        "    \n",
        "    threshold=3\n",
        "    mean_1 = np.mean(data_1)\n",
        "    std_1 =np.std(data_1)\n",
        "    \n",
        "    for y in data_1:\n",
        "        z_score= (y - mean_1)/std_1 \n",
        "        if np.abs(z_score) > threshold:\n",
        "            outliers.append(y)\n",
        "    return outliers\n",
        "\n",
        "detect_outlier(df['total_bill'])"
      ]
    },
    {
      "cell_type": "code",
      "execution_count": null,
      "metadata": {
        "colab": {
          "base_uri": "https://localhost:8080/",
          "height": 341
        },
        "id": "YKW1NPzouW1x",
        "outputId": "6e2aa14f-c92b-48db-d39c-00d22a4c6aa5"
      },
      "outputs": [
        {
          "ename": "IndexError",
          "evalue": "ignored",
          "output_type": "error",
          "traceback": [
            "\u001b[0;31m---------------------------------------------------------------------------\u001b[0m",
            "\u001b[0;31mIndexError\u001b[0m                                Traceback (most recent call last)",
            "\u001b[0;32m<ipython-input-44-fd90f505a3a4>\u001b[0m in \u001b[0;36m<module>\u001b[0;34m()\u001b[0m\n\u001b[0;32m----> 1\u001b[0;31m \u001b[0mboston_zf\u001b[0m \u001b[0;34m=\u001b[0m \u001b[0mdf\u001b[0m\u001b[0;34m[\u001b[0m\u001b[0;34m'total_bill'\u001b[0m\u001b[0;34m]\u001b[0m \u001b[0;34m[\u001b[0m\u001b[0;34m(\u001b[0m\u001b[0mz\u001b[0m \u001b[0;34m<\u001b[0m \u001b[0;36m3\u001b[0m\u001b[0;34m)\u001b[0m\u001b[0;34m.\u001b[0m\u001b[0mall\u001b[0m\u001b[0;34m(\u001b[0m\u001b[0maxis\u001b[0m\u001b[0;34m=\u001b[0m\u001b[0;36m1\u001b[0m\u001b[0;34m)\u001b[0m\u001b[0;34m]\u001b[0m\u001b[0;34m\u001b[0m\u001b[0;34m\u001b[0m\u001b[0m\n\u001b[0m\u001b[1;32m      2\u001b[0m \u001b[0;34m\u001b[0m\u001b[0m\n\u001b[1;32m      3\u001b[0m \u001b[0mboston_zf\u001b[0m\u001b[0;34m\u001b[0m\u001b[0;34m\u001b[0m\u001b[0m\n",
            "\u001b[0;32m/usr/local/lib/python3.6/dist-packages/pandas/core/series.py\u001b[0m in \u001b[0;36m__getitem__\u001b[0;34m(self, key)\u001b[0m\n\u001b[1;32m   1109\u001b[0m \u001b[0;34m\u001b[0m\u001b[0m\n\u001b[1;32m   1110\u001b[0m         \u001b[0;32mif\u001b[0m \u001b[0mcom\u001b[0m\u001b[0;34m.\u001b[0m\u001b[0mis_bool_indexer\u001b[0m\u001b[0;34m(\u001b[0m\u001b[0mkey\u001b[0m\u001b[0;34m)\u001b[0m\u001b[0;34m:\u001b[0m\u001b[0;34m\u001b[0m\u001b[0;34m\u001b[0m\u001b[0m\n\u001b[0;32m-> 1111\u001b[0;31m             \u001b[0mkey\u001b[0m \u001b[0;34m=\u001b[0m \u001b[0mcheck_bool_indexer\u001b[0m\u001b[0;34m(\u001b[0m\u001b[0mself\u001b[0m\u001b[0;34m.\u001b[0m\u001b[0mindex\u001b[0m\u001b[0;34m,\u001b[0m \u001b[0mkey\u001b[0m\u001b[0;34m)\u001b[0m\u001b[0;34m\u001b[0m\u001b[0;34m\u001b[0m\u001b[0m\n\u001b[0m\u001b[1;32m   1112\u001b[0m \u001b[0;34m\u001b[0m\u001b[0m\n\u001b[1;32m   1113\u001b[0m         \u001b[0;32mreturn\u001b[0m \u001b[0mself\u001b[0m\u001b[0;34m.\u001b[0m\u001b[0m_get_with\u001b[0m\u001b[0;34m(\u001b[0m\u001b[0mkey\u001b[0m\u001b[0;34m)\u001b[0m\u001b[0;34m\u001b[0m\u001b[0;34m\u001b[0m\u001b[0m\n",
            "\u001b[0;32m/usr/local/lib/python3.6/dist-packages/pandas/core/indexing.py\u001b[0m in \u001b[0;36mcheck_bool_indexer\u001b[0;34m(index, key)\u001b[0m\n\u001b[1;32m   2422\u001b[0m         \u001b[0;32mif\u001b[0m \u001b[0mlen\u001b[0m\u001b[0;34m(\u001b[0m\u001b[0mresult\u001b[0m\u001b[0;34m)\u001b[0m \u001b[0;34m!=\u001b[0m \u001b[0mlen\u001b[0m\u001b[0;34m(\u001b[0m\u001b[0mindex\u001b[0m\u001b[0;34m)\u001b[0m\u001b[0;34m:\u001b[0m\u001b[0;34m\u001b[0m\u001b[0;34m\u001b[0m\u001b[0m\n\u001b[1;32m   2423\u001b[0m             raise IndexError(\n\u001b[0;32m-> 2424\u001b[0;31m                 \u001b[0;34m\"Item wrong length {} instead of {}.\"\u001b[0m\u001b[0;34m.\u001b[0m\u001b[0mformat\u001b[0m\u001b[0;34m(\u001b[0m\u001b[0mlen\u001b[0m\u001b[0;34m(\u001b[0m\u001b[0mresult\u001b[0m\u001b[0;34m)\u001b[0m\u001b[0;34m,\u001b[0m \u001b[0mlen\u001b[0m\u001b[0;34m(\u001b[0m\u001b[0mindex\u001b[0m\u001b[0;34m)\u001b[0m\u001b[0;34m)\u001b[0m\u001b[0;34m\u001b[0m\u001b[0;34m\u001b[0m\u001b[0m\n\u001b[0m\u001b[1;32m   2425\u001b[0m             )\n\u001b[1;32m   2426\u001b[0m \u001b[0;34m\u001b[0m\u001b[0m\n",
            "\u001b[0;31mIndexError\u001b[0m: Item wrong length 506 instead of 244."
          ]
        }
      ],
      "source": [
        "# we want to use a copy of boston_df \n",
        "\n",
        "# removing the outliers\n",
        "boston_zf = df['total_bill'] [(z < 3).all(axis=1)]\n",
        "\n",
        "boston_zf"
      ]
    },
    {
      "cell_type": "markdown",
      "metadata": {
        "id": "sjLMkyDqVWGH"
      },
      "source": [
        "### 2. Dealing with Outliers"
      ]
    },
    {
      "cell_type": "markdown",
      "metadata": {
        "id": "A7q6gzTGVWGn"
      },
      "source": [
        "#### Example 1: Dropping outliers"
      ]
    },
    {
      "cell_type": "code",
      "execution_count": null,
      "metadata": {
        "id": "L_9_WcO_VWGo"
      },
      "outputs": [],
      "source": [
        "# Example 2: \n",
        "# ---\n",
        "# IQR Score \n",
        "# ---\n",
        "# The IQR score uses the IQR scores to remove the outliers. \n",
        "# The rule of thumb is that anything not in the range of \n",
        "# (Q1 - 1.5 IQR) and (Q3 + 1.5 IQR) is an outlier, and can be removed.\n",
        "# ---\n",
        "# Something to note about outlier methods is that they are likely to yield \n",
        "# different results due to the fact that they use different techniques (criteria) \n",
        "# for outlier detection\n",
        "# ---\n",
        "#\n",
        "\n",
        "# Calculating our first, third quantiles and then later our IQR\n",
        "# ---\n",
        "Q1 = df.quantile(0.25)\n",
        "Q3 = df.quantile(0.75)\n",
        "IQR = Q3 - Q1\n",
        "\n",
        "# Removing outliers based on the IQR range and stores the result in the data frame 'df_out'\n",
        "# ---\n",
        "# \n",
        "df_out = df[~((df < (Q1 - 1.5 * IQR)) | (df > (Q3 + 1.5 * IQR))).any(axis=1)]\n",
        "\n",
        "# Printing the shape of our new dataset\n",
        "# ---\n",
        "# \n",
        "print(df_out.shape)\n",
        "\n",
        "# Printing the shape of our old dataset\n",
        "# ---\n",
        "#\n",
        "print(df.shape)"
      ]
    },
    {
      "cell_type": "markdown",
      "metadata": {
        "id": "Yw8GEqngOeb1"
      },
      "source": [
        "## <font color=\"green\">Challenges</font>"
      ]
    },
    {
      "cell_type": "markdown",
      "metadata": {
        "id": "HYEHQfxxOeb2"
      },
      "source": [
        "#### <font color=\"green\">Challenge 1</font>"
      ]
    },
    {
      "cell_type": "code",
      "execution_count": null,
      "metadata": {
        "id": "dinMCd53Oeb3"
      },
      "outputs": [],
      "source": [
        "# Challenge 1\n",
        "# ---\n",
        "# Using a Box - Plot determine and remove the outliers in the following dataset \n",
        "# ---\n",
        "# Dataset url = http://bit.ly/MSClimateDataset\n",
        "# ---\n",
        "# \n",
        "OUR CODE GOES HERE"
      ]
    },
    {
      "cell_type": "markdown",
      "metadata": {
        "id": "X1x1v181Oeb6"
      },
      "source": [
        "#### <font color=\"green\">Challenge 2</font>"
      ]
    },
    {
      "cell_type": "code",
      "execution_count": null,
      "metadata": {
        "id": "4gJCCP64Oeb7"
      },
      "outputs": [],
      "source": [
        "# Challenge 2\n",
        "# ---\n",
        "# Attached is a set of products in which a sales and marketing team are trying to determine \n",
        "# which products we should continue to sell, and which products to remove from our inventory. \n",
        "# The file contains BOTH historical sales data AND active inventory, \n",
        "# which can be discerned with the column titled \"File Type\".\n",
        "# Find and deal with outliers in this dataset;\n",
        "# ---\n",
        "# Dataset url = http://bit.ly/MSProductSales\n",
        "# ---\n",
        "# \n",
        "OUR CODE GOES HERE"
      ]
    },
    {
      "cell_type": "markdown",
      "metadata": {
        "id": "JpEQ5XMpOeb-"
      },
      "source": [
        "#### <font color=\"green\">Challenge 3</font>"
      ]
    },
    {
      "cell_type": "code",
      "execution_count": null,
      "metadata": {
        "id": "AHJPx7SqOecA"
      },
      "outputs": [],
      "source": [
        "# Challenge 3\n",
        "# ---\n",
        "# Brazilian politicians are entitled to refunds if they spend any of their money \n",
        "# on an activity that is enabling them to \"better serve the people\".\n",
        "# Those expenses are public data, however, there is little monitoring/data analysis of it. \n",
        "# A quick look at it shows a deputy with over 800 flights in one year. \n",
        "# Another deputy has over 140.000R$ expenses on mailing (old fashion mail) in one year.\n",
        "# There are a lot of very suspicious data regarding the deputies expending behavior. \n",
        "# Can you help spot outliers and companies charging unusual amounts of money for a service?\n",
        "# ---\n",
        "# Dataset url = http://bit.ly/MSBrazilPoliticians\n",
        "# ---\n",
        "# \n",
        "OUR CODE GOES HERE"
      ]
    }
  ],
  "metadata": {
    "colab": {
      "collapsed_sections": [
        "DwM2aK5gVHO6",
        "ncXu-6kgOVgS",
        "Vd-48O6POQaL",
        "gxED3bY8OQrx",
        "6XEIOnysU89y",
        "sjLMkyDqVWGH",
        "A7q6gzTGVWGn",
        "Yw8GEqngOeb1",
        "HYEHQfxxOeb2",
        "X1x1v181Oeb6",
        "JpEQ5XMpOeb-"
      ],
      "name": "Python Programming: Outliers",
      "provenance": [],
      "toc_visible": true
    },
    "kernelspec": {
      "display_name": "Python 3",
      "name": "python3"
    }
  },
  "nbformat": 4,
  "nbformat_minor": 0
}
