{
  "cells": [
    {
      "cell_type": "markdown",
      "metadata": {
        "id": "mh5V-mRF29qO"
      },
      "source": [
        "<font color=\"green\">*To start working on this notebook, or any other notebook that we will use in the Moringa Data Science Course, we will need to save our own copy of it. We can do this by clicking File > Save a Copy in Drive. We will then be able to make edits to our own copy of this notebook.*</font>"
      ]
    },
    {
      "cell_type": "markdown",
      "metadata": {
        "id": "m0tgCkvzPLEa"
      },
      "source": [
        "# Python Data Cleaning and Analysis - Kenyan Households Roofing Materials"
      ]
    },
    {
      "cell_type": "markdown",
      "metadata": {
        "id": "VSnOCZ5-IPCi"
      },
      "source": [
        "## 1.0 Importing our Libraries"
      ]
    },
    {
      "cell_type": "code",
      "execution_count": 34,
      "metadata": {
        "id": "3r-KDLvrO44a"
      },
      "outputs": [],
      "source": [
        "# Importing the libraries we will need \n",
        "\n",
        "# Importing the pandas library\n",
        "import pandas as pd\n",
        "\n",
        "# Importing the numpy library\n",
        "import numpy as np"
      ]
    },
    {
      "cell_type": "markdown",
      "metadata": {
        "id": "HToJZ2gBPawZ"
      },
      "source": [
        "## 1.1 Reading the Dataset from our CSV file\n",
        "\n"
      ]
    },
    {
      "cell_type": "markdown",
      "metadata": {
        "id": "LBUr8VUXQX-K"
      },
      "source": [
        "\n",
        "\n",
        "The dataset we will use contains Kenyan households by the main type of Roofing Material for the main dwelling unit for 2009.\n",
        "\n",
        "\n",
        "\n",
        "*   Dataset link for download or access: [Link](https://drive.google.com/a/moringaschool.com/file/d/1Mij0eAI8CHzanECX-n4Cv20N0A_whueJ/view?usp=sharing)\n",
        "\n",
        "\n",
        "\n"
      ]
    },
    {
      "cell_type": "code",
      "execution_count": 35,
      "metadata": {
        "id": "1acwmZanRNHs"
      },
      "outputs": [
        {
          "data": {
            "text/html": [
              "<div>\n",
              "<style scoped>\n",
              "    .dataframe tbody tr th:only-of-type {\n",
              "        vertical-align: middle;\n",
              "    }\n",
              "\n",
              "    .dataframe tbody tr th {\n",
              "        vertical-align: top;\n",
              "    }\n",
              "\n",
              "    .dataframe thead th {\n",
              "        text-align: right;\n",
              "    }\n",
              "</style>\n",
              "<table border=\"1\" class=\"dataframe\">\n",
              "  <thead>\n",
              "    <tr style=\"text-align: right;\">\n",
              "      <th></th>\n",
              "      <th>District</th>\n",
              "      <th>rural/urban</th>\n",
              "      <th>%_of_Households_Corrugated_Iron_Sheets</th>\n",
              "      <th>%_of_Households_Tiles</th>\n",
              "      <th>%_of_Households_Concrete</th>\n",
              "      <th>Asbestos_%_of_Households_Sheets</th>\n",
              "      <th>%_of_Households_Grass</th>\n",
              "      <th>%_of_Households_Makuti</th>\n",
              "      <th>%_of_Households_Tin</th>\n",
              "      <th>%_of_Households_Mud/Dung</th>\n",
              "      <th>...</th>\n",
              "      <th>No_Grass</th>\n",
              "      <th>No_Makuti</th>\n",
              "      <th>No_Tin</th>\n",
              "      <th>No_Mud/Dung</th>\n",
              "      <th>No_Other</th>\n",
              "      <th>County</th>\n",
              "      <th>MTEF</th>\n",
              "      <th>Location_1</th>\n",
              "      <th>Province</th>\n",
              "      <th>OBJECTID</th>\n",
              "    </tr>\n",
              "  </thead>\n",
              "  <tbody>\n",
              "    <tr>\n",
              "      <th>0</th>\n",
              "      <td>NYANDARUA NORTH</td>\n",
              "      <td>Urban</td>\n",
              "      <td>91.08%</td>\n",
              "      <td>0.62%</td>\n",
              "      <td>0.16%</td>\n",
              "      <td>1.46%</td>\n",
              "      <td>0.64%</td>\n",
              "      <td>0.03%</td>\n",
              "      <td>0.07%</td>\n",
              "      <td>0%</td>\n",
              "      <td>...</td>\n",
              "      <td>148</td>\n",
              "      <td>7</td>\n",
              "      <td>17</td>\n",
              "      <td>1</td>\n",
              "      <td>1380</td>\n",
              "      <td>Nyandarua</td>\n",
              "      <td>Physical Infrastructure, Housing</td>\n",
              "      <td>NaN</td>\n",
              "      <td>CENTRAL</td>\n",
              "      <td>0</td>\n",
              "    </tr>\n",
              "    <tr>\n",
              "      <th>1</th>\n",
              "      <td>NYANDARUA SOUTH</td>\n",
              "      <td>Urban</td>\n",
              "      <td>95.38%</td>\n",
              "      <td>0.47%</td>\n",
              "      <td>2.6%</td>\n",
              "      <td>1.46%</td>\n",
              "      <td>0.06%</td>\n",
              "      <td>0%</td>\n",
              "      <td>0%</td>\n",
              "      <td>0.02%</td>\n",
              "      <td>...</td>\n",
              "      <td>3</td>\n",
              "      <td>0</td>\n",
              "      <td>0</td>\n",
              "      <td>1</td>\n",
              "      <td>1</td>\n",
              "      <td>Nyandarua</td>\n",
              "      <td>Physical Infrastructure, Housing</td>\n",
              "      <td>NaN</td>\n",
              "      <td>CENTRAL</td>\n",
              "      <td>1</td>\n",
              "    </tr>\n",
              "    <tr>\n",
              "      <th>2</th>\n",
              "      <td>NYERI NORTH</td>\n",
              "      <td>Urban</td>\n",
              "      <td>90.28%</td>\n",
              "      <td>1.13%</td>\n",
              "      <td>5.21%</td>\n",
              "      <td>2.58%</td>\n",
              "      <td>0.49%</td>\n",
              "      <td>0.08%</td>\n",
              "      <td>0.2%</td>\n",
              "      <td>0.01%</td>\n",
              "      <td>...</td>\n",
              "      <td>69</td>\n",
              "      <td>11</td>\n",
              "      <td>29</td>\n",
              "      <td>2</td>\n",
              "      <td>2</td>\n",
              "      <td>Nyeri</td>\n",
              "      <td>Physical Infrastructure, Housing</td>\n",
              "      <td>NaN</td>\n",
              "      <td>CENTRAL</td>\n",
              "      <td>2</td>\n",
              "    </tr>\n",
              "    <tr>\n",
              "      <th>3</th>\n",
              "      <td>NYERI SOUTH</td>\n",
              "      <td>Urban</td>\n",
              "      <td>90.89%</td>\n",
              "      <td>2.3%</td>\n",
              "      <td>3.32%</td>\n",
              "      <td>3.04%</td>\n",
              "      <td>0.09%</td>\n",
              "      <td>0.05%</td>\n",
              "      <td>0.14%</td>\n",
              "      <td>0.01%</td>\n",
              "      <td>...</td>\n",
              "      <td>36</td>\n",
              "      <td>20</td>\n",
              "      <td>57</td>\n",
              "      <td>2</td>\n",
              "      <td>67</td>\n",
              "      <td>Nyeri</td>\n",
              "      <td>Physical Infrastructure, Housing</td>\n",
              "      <td>NaN</td>\n",
              "      <td>CENTRAL</td>\n",
              "      <td>3</td>\n",
              "    </tr>\n",
              "    <tr>\n",
              "      <th>4</th>\n",
              "      <td>KIRINYAGA</td>\n",
              "      <td>Urban</td>\n",
              "      <td>91.41%</td>\n",
              "      <td>0.87%</td>\n",
              "      <td>3.97%</td>\n",
              "      <td>3.5%</td>\n",
              "      <td>0.04%</td>\n",
              "      <td>0.01%</td>\n",
              "      <td>0.03%</td>\n",
              "      <td>0.01%</td>\n",
              "      <td>...</td>\n",
              "      <td>11</td>\n",
              "      <td>3</td>\n",
              "      <td>9</td>\n",
              "      <td>4</td>\n",
              "      <td>42</td>\n",
              "      <td>Kirinyaga</td>\n",
              "      <td>Physical Infrastructure, Housing</td>\n",
              "      <td>NaN</td>\n",
              "      <td>CENTRAL</td>\n",
              "      <td>4</td>\n",
              "    </tr>\n",
              "    <tr>\n",
              "      <th>...</th>\n",
              "      <td>...</td>\n",
              "      <td>...</td>\n",
              "      <td>...</td>\n",
              "      <td>...</td>\n",
              "      <td>...</td>\n",
              "      <td>...</td>\n",
              "      <td>...</td>\n",
              "      <td>...</td>\n",
              "      <td>...</td>\n",
              "      <td>...</td>\n",
              "      <td>...</td>\n",
              "      <td>...</td>\n",
              "      <td>...</td>\n",
              "      <td>...</td>\n",
              "      <td>...</td>\n",
              "      <td>...</td>\n",
              "      <td>...</td>\n",
              "      <td>...</td>\n",
              "      <td>...</td>\n",
              "      <td>...</td>\n",
              "      <td>...</td>\n",
              "    </tr>\n",
              "    <tr>\n",
              "      <th>310</th>\n",
              "      <td>BUSIA</td>\n",
              "      <td>Rural</td>\n",
              "      <td>49.66%</td>\n",
              "      <td>0.46%</td>\n",
              "      <td>0.03%</td>\n",
              "      <td>2.15%</td>\n",
              "      <td>47.44%</td>\n",
              "      <td>0.08%</td>\n",
              "      <td>0.13%</td>\n",
              "      <td>0.03%</td>\n",
              "      <td>...</td>\n",
              "      <td>27611</td>\n",
              "      <td>48</td>\n",
              "      <td>78</td>\n",
              "      <td>15</td>\n",
              "      <td>9</td>\n",
              "      <td>Busia</td>\n",
              "      <td>Physical Infrastructure, Housing</td>\n",
              "      <td>NaN</td>\n",
              "      <td>WESTERN</td>\n",
              "      <td>310</td>\n",
              "    </tr>\n",
              "    <tr>\n",
              "      <th>311</th>\n",
              "      <td>TESO NORTH</td>\n",
              "      <td>Rural</td>\n",
              "      <td>29.2%</td>\n",
              "      <td>0.42%</td>\n",
              "      <td>0.03%</td>\n",
              "      <td>1.22%</td>\n",
              "      <td>69.07%</td>\n",
              "      <td>0.04%</td>\n",
              "      <td>0.01%</td>\n",
              "      <td>0.01%</td>\n",
              "      <td>...</td>\n",
              "      <td>9317</td>\n",
              "      <td>5</td>\n",
              "      <td>1</td>\n",
              "      <td>2</td>\n",
              "      <td>0</td>\n",
              "      <td>Busia</td>\n",
              "      <td>Physical Infrastructure, Housing</td>\n",
              "      <td>NaN</td>\n",
              "      <td>WESTERN</td>\n",
              "      <td>311</td>\n",
              "    </tr>\n",
              "    <tr>\n",
              "      <th>312</th>\n",
              "      <td>SAMIA</td>\n",
              "      <td>Rural</td>\n",
              "      <td>52.69%</td>\n",
              "      <td>0.72%</td>\n",
              "      <td>0.05%</td>\n",
              "      <td>2.01%</td>\n",
              "      <td>44.16%</td>\n",
              "      <td>0.22%</td>\n",
              "      <td>0.02%</td>\n",
              "      <td>0.04%</td>\n",
              "      <td>...</td>\n",
              "      <td>8561</td>\n",
              "      <td>43</td>\n",
              "      <td>4</td>\n",
              "      <td>8</td>\n",
              "      <td>16</td>\n",
              "      <td>Busia</td>\n",
              "      <td>Physical Infrastructure, Housing</td>\n",
              "      <td>NaN</td>\n",
              "      <td>WESTERN</td>\n",
              "      <td>312</td>\n",
              "    </tr>\n",
              "    <tr>\n",
              "      <th>313</th>\n",
              "      <td>BUNYALA</td>\n",
              "      <td>Rural</td>\n",
              "      <td>58.22%</td>\n",
              "      <td>0.5%</td>\n",
              "      <td>0.04%</td>\n",
              "      <td>1.63%</td>\n",
              "      <td>38.5%</td>\n",
              "      <td>0.15%</td>\n",
              "      <td>0.07%</td>\n",
              "      <td>0.01%</td>\n",
              "      <td>...</td>\n",
              "      <td>5211</td>\n",
              "      <td>20</td>\n",
              "      <td>9</td>\n",
              "      <td>2</td>\n",
              "      <td>120</td>\n",
              "      <td>Busia</td>\n",
              "      <td>Physical Infrastructure, Housing</td>\n",
              "      <td>NaN</td>\n",
              "      <td>WESTERN</td>\n",
              "      <td>313</td>\n",
              "    </tr>\n",
              "    <tr>\n",
              "      <th>314</th>\n",
              "      <td>TESO SOUTH</td>\n",
              "      <td>Rural</td>\n",
              "      <td>25.44%</td>\n",
              "      <td>0.36%</td>\n",
              "      <td>0.03%</td>\n",
              "      <td>0.66%</td>\n",
              "      <td>73.39%</td>\n",
              "      <td>0.07%</td>\n",
              "      <td>0.02%</td>\n",
              "      <td>0.01%</td>\n",
              "      <td>...</td>\n",
              "      <td>15664</td>\n",
              "      <td>16</td>\n",
              "      <td>4</td>\n",
              "      <td>3</td>\n",
              "      <td>4</td>\n",
              "      <td>Busia</td>\n",
              "      <td>Physical Infrastructure, Housing</td>\n",
              "      <td>NaN</td>\n",
              "      <td>WESTERN</td>\n",
              "      <td>314</td>\n",
              "    </tr>\n",
              "  </tbody>\n",
              "</table>\n",
              "<p>315 rows × 26 columns</p>\n",
              "</div>"
            ],
            "text/plain": [
              "            District rural/urban %_of_Households_Corrugated_Iron_Sheets  \\\n",
              "0    NYANDARUA NORTH       Urban                                 91.08%   \n",
              "1    NYANDARUA SOUTH       Urban                                 95.38%   \n",
              "2        NYERI NORTH       Urban                                 90.28%   \n",
              "3        NYERI SOUTH       Urban                                 90.89%   \n",
              "4          KIRINYAGA       Urban                                 91.41%   \n",
              "..               ...         ...                                    ...   \n",
              "310            BUSIA       Rural                                 49.66%   \n",
              "311       TESO NORTH       Rural                                  29.2%   \n",
              "312            SAMIA       Rural                                 52.69%   \n",
              "313          BUNYALA       Rural                                 58.22%   \n",
              "314       TESO SOUTH       Rural                                 25.44%   \n",
              "\n",
              "    %_of_Households_Tiles %_of_Households_Concrete  \\\n",
              "0                   0.62%                    0.16%   \n",
              "1                   0.47%                     2.6%   \n",
              "2                   1.13%                    5.21%   \n",
              "3                    2.3%                    3.32%   \n",
              "4                   0.87%                    3.97%   \n",
              "..                    ...                      ...   \n",
              "310                 0.46%                    0.03%   \n",
              "311                 0.42%                    0.03%   \n",
              "312                 0.72%                    0.05%   \n",
              "313                  0.5%                    0.04%   \n",
              "314                 0.36%                    0.03%   \n",
              "\n",
              "    Asbestos_%_of_Households_Sheets %_of_Households_Grass  \\\n",
              "0                             1.46%                 0.64%   \n",
              "1                             1.46%                 0.06%   \n",
              "2                             2.58%                 0.49%   \n",
              "3                             3.04%                 0.09%   \n",
              "4                              3.5%                 0.04%   \n",
              "..                              ...                   ...   \n",
              "310                           2.15%                47.44%   \n",
              "311                           1.22%                69.07%   \n",
              "312                           2.01%                44.16%   \n",
              "313                           1.63%                 38.5%   \n",
              "314                           0.66%                73.39%   \n",
              "\n",
              "    %_of_Households_Makuti %_of_Households_Tin %_of_Households_Mud/Dung  ...  \\\n",
              "0                    0.03%               0.07%                       0%  ...   \n",
              "1                       0%                  0%                    0.02%  ...   \n",
              "2                    0.08%                0.2%                    0.01%  ...   \n",
              "3                    0.05%               0.14%                    0.01%  ...   \n",
              "4                    0.01%               0.03%                    0.01%  ...   \n",
              "..                     ...                 ...                      ...  ...   \n",
              "310                  0.08%               0.13%                    0.03%  ...   \n",
              "311                  0.04%               0.01%                    0.01%  ...   \n",
              "312                  0.22%               0.02%                    0.04%  ...   \n",
              "313                  0.15%               0.07%                    0.01%  ...   \n",
              "314                  0.07%               0.02%                    0.01%  ...   \n",
              "\n",
              "    No_Grass  No_Makuti  No_Tin  No_Mud/Dung  No_Other     County  \\\n",
              "0        148          7      17            1      1380  Nyandarua   \n",
              "1          3          0       0            1         1  Nyandarua   \n",
              "2         69         11      29            2         2      Nyeri   \n",
              "3         36         20      57            2        67      Nyeri   \n",
              "4         11          3       9            4        42  Kirinyaga   \n",
              "..       ...        ...     ...          ...       ...        ...   \n",
              "310    27611         48      78           15         9      Busia   \n",
              "311     9317          5       1            2         0      Busia   \n",
              "312     8561         43       4            8        16      Busia   \n",
              "313     5211         20       9            2       120      Busia   \n",
              "314    15664         16       4            3         4      Busia   \n",
              "\n",
              "                                 MTEF  Location_1  Province  OBJECTID  \n",
              "0    Physical Infrastructure, Housing         NaN   CENTRAL         0  \n",
              "1    Physical Infrastructure, Housing         NaN   CENTRAL         1  \n",
              "2    Physical Infrastructure, Housing         NaN   CENTRAL         2  \n",
              "3    Physical Infrastructure, Housing         NaN   CENTRAL         3  \n",
              "4    Physical Infrastructure, Housing         NaN   CENTRAL         4  \n",
              "..                                ...         ...       ...       ...  \n",
              "310  Physical Infrastructure, Housing         NaN   WESTERN       310  \n",
              "311  Physical Infrastructure, Housing         NaN   WESTERN       311  \n",
              "312  Physical Infrastructure, Housing         NaN   WESTERN       312  \n",
              "313  Physical Infrastructure, Housing         NaN   WESTERN       313  \n",
              "314  Physical Infrastructure, Housing         NaN   WESTERN       314  \n",
              "\n",
              "[315 rows x 26 columns]"
            ]
          },
          "execution_count": 35,
          "metadata": {},
          "output_type": "execute_result"
        }
      ],
      "source": [
        "# Let's read the data from the CSV file and create the dataframe to be used\n",
        "# \n",
        "df=pd.read_csv(\"2009_Census_Volume_II_Table_5_Households_by_main_type_of_Roofing_Material_for_the_main_dwelling_unit_by_district.csv\")\n",
        "df"
      ]
    },
    {
      "cell_type": "markdown",
      "metadata": {
        "id": "IICLGbvBRYHq"
      },
      "source": [
        "## 1.2 Previewing our Dataset\n"
      ]
    },
    {
      "cell_type": "code",
      "execution_count": 36,
      "metadata": {
        "id": "WrwHg-hzR5BY"
      },
      "outputs": [
        {
          "data": {
            "text/html": [
              "<div>\n",
              "<style scoped>\n",
              "    .dataframe tbody tr th:only-of-type {\n",
              "        vertical-align: middle;\n",
              "    }\n",
              "\n",
              "    .dataframe tbody tr th {\n",
              "        vertical-align: top;\n",
              "    }\n",
              "\n",
              "    .dataframe thead th {\n",
              "        text-align: right;\n",
              "    }\n",
              "</style>\n",
              "<table border=\"1\" class=\"dataframe\">\n",
              "  <thead>\n",
              "    <tr style=\"text-align: right;\">\n",
              "      <th></th>\n",
              "      <th>District</th>\n",
              "      <th>rural/urban</th>\n",
              "      <th>%_of_Households_Corrugated_Iron_Sheets</th>\n",
              "      <th>%_of_Households_Tiles</th>\n",
              "      <th>%_of_Households_Concrete</th>\n",
              "      <th>Asbestos_%_of_Households_Sheets</th>\n",
              "      <th>%_of_Households_Grass</th>\n",
              "      <th>%_of_Households_Makuti</th>\n",
              "      <th>%_of_Households_Tin</th>\n",
              "      <th>%_of_Households_Mud/Dung</th>\n",
              "      <th>...</th>\n",
              "      <th>No_Grass</th>\n",
              "      <th>No_Makuti</th>\n",
              "      <th>No_Tin</th>\n",
              "      <th>No_Mud/Dung</th>\n",
              "      <th>No_Other</th>\n",
              "      <th>County</th>\n",
              "      <th>MTEF</th>\n",
              "      <th>Location_1</th>\n",
              "      <th>Province</th>\n",
              "      <th>OBJECTID</th>\n",
              "    </tr>\n",
              "  </thead>\n",
              "  <tbody>\n",
              "    <tr>\n",
              "      <th>0</th>\n",
              "      <td>NYANDARUA NORTH</td>\n",
              "      <td>Urban</td>\n",
              "      <td>91.08%</td>\n",
              "      <td>0.62%</td>\n",
              "      <td>0.16%</td>\n",
              "      <td>1.46%</td>\n",
              "      <td>0.64%</td>\n",
              "      <td>0.03%</td>\n",
              "      <td>0.07%</td>\n",
              "      <td>0%</td>\n",
              "      <td>...</td>\n",
              "      <td>148</td>\n",
              "      <td>7</td>\n",
              "      <td>17</td>\n",
              "      <td>1</td>\n",
              "      <td>1380</td>\n",
              "      <td>Nyandarua</td>\n",
              "      <td>Physical Infrastructure, Housing</td>\n",
              "      <td>NaN</td>\n",
              "      <td>CENTRAL</td>\n",
              "      <td>0</td>\n",
              "    </tr>\n",
              "    <tr>\n",
              "      <th>1</th>\n",
              "      <td>NYANDARUA SOUTH</td>\n",
              "      <td>Urban</td>\n",
              "      <td>95.38%</td>\n",
              "      <td>0.47%</td>\n",
              "      <td>2.6%</td>\n",
              "      <td>1.46%</td>\n",
              "      <td>0.06%</td>\n",
              "      <td>0%</td>\n",
              "      <td>0%</td>\n",
              "      <td>0.02%</td>\n",
              "      <td>...</td>\n",
              "      <td>3</td>\n",
              "      <td>0</td>\n",
              "      <td>0</td>\n",
              "      <td>1</td>\n",
              "      <td>1</td>\n",
              "      <td>Nyandarua</td>\n",
              "      <td>Physical Infrastructure, Housing</td>\n",
              "      <td>NaN</td>\n",
              "      <td>CENTRAL</td>\n",
              "      <td>1</td>\n",
              "    </tr>\n",
              "    <tr>\n",
              "      <th>2</th>\n",
              "      <td>NYERI NORTH</td>\n",
              "      <td>Urban</td>\n",
              "      <td>90.28%</td>\n",
              "      <td>1.13%</td>\n",
              "      <td>5.21%</td>\n",
              "      <td>2.58%</td>\n",
              "      <td>0.49%</td>\n",
              "      <td>0.08%</td>\n",
              "      <td>0.2%</td>\n",
              "      <td>0.01%</td>\n",
              "      <td>...</td>\n",
              "      <td>69</td>\n",
              "      <td>11</td>\n",
              "      <td>29</td>\n",
              "      <td>2</td>\n",
              "      <td>2</td>\n",
              "      <td>Nyeri</td>\n",
              "      <td>Physical Infrastructure, Housing</td>\n",
              "      <td>NaN</td>\n",
              "      <td>CENTRAL</td>\n",
              "      <td>2</td>\n",
              "    </tr>\n",
              "    <tr>\n",
              "      <th>3</th>\n",
              "      <td>NYERI SOUTH</td>\n",
              "      <td>Urban</td>\n",
              "      <td>90.89%</td>\n",
              "      <td>2.3%</td>\n",
              "      <td>3.32%</td>\n",
              "      <td>3.04%</td>\n",
              "      <td>0.09%</td>\n",
              "      <td>0.05%</td>\n",
              "      <td>0.14%</td>\n",
              "      <td>0.01%</td>\n",
              "      <td>...</td>\n",
              "      <td>36</td>\n",
              "      <td>20</td>\n",
              "      <td>57</td>\n",
              "      <td>2</td>\n",
              "      <td>67</td>\n",
              "      <td>Nyeri</td>\n",
              "      <td>Physical Infrastructure, Housing</td>\n",
              "      <td>NaN</td>\n",
              "      <td>CENTRAL</td>\n",
              "      <td>3</td>\n",
              "    </tr>\n",
              "    <tr>\n",
              "      <th>4</th>\n",
              "      <td>KIRINYAGA</td>\n",
              "      <td>Urban</td>\n",
              "      <td>91.41%</td>\n",
              "      <td>0.87%</td>\n",
              "      <td>3.97%</td>\n",
              "      <td>3.5%</td>\n",
              "      <td>0.04%</td>\n",
              "      <td>0.01%</td>\n",
              "      <td>0.03%</td>\n",
              "      <td>0.01%</td>\n",
              "      <td>...</td>\n",
              "      <td>11</td>\n",
              "      <td>3</td>\n",
              "      <td>9</td>\n",
              "      <td>4</td>\n",
              "      <td>42</td>\n",
              "      <td>Kirinyaga</td>\n",
              "      <td>Physical Infrastructure, Housing</td>\n",
              "      <td>NaN</td>\n",
              "      <td>CENTRAL</td>\n",
              "      <td>4</td>\n",
              "    </tr>\n",
              "    <tr>\n",
              "      <th>5</th>\n",
              "      <td>MURANGA NORTH</td>\n",
              "      <td>Urban</td>\n",
              "      <td>75.68%</td>\n",
              "      <td>1.86%</td>\n",
              "      <td>17.97%</td>\n",
              "      <td>3.84%</td>\n",
              "      <td>0.01%</td>\n",
              "      <td>0%</td>\n",
              "      <td>0.51%</td>\n",
              "      <td>0.01%</td>\n",
              "      <td>...</td>\n",
              "      <td>1</td>\n",
              "      <td>0</td>\n",
              "      <td>54</td>\n",
              "      <td>1</td>\n",
              "      <td>14</td>\n",
              "      <td>Murang'a</td>\n",
              "      <td>Physical Infrastructure, Housing</td>\n",
              "      <td>NaN</td>\n",
              "      <td>CENTRAL</td>\n",
              "      <td>5</td>\n",
              "    </tr>\n",
              "    <tr>\n",
              "      <th>6</th>\n",
              "      <td>MURANGA SOUTH</td>\n",
              "      <td>Urban</td>\n",
              "      <td>90.67%</td>\n",
              "      <td>1.51%</td>\n",
              "      <td>4.23%</td>\n",
              "      <td>2.76%</td>\n",
              "      <td>0.27%</td>\n",
              "      <td>0.03%</td>\n",
              "      <td>0.47%</td>\n",
              "      <td>0.05%</td>\n",
              "      <td>...</td>\n",
              "      <td>81</td>\n",
              "      <td>9</td>\n",
              "      <td>142</td>\n",
              "      <td>15</td>\n",
              "      <td>8</td>\n",
              "      <td>Murang'a</td>\n",
              "      <td>Physical Infrastructure, Housing</td>\n",
              "      <td>NaN</td>\n",
              "      <td>CENTRAL</td>\n",
              "      <td>6</td>\n",
              "    </tr>\n",
              "    <tr>\n",
              "      <th>7</th>\n",
              "      <td>KIAMBU EAST(KIAMBAA)</td>\n",
              "      <td>Urban</td>\n",
              "      <td>88%</td>\n",
              "      <td>3.22%</td>\n",
              "      <td>6.6%</td>\n",
              "      <td>1.87%</td>\n",
              "      <td>0.01%</td>\n",
              "      <td>0.06%</td>\n",
              "      <td>0.14%</td>\n",
              "      <td>0%</td>\n",
              "      <td>...</td>\n",
              "      <td>8</td>\n",
              "      <td>35</td>\n",
              "      <td>89</td>\n",
              "      <td>1</td>\n",
              "      <td>69</td>\n",
              "      <td>Kiambu</td>\n",
              "      <td>Physical Infrastructure, Housing</td>\n",
              "      <td>NaN</td>\n",
              "      <td>CENTRAL</td>\n",
              "      <td>7</td>\n",
              "    </tr>\n",
              "    <tr>\n",
              "      <th>8</th>\n",
              "      <td>KIKUYU</td>\n",
              "      <td>Urban</td>\n",
              "      <td>88.45%</td>\n",
              "      <td>3.68%</td>\n",
              "      <td>6.19%</td>\n",
              "      <td>1.45%</td>\n",
              "      <td>0.01%</td>\n",
              "      <td>0.05%</td>\n",
              "      <td>0.09%</td>\n",
              "      <td>0.01%</td>\n",
              "      <td>...</td>\n",
              "      <td>9</td>\n",
              "      <td>42</td>\n",
              "      <td>70</td>\n",
              "      <td>5</td>\n",
              "      <td>49</td>\n",
              "      <td>Kiambu</td>\n",
              "      <td>Physical Infrastructure, Housing</td>\n",
              "      <td>NaN</td>\n",
              "      <td>CENTRAL</td>\n",
              "      <td>8</td>\n",
              "    </tr>\n",
              "    <tr>\n",
              "      <th>9</th>\n",
              "      <td>KIAMBU WEST</td>\n",
              "      <td>Urban</td>\n",
              "      <td>90.04%</td>\n",
              "      <td>2.52%</td>\n",
              "      <td>5.26%</td>\n",
              "      <td>1.5%</td>\n",
              "      <td>0.01%</td>\n",
              "      <td>0.07%</td>\n",
              "      <td>0.54%</td>\n",
              "      <td>0%</td>\n",
              "      <td>...</td>\n",
              "      <td>2</td>\n",
              "      <td>17</td>\n",
              "      <td>125</td>\n",
              "      <td>1</td>\n",
              "      <td>11</td>\n",
              "      <td>Kiambu</td>\n",
              "      <td>Physical Infrastructure, Housing</td>\n",
              "      <td>NaN</td>\n",
              "      <td>CENTRAL</td>\n",
              "      <td>9</td>\n",
              "    </tr>\n",
              "  </tbody>\n",
              "</table>\n",
              "<p>10 rows × 26 columns</p>\n",
              "</div>"
            ],
            "text/plain": [
              "               District rural/urban %_of_Households_Corrugated_Iron_Sheets  \\\n",
              "0       NYANDARUA NORTH       Urban                                 91.08%   \n",
              "1       NYANDARUA SOUTH       Urban                                 95.38%   \n",
              "2           NYERI NORTH       Urban                                 90.28%   \n",
              "3           NYERI SOUTH       Urban                                 90.89%   \n",
              "4             KIRINYAGA       Urban                                 91.41%   \n",
              "5         MURANGA NORTH       Urban                                 75.68%   \n",
              "6         MURANGA SOUTH       Urban                                 90.67%   \n",
              "7  KIAMBU EAST(KIAMBAA)       Urban                                    88%   \n",
              "8                KIKUYU       Urban                                 88.45%   \n",
              "9           KIAMBU WEST       Urban                                 90.04%   \n",
              "\n",
              "  %_of_Households_Tiles %_of_Households_Concrete  \\\n",
              "0                 0.62%                    0.16%   \n",
              "1                 0.47%                     2.6%   \n",
              "2                 1.13%                    5.21%   \n",
              "3                  2.3%                    3.32%   \n",
              "4                 0.87%                    3.97%   \n",
              "5                 1.86%                   17.97%   \n",
              "6                 1.51%                    4.23%   \n",
              "7                 3.22%                     6.6%   \n",
              "8                 3.68%                    6.19%   \n",
              "9                 2.52%                    5.26%   \n",
              "\n",
              "  Asbestos_%_of_Households_Sheets %_of_Households_Grass  \\\n",
              "0                           1.46%                 0.64%   \n",
              "1                           1.46%                 0.06%   \n",
              "2                           2.58%                 0.49%   \n",
              "3                           3.04%                 0.09%   \n",
              "4                            3.5%                 0.04%   \n",
              "5                           3.84%                 0.01%   \n",
              "6                           2.76%                 0.27%   \n",
              "7                           1.87%                 0.01%   \n",
              "8                           1.45%                 0.01%   \n",
              "9                            1.5%                 0.01%   \n",
              "\n",
              "  %_of_Households_Makuti %_of_Households_Tin %_of_Households_Mud/Dung  ...  \\\n",
              "0                  0.03%               0.07%                       0%  ...   \n",
              "1                     0%                  0%                    0.02%  ...   \n",
              "2                  0.08%                0.2%                    0.01%  ...   \n",
              "3                  0.05%               0.14%                    0.01%  ...   \n",
              "4                  0.01%               0.03%                    0.01%  ...   \n",
              "5                     0%               0.51%                    0.01%  ...   \n",
              "6                  0.03%               0.47%                    0.05%  ...   \n",
              "7                  0.06%               0.14%                       0%  ...   \n",
              "8                  0.05%               0.09%                    0.01%  ...   \n",
              "9                  0.07%               0.54%                       0%  ...   \n",
              "\n",
              "  No_Grass  No_Makuti  No_Tin  No_Mud/Dung  No_Other     County  \\\n",
              "0      148          7      17            1      1380  Nyandarua   \n",
              "1        3          0       0            1         1  Nyandarua   \n",
              "2       69         11      29            2         2      Nyeri   \n",
              "3       36         20      57            2        67      Nyeri   \n",
              "4       11          3       9            4        42  Kirinyaga   \n",
              "5        1          0      54            1        14   Murang'a   \n",
              "6       81          9     142           15         8   Murang'a   \n",
              "7        8         35      89            1        69     Kiambu   \n",
              "8        9         42      70            5        49     Kiambu   \n",
              "9        2         17     125            1        11     Kiambu   \n",
              "\n",
              "                               MTEF  Location_1  Province  OBJECTID  \n",
              "0  Physical Infrastructure, Housing         NaN   CENTRAL         0  \n",
              "1  Physical Infrastructure, Housing         NaN   CENTRAL         1  \n",
              "2  Physical Infrastructure, Housing         NaN   CENTRAL         2  \n",
              "3  Physical Infrastructure, Housing         NaN   CENTRAL         3  \n",
              "4  Physical Infrastructure, Housing         NaN   CENTRAL         4  \n",
              "5  Physical Infrastructure, Housing         NaN   CENTRAL         5  \n",
              "6  Physical Infrastructure, Housing         NaN   CENTRAL         6  \n",
              "7  Physical Infrastructure, Housing         NaN   CENTRAL         7  \n",
              "8  Physical Infrastructure, Housing         NaN   CENTRAL         8  \n",
              "9  Physical Infrastructure, Housing         NaN   CENTRAL         9  \n",
              "\n",
              "[10 rows x 26 columns]"
            ]
          },
          "execution_count": 36,
          "metadata": {},
          "output_type": "execute_result"
        }
      ],
      "source": [
        "# Let's preview the first 10 rows of our data\n",
        "# \n",
        "df.head(10)"
      ]
    },
    {
      "cell_type": "markdown",
      "metadata": {
        "id": "RAVzK5O6IR8v"
      },
      "source": [
        "## 1.3 Accessing Information about our Dataset"
      ]
    },
    {
      "cell_type": "markdown",
      "metadata": {
        "id": "5W7cyaIpJdaC"
      },
      "source": [
        "We might need to convert columns to the respective datatypes ie. if there are payment columns we could convert them from string to float. This observation can be made by accessing information about the dataset."
      ]
    },
    {
      "cell_type": "code",
      "execution_count": 37,
      "metadata": {
        "id": "0d2kfemDIYWI"
      },
      "outputs": [
        {
          "name": "stdout",
          "output_type": "stream",
          "text": [
            "<class 'pandas.core.frame.DataFrame'>\n",
            "RangeIndex: 315 entries, 0 to 314\n",
            "Data columns (total 26 columns):\n",
            " #   Column                                  Non-Null Count  Dtype  \n",
            "---  ------                                  --------------  -----  \n",
            " 0   District                                315 non-null    object \n",
            " 1   rural/urban                             315 non-null    object \n",
            " 2   %_of_Households_Corrugated_Iron_Sheets  290 non-null    object \n",
            " 3   %_of_Households_Tiles                   290 non-null    object \n",
            " 4   %_of_Households_Concrete                290 non-null    object \n",
            " 5   Asbestos_%_of_Households_Sheets         290 non-null    object \n",
            " 6   %_of_Households_Grass                   290 non-null    object \n",
            " 7   %_of_Households_Makuti                  290 non-null    object \n",
            " 8   %_of_Households_Tin                     290 non-null    object \n",
            " 9   %_of_Households_Mud/Dung                290 non-null    object \n",
            " 10  %_of_Households_Other                   290 non-null    object \n",
            " 11  Households                              315 non-null    int64  \n",
            " 12  No_Corrugated_Iron_Sheets               315 non-null    int64  \n",
            " 13  No_Tiles                                315 non-null    int64  \n",
            " 14  No_Concrete                             315 non-null    int64  \n",
            " 15  No_Asbestos_Sheets                      315 non-null    int64  \n",
            " 16  No_Grass                                315 non-null    int64  \n",
            " 17  No_Makuti                               315 non-null    int64  \n",
            " 18  No_Tin                                  315 non-null    int64  \n",
            " 19  No_Mud/Dung                             315 non-null    int64  \n",
            " 20  No_Other                                315 non-null    int64  \n",
            " 21  County                                  315 non-null    object \n",
            " 22  MTEF                                    315 non-null    object \n",
            " 23  Location_1                              0 non-null      float64\n",
            " 24  Province                                315 non-null    object \n",
            " 25  OBJECTID                                315 non-null    int64  \n",
            "dtypes: float64(1), int64(11), object(14)\n",
            "memory usage: 64.1+ KB\n"
          ]
        }
      ],
      "source": [
        "# Getting to know more about the dataset by accessing its information\n",
        "#\n",
        "df.info()"
      ]
    },
    {
      "cell_type": "markdown",
      "metadata": {
        "id": "R9S2o1WXIhq1"
      },
      "source": [
        "## 1.4 Cleaning our Dataset"
      ]
    },
    {
      "cell_type": "markdown",
      "metadata": {
        "id": "AsBK7q0M0B5p"
      },
      "source": [
        "Let us perform data cleaning procedures below providing a documentation for our actions. We will perform as many data cleaning procedures as we think suitable for the various dimensions of data."
      ]
    },
    {
      "cell_type": "markdown",
      "metadata": {
        "id": "LgLPmaP60MCY"
      },
      "source": [
        "### 1.41) Validity: <font color=\"green\">Challenges</font>"
      ]
    },
    {
      "cell_type": "code",
      "execution_count": 38,
      "metadata": {
        "id": "Xu8_fwqE0S_1"
      },
      "outputs": [
        {
          "data": {
            "text/plain": [
              "Index(['District', 'rural/urban', '%_of_Households_Corrugated_Iron_Sheets',\n",
              "       '%_of_Households_Tiles', '%_of_Households_Concrete',\n",
              "       'Asbestos_%_of_Households_Sheets', '%_of_Households_Grass',\n",
              "       '%_of_Households_Makuti', '%_of_Households_Tin',\n",
              "       '%_of_Households_Mud/Dung', '%_of_Households_Other', 'Households',\n",
              "       'No_Corrugated_Iron_Sheets', 'No_Tiles', 'No_Concrete',\n",
              "       'No_Asbestos_Sheets', 'No_Grass', 'No_Makuti', 'No_Tin', 'No_Mud/Dung',\n",
              "       'No_Other', 'County', 'MTEF', 'Location_1', 'Province', 'OBJECTID'],\n",
              "      dtype='object')"
            ]
          },
          "execution_count": 38,
          "metadata": {},
          "output_type": "execute_result"
        }
      ],
      "source": [
        "# Procedure 1:\n",
        "# Data Cleaning Action:\n",
        "# Explanation:\n",
        "#\n",
        "df.columns"
      ]
    },
    {
      "cell_type": "code",
      "execution_count": 39,
      "metadata": {
        "id": "8n6lZYUT0X8O"
      },
      "outputs": [
        {
          "data": {
            "text/html": [
              "<div>\n",
              "<style scoped>\n",
              "    .dataframe tbody tr th:only-of-type {\n",
              "        vertical-align: middle;\n",
              "    }\n",
              "\n",
              "    .dataframe tbody tr th {\n",
              "        vertical-align: top;\n",
              "    }\n",
              "\n",
              "    .dataframe thead th {\n",
              "        text-align: right;\n",
              "    }\n",
              "</style>\n",
              "<table border=\"1\" class=\"dataframe\">\n",
              "  <thead>\n",
              "    <tr style=\"text-align: right;\">\n",
              "      <th></th>\n",
              "      <th>District</th>\n",
              "      <th>rural/urban</th>\n",
              "      <th>Households</th>\n",
              "      <th>No_Corrugated_Iron_Sheets</th>\n",
              "      <th>No_Tiles</th>\n",
              "      <th>No_Concrete</th>\n",
              "      <th>No_Asbestos_Sheets</th>\n",
              "      <th>No_Grass</th>\n",
              "      <th>No_Makuti</th>\n",
              "      <th>No_Tin</th>\n",
              "      <th>No_Mud/Dung</th>\n",
              "      <th>No_Other</th>\n",
              "      <th>County</th>\n",
              "      <th>MTEF</th>\n",
              "      <th>Province</th>\n",
              "    </tr>\n",
              "  </thead>\n",
              "  <tbody>\n",
              "    <tr>\n",
              "      <th>0</th>\n",
              "      <td>NYANDARUA NORTH</td>\n",
              "      <td>Urban</td>\n",
              "      <td>23229</td>\n",
              "      <td>21156</td>\n",
              "      <td>144</td>\n",
              "      <td>38</td>\n",
              "      <td>338</td>\n",
              "      <td>148</td>\n",
              "      <td>7</td>\n",
              "      <td>17</td>\n",
              "      <td>1</td>\n",
              "      <td>1380</td>\n",
              "      <td>Nyandarua</td>\n",
              "      <td>Physical Infrastructure, Housing</td>\n",
              "      <td>CENTRAL</td>\n",
              "    </tr>\n",
              "    <tr>\n",
              "      <th>1</th>\n",
              "      <td>NYANDARUA SOUTH</td>\n",
              "      <td>Urban</td>\n",
              "      <td>5345</td>\n",
              "      <td>5098</td>\n",
              "      <td>25</td>\n",
              "      <td>139</td>\n",
              "      <td>78</td>\n",
              "      <td>3</td>\n",
              "      <td>0</td>\n",
              "      <td>0</td>\n",
              "      <td>1</td>\n",
              "      <td>1</td>\n",
              "      <td>Nyandarua</td>\n",
              "      <td>Physical Infrastructure, Housing</td>\n",
              "      <td>CENTRAL</td>\n",
              "    </tr>\n",
              "    <tr>\n",
              "      <th>2</th>\n",
              "      <td>NYERI NORTH</td>\n",
              "      <td>Urban</td>\n",
              "      <td>14208</td>\n",
              "      <td>12827</td>\n",
              "      <td>161</td>\n",
              "      <td>740</td>\n",
              "      <td>367</td>\n",
              "      <td>69</td>\n",
              "      <td>11</td>\n",
              "      <td>29</td>\n",
              "      <td>2</td>\n",
              "      <td>2</td>\n",
              "      <td>Nyeri</td>\n",
              "      <td>Physical Infrastructure, Housing</td>\n",
              "      <td>CENTRAL</td>\n",
              "    </tr>\n",
              "    <tr>\n",
              "      <th>3</th>\n",
              "      <td>NYERI SOUTH</td>\n",
              "      <td>Urban</td>\n",
              "      <td>39927</td>\n",
              "      <td>36290</td>\n",
              "      <td>917</td>\n",
              "      <td>1325</td>\n",
              "      <td>1213</td>\n",
              "      <td>36</td>\n",
              "      <td>20</td>\n",
              "      <td>57</td>\n",
              "      <td>2</td>\n",
              "      <td>67</td>\n",
              "      <td>Nyeri</td>\n",
              "      <td>Physical Infrastructure, Housing</td>\n",
              "      <td>CENTRAL</td>\n",
              "    </tr>\n",
              "    <tr>\n",
              "      <th>4</th>\n",
              "      <td>KIRINYAGA</td>\n",
              "      <td>Urban</td>\n",
              "      <td>27461</td>\n",
              "      <td>25103</td>\n",
              "      <td>239</td>\n",
              "      <td>1090</td>\n",
              "      <td>960</td>\n",
              "      <td>11</td>\n",
              "      <td>3</td>\n",
              "      <td>9</td>\n",
              "      <td>4</td>\n",
              "      <td>42</td>\n",
              "      <td>Kirinyaga</td>\n",
              "      <td>Physical Infrastructure, Housing</td>\n",
              "      <td>CENTRAL</td>\n",
              "    </tr>\n",
              "    <tr>\n",
              "      <th>...</th>\n",
              "      <td>...</td>\n",
              "      <td>...</td>\n",
              "      <td>...</td>\n",
              "      <td>...</td>\n",
              "      <td>...</td>\n",
              "      <td>...</td>\n",
              "      <td>...</td>\n",
              "      <td>...</td>\n",
              "      <td>...</td>\n",
              "      <td>...</td>\n",
              "      <td>...</td>\n",
              "      <td>...</td>\n",
              "      <td>...</td>\n",
              "      <td>...</td>\n",
              "      <td>...</td>\n",
              "    </tr>\n",
              "    <tr>\n",
              "      <th>310</th>\n",
              "      <td>BUSIA</td>\n",
              "      <td>Rural</td>\n",
              "      <td>58208</td>\n",
              "      <td>28909</td>\n",
              "      <td>265</td>\n",
              "      <td>20</td>\n",
              "      <td>1253</td>\n",
              "      <td>27611</td>\n",
              "      <td>48</td>\n",
              "      <td>78</td>\n",
              "      <td>15</td>\n",
              "      <td>9</td>\n",
              "      <td>Busia</td>\n",
              "      <td>Physical Infrastructure, Housing</td>\n",
              "      <td>WESTERN</td>\n",
              "    </tr>\n",
              "    <tr>\n",
              "      <th>311</th>\n",
              "      <td>TESO NORTH</td>\n",
              "      <td>Rural</td>\n",
              "      <td>13490</td>\n",
              "      <td>3939</td>\n",
              "      <td>57</td>\n",
              "      <td>4</td>\n",
              "      <td>165</td>\n",
              "      <td>9317</td>\n",
              "      <td>5</td>\n",
              "      <td>1</td>\n",
              "      <td>2</td>\n",
              "      <td>0</td>\n",
              "      <td>Busia</td>\n",
              "      <td>Physical Infrastructure, Housing</td>\n",
              "      <td>WESTERN</td>\n",
              "    </tr>\n",
              "    <tr>\n",
              "      <th>312</th>\n",
              "      <td>SAMIA</td>\n",
              "      <td>Rural</td>\n",
              "      <td>19385</td>\n",
              "      <td>10214</td>\n",
              "      <td>139</td>\n",
              "      <td>10</td>\n",
              "      <td>390</td>\n",
              "      <td>8561</td>\n",
              "      <td>43</td>\n",
              "      <td>4</td>\n",
              "      <td>8</td>\n",
              "      <td>16</td>\n",
              "      <td>Busia</td>\n",
              "      <td>Physical Infrastructure, Housing</td>\n",
              "      <td>WESTERN</td>\n",
              "    </tr>\n",
              "    <tr>\n",
              "      <th>313</th>\n",
              "      <td>BUNYALA</td>\n",
              "      <td>Rural</td>\n",
              "      <td>13535</td>\n",
              "      <td>7880</td>\n",
              "      <td>67</td>\n",
              "      <td>5</td>\n",
              "      <td>221</td>\n",
              "      <td>5211</td>\n",
              "      <td>20</td>\n",
              "      <td>9</td>\n",
              "      <td>2</td>\n",
              "      <td>120</td>\n",
              "      <td>Busia</td>\n",
              "      <td>Physical Infrastructure, Housing</td>\n",
              "      <td>WESTERN</td>\n",
              "    </tr>\n",
              "    <tr>\n",
              "      <th>314</th>\n",
              "      <td>TESO SOUTH</td>\n",
              "      <td>Rural</td>\n",
              "      <td>21344</td>\n",
              "      <td>5429</td>\n",
              "      <td>77</td>\n",
              "      <td>6</td>\n",
              "      <td>141</td>\n",
              "      <td>15664</td>\n",
              "      <td>16</td>\n",
              "      <td>4</td>\n",
              "      <td>3</td>\n",
              "      <td>4</td>\n",
              "      <td>Busia</td>\n",
              "      <td>Physical Infrastructure, Housing</td>\n",
              "      <td>WESTERN</td>\n",
              "    </tr>\n",
              "  </tbody>\n",
              "</table>\n",
              "<p>315 rows × 15 columns</p>\n",
              "</div>"
            ],
            "text/plain": [
              "            District rural/urban  Households  No_Corrugated_Iron_Sheets  \\\n",
              "0    NYANDARUA NORTH       Urban       23229                      21156   \n",
              "1    NYANDARUA SOUTH       Urban        5345                       5098   \n",
              "2        NYERI NORTH       Urban       14208                      12827   \n",
              "3        NYERI SOUTH       Urban       39927                      36290   \n",
              "4          KIRINYAGA       Urban       27461                      25103   \n",
              "..               ...         ...         ...                        ...   \n",
              "310            BUSIA       Rural       58208                      28909   \n",
              "311       TESO NORTH       Rural       13490                       3939   \n",
              "312            SAMIA       Rural       19385                      10214   \n",
              "313          BUNYALA       Rural       13535                       7880   \n",
              "314       TESO SOUTH       Rural       21344                       5429   \n",
              "\n",
              "     No_Tiles  No_Concrete  No_Asbestos_Sheets  No_Grass  No_Makuti  No_Tin  \\\n",
              "0         144           38                 338       148          7      17   \n",
              "1          25          139                  78         3          0       0   \n",
              "2         161          740                 367        69         11      29   \n",
              "3         917         1325                1213        36         20      57   \n",
              "4         239         1090                 960        11          3       9   \n",
              "..        ...          ...                 ...       ...        ...     ...   \n",
              "310       265           20                1253     27611         48      78   \n",
              "311        57            4                 165      9317          5       1   \n",
              "312       139           10                 390      8561         43       4   \n",
              "313        67            5                 221      5211         20       9   \n",
              "314        77            6                 141     15664         16       4   \n",
              "\n",
              "     No_Mud/Dung  No_Other     County                              MTEF  \\\n",
              "0              1      1380  Nyandarua  Physical Infrastructure, Housing   \n",
              "1              1         1  Nyandarua  Physical Infrastructure, Housing   \n",
              "2              2         2      Nyeri  Physical Infrastructure, Housing   \n",
              "3              2        67      Nyeri  Physical Infrastructure, Housing   \n",
              "4              4        42  Kirinyaga  Physical Infrastructure, Housing   \n",
              "..           ...       ...        ...                               ...   \n",
              "310           15         9      Busia  Physical Infrastructure, Housing   \n",
              "311            2         0      Busia  Physical Infrastructure, Housing   \n",
              "312            8        16      Busia  Physical Infrastructure, Housing   \n",
              "313            2       120      Busia  Physical Infrastructure, Housing   \n",
              "314            3         4      Busia  Physical Infrastructure, Housing   \n",
              "\n",
              "    Province  \n",
              "0    CENTRAL  \n",
              "1    CENTRAL  \n",
              "2    CENTRAL  \n",
              "3    CENTRAL  \n",
              "4    CENTRAL  \n",
              "..       ...  \n",
              "310  WESTERN  \n",
              "311  WESTERN  \n",
              "312  WESTERN  \n",
              "313  WESTERN  \n",
              "314  WESTERN  \n",
              "\n",
              "[315 rows x 15 columns]"
            ]
          },
          "execution_count": 39,
          "metadata": {},
          "output_type": "execute_result"
        }
      ],
      "source": [
        "# Procedure 2:\n",
        "# Data Cleaning Action:\n",
        "# Explanation:\n",
        "#\n",
        "df.drop(columns = ['%_of_Households_Corrugated_Iron_Sheets','%_of_Households_Tiles', '%_of_Households_Concrete','Asbestos_%_of_Households_Sheets', '%_of_Households_Grass','%_of_Households_Makuti', '%_of_Households_Tin','%_of_Households_Mud/Dung','%_of_Households_Other','Location_1','OBJECTID'],inplace =True)\n",
        "df"
      ]
    },
    {
      "cell_type": "code",
      "execution_count": 40,
      "metadata": {
        "id": "3Hegrubg0Zns"
      },
      "outputs": [],
      "source": [
        "# Procedure 3:\n",
        "# Data Cleaning Action:\n",
        "# Explanation:\n",
        "#\n"
      ]
    },
    {
      "cell_type": "markdown",
      "metadata": {
        "id": "ogvHnWWk0URF"
      },
      "source": [
        "### 1.42) Accuracy <font color=\"green\">Challenges</font>"
      ]
    },
    {
      "cell_type": "code",
      "execution_count": 41,
      "metadata": {
        "id": "fGR0p3580fCX"
      },
      "outputs": [
        {
          "ename": "SyntaxError",
          "evalue": "invalid syntax (Temp/ipykernel_8056/3629472034.py, line 5)",
          "output_type": "error",
          "traceback": [
            "\u001b[1;36m  File \u001b[1;32m\"C:\\Users\\MARCHE~1\\AppData\\Local\\Temp/ipykernel_8056/3629472034.py\"\u001b[1;36m, line \u001b[1;32m5\u001b[0m\n\u001b[1;33m    OUR CODE GOES HERE\u001b[0m\n\u001b[1;37m        ^\u001b[0m\n\u001b[1;31mSyntaxError\u001b[0m\u001b[1;31m:\u001b[0m invalid syntax\n"
          ]
        }
      ],
      "source": [
        "# Procedure 1:\n",
        "# Data Cleaning Action:\n",
        "# Explanation:\n",
        "#\n",
        "OUR CODE GOES HERE"
      ]
    },
    {
      "cell_type": "code",
      "execution_count": 42,
      "metadata": {
        "id": "dPvSUWLY0gNF"
      },
      "outputs": [
        {
          "ename": "SyntaxError",
          "evalue": "invalid syntax (Temp/ipykernel_8056/232596746.py, line 5)",
          "output_type": "error",
          "traceback": [
            "\u001b[1;36m  File \u001b[1;32m\"C:\\Users\\MARCHE~1\\AppData\\Local\\Temp/ipykernel_8056/232596746.py\"\u001b[1;36m, line \u001b[1;32m5\u001b[0m\n\u001b[1;33m    OUR CODE GOES HERE\u001b[0m\n\u001b[1;37m        ^\u001b[0m\n\u001b[1;31mSyntaxError\u001b[0m\u001b[1;31m:\u001b[0m invalid syntax\n"
          ]
        }
      ],
      "source": [
        "# Procedure 2:\n",
        "# Data Cleaning Action:\n",
        "# Explanation:\n",
        "#\n",
        "OUR CODE GOES HERE"
      ]
    },
    {
      "cell_type": "markdown",
      "metadata": {
        "id": "4_l-hjNT0ljY"
      },
      "source": [
        "### 1.43) Completeness <font color=\"green\">Challenges</font>"
      ]
    },
    {
      "cell_type": "code",
      "execution_count": 43,
      "metadata": {
        "id": "r0QLHD0P0nN3"
      },
      "outputs": [],
      "source": [
        "# Procedure 1:\n",
        "# Data Cleaning Action:\n",
        "# Explanation:\n",
        "#\n"
      ]
    },
    {
      "cell_type": "code",
      "execution_count": 44,
      "metadata": {
        "id": "GchjhobG0nu8"
      },
      "outputs": [
        {
          "data": {
            "text/plain": [
              "District                     0\n",
              "rural/urban                  0\n",
              "Households                   0\n",
              "No_Corrugated_Iron_Sheets    0\n",
              "No_Tiles                     0\n",
              "No_Concrete                  0\n",
              "No_Asbestos_Sheets           0\n",
              "No_Grass                     0\n",
              "No_Makuti                    0\n",
              "No_Tin                       0\n",
              "No_Mud/Dung                  0\n",
              "No_Other                     0\n",
              "County                       0\n",
              "MTEF                         0\n",
              "Province                     0\n",
              "dtype: int64"
            ]
          },
          "execution_count": 44,
          "metadata": {},
          "output_type": "execute_result"
        }
      ],
      "source": [
        "# Procedure 2:\n",
        "# Data Cleaning Action:\n",
        "# Explanation:\n",
        "df.isnull().sum()"
      ]
    },
    {
      "cell_type": "markdown",
      "metadata": {
        "id": "Wg_HInjk0rJG"
      },
      "source": [
        "### 1.44) Consitency: <font color=\"green\">Challenges</font>"
      ]
    },
    {
      "cell_type": "code",
      "execution_count": 45,
      "metadata": {
        "id": "_xg4tFiZ0sTN"
      },
      "outputs": [
        {
          "data": {
            "text/plain": [
              "0"
            ]
          },
          "execution_count": 45,
          "metadata": {},
          "output_type": "execute_result"
        }
      ],
      "source": [
        "# Procedure 1:\n",
        "# Data Cleaning Action:\n",
        "# Explanation:\n",
        "#\n",
        "df.duplicated().sum()"
      ]
    },
    {
      "cell_type": "markdown",
      "metadata": {
        "id": "po-2IDPd0vdL"
      },
      "source": [
        "### 1.45) Uniformity: <font color=\"green\">Challenges<font/>"
      ]
    },
    {
      "cell_type": "code",
      "execution_count": 46,
      "metadata": {
        "id": "oRw7Ow5-0wZM"
      },
      "outputs": [
        {
          "ename": "SyntaxError",
          "evalue": "invalid syntax (Temp/ipykernel_8056/3629472034.py, line 5)",
          "output_type": "error",
          "traceback": [
            "\u001b[1;36m  File \u001b[1;32m\"C:\\Users\\MARCHE~1\\AppData\\Local\\Temp/ipykernel_8056/3629472034.py\"\u001b[1;36m, line \u001b[1;32m5\u001b[0m\n\u001b[1;33m    OUR CODE GOES HERE\u001b[0m\n\u001b[1;37m        ^\u001b[0m\n\u001b[1;31mSyntaxError\u001b[0m\u001b[1;31m:\u001b[0m invalid syntax\n"
          ]
        }
      ],
      "source": [
        "# Procedure 1:\n",
        "# Data Cleaning Action:\n",
        "# Explanation:\n",
        "#\n",
        "OUR CODE GOES HERE"
      ]
    },
    {
      "cell_type": "code",
      "execution_count": 49,
      "metadata": {
        "id": "-3HTVQkC0xxj"
      },
      "outputs": [],
      "source": [
        "# Procedure 2:\n",
        "# Data Cleaning Action:\n",
        "# Explanation:\n",
        "#\n"
      ]
    },
    {
      "cell_type": "markdown",
      "metadata": {
        "id": "dr1eyGZzt83Z"
      },
      "source": [
        "### Exporting the Cleaned Dataset"
      ]
    },
    {
      "cell_type": "code",
      "execution_count": 50,
      "metadata": {
        "id": "igd8ULk7t95C"
      },
      "outputs": [],
      "source": [
        "# Let's export our dataframe into a csv file as shown \n",
        "# in the example given in the following line;\n",
        "# daframe.to_csv('example.csv')\n",
        "# In the above case daframe is the dataframe which would like to export.\n",
        "# we use the to_csv function to create a csv file with the name example \n",
        "# and export it\n",
        "#\n",
        "df.to_csv(\"roofing.csv\")"
      ]
    },
    {
      "cell_type": "markdown",
      "metadata": {
        "id": "NicC8P9LMjvO"
      },
      "source": [
        "## 1.5 Answering Questions"
      ]
    },
    {
      "cell_type": "markdown",
      "metadata": {
        "id": "8izhaW7UNYGJ"
      },
      "source": [
        "Let's answer the following questions with our dataset"
      ]
    },
    {
      "cell_type": "code",
      "execution_count": 51,
      "metadata": {
        "id": "tTOgnXvuMxcn"
      },
      "outputs": [
        {
          "data": {
            "text/plain": [
              "Households                   3385308\n",
              "No_Corrugated_Iron_Sheets    2669341\n",
              "Name: Urban, dtype: int64"
            ]
          },
          "execution_count": 51,
          "metadata": {},
          "output_type": "execute_result"
        }
      ],
      "source": [
        "# Challenge 1\n",
        "# Find out the most popular type of household material for urban regions.\n",
        "# \n",
        "\n",
        "df1 = df.groupby(df['rural/urban']).sum()\n",
        "df1.iloc[1].head(2)"
      ]
    },
    {
      "cell_type": "code",
      "execution_count": 52,
      "metadata": {
        "id": "BNegesaWNvQs"
      },
      "outputs": [
        {
          "data": {
            "text/plain": [
              "No_Other    8807\n",
              "Name: Urban, dtype: int64"
            ]
          },
          "execution_count": 52,
          "metadata": {},
          "output_type": "execute_result"
        }
      ],
      "source": [
        "# Challenge 2\n",
        "# Find out the least popular type of household material for urban regions.\n",
        "#\n",
        "df1 = df.groupby(df['rural/urban']).sum()\n",
        "df1.iloc[1].tail(1)"
      ]
    },
    {
      "cell_type": "code",
      "execution_count": 53,
      "metadata": {
        "id": "7tilTerhNyiP"
      },
      "outputs": [
        {
          "data": {
            "text/plain": [
              "Households                   983115\n",
              "No_Corrugated_Iron_Sheets    641697\n",
              "Name: Urban, dtype: int64"
            ]
          },
          "execution_count": 53,
          "metadata": {},
          "output_type": "execute_result"
        }
      ],
      "source": [
        "# Challenge 3\n",
        "# Find out the most popular type of households material in the urban regions of Nairobi.\n",
        "# \n",
        "df.groupby(['County', 'rural/urban']).sum().loc['Nairobi'].loc['Urban'].sort_values(ascending = False).head(2)\n"
      ]
    },
    {
      "cell_type": "code",
      "execution_count": 54,
      "metadata": {
        "id": "rhXeHa6IOBsq"
      },
      "outputs": [
        {
          "data": {
            "text/plain": [
              "No_Grass       185\n",
              "No_Mud/Dung    283\n",
              "Name: Urban, dtype: int64"
            ]
          },
          "execution_count": 54,
          "metadata": {},
          "output_type": "execute_result"
        }
      ],
      "source": [
        "# Challenge 4\n",
        "# Find out the least popular type of households material in rural regions of Nairobi.\n",
        "# \n",
        "df.groupby(['County', 'rural/urban']).sum().loc['Nairobi'].loc['Urban'].sort_values(ascending = True).head(2)"
      ]
    },
    {
      "cell_type": "code",
      "execution_count": 67,
      "metadata": {
        "id": "wddDP6yCOD_F"
      },
      "outputs": [
        {
          "data": {
            "text/plain": [
              "615.2126984126984"
            ]
          },
          "execution_count": 67,
          "metadata": {},
          "output_type": "execute_result"
        }
      ],
      "source": [
        "# Challenge 5\n",
        "# Find out the average no. of tiling households.\n",
        "# \n",
        "df['No_Tiles'].mean()"
      ]
    },
    {
      "cell_type": "code",
      "execution_count": 57,
      "metadata": {
        "id": "OemJ0HDYOHCq"
      },
      "outputs": [
        {
          "data": {
            "text/plain": [
              "County\n",
              "Mandera    77307\n",
              "Name: No_Grass, dtype: int64"
            ]
          },
          "execution_count": 57,
          "metadata": {},
          "output_type": "execute_result"
        }
      ],
      "source": [
        "# Challenge 6\n",
        "# Which county has the highest no. of grass households?\n",
        "# \n",
        "df.groupby('County')['No_Grass'].sum().sort_values(ascending = False).head(1)"
      ]
    },
    {
      "cell_type": "code",
      "execution_count": 58,
      "metadata": {
        "id": "CIxC5arSOLak"
      },
      "outputs": [
        {
          "data": {
            "text/plain": [
              "County\n",
              "Nairobi     641697\n",
              "Kiambu      423968\n",
              "Nakuru      354675\n",
              "Meru        352331\n",
              "Kakamega    272421\n",
              "Name: No_Corrugated_Iron_Sheets, dtype: int64"
            ]
          },
          "execution_count": 58,
          "metadata": {},
          "output_type": "execute_result"
        }
      ],
      "source": [
        "# Challenge 7\n",
        "# Which top 5 counties have the highest no of households made of iron sheets ?\n",
        "# \n",
        "df.groupby('County')['No_Corrugated_Iron_Sheets'].sum().sort_values(ascending = False).head(5)"
      ]
    },
    {
      "cell_type": "code",
      "execution_count": 59,
      "metadata": {
        "id": "gSjjnw56OP8O"
      },
      "outputs": [
        {
          "data": {
            "text/plain": [
              "27739.990476190476"
            ]
          },
          "execution_count": 59,
          "metadata": {},
          "output_type": "execute_result"
        }
      ],
      "source": [
        "# Challenge 8\n",
        "# What is the average no. of households in Kenya?\n",
        "# \n",
        "df['Households'].mean()"
      ]
    },
    {
      "cell_type": "code",
      "execution_count": 60,
      "metadata": {
        "id": "UZLYqF7UOTtu"
      },
      "outputs": [
        {
          "data": {
            "text/plain": [
              "County\n",
              "Narok    18677\n",
              "Name: No_Mud/Dung, dtype: int64"
            ]
          },
          "execution_count": 60,
          "metadata": {},
          "output_type": "execute_result"
        }
      ],
      "source": [
        "# Challenge 9\n",
        "# Which county has the most no. of households made of dung?\n",
        "# \n",
        "df.groupby('County')['No_Mud/Dung'].sum().sort_values(ascending = False).head(1)"
      ]
    },
    {
      "cell_type": "code",
      "execution_count": 61,
      "metadata": {
        "id": "1qk8wF3MOXDu"
      },
      "outputs": [
        {
          "data": {
            "text/plain": [
              "County\n",
              "Turkana    43605\n",
              "Kwale      60569\n",
              "Kilifi     88633\n",
              "Name: No_Makuti, dtype: int64"
            ]
          },
          "execution_count": 61,
          "metadata": {},
          "output_type": "execute_result"
        }
      ],
      "source": [
        "# Challenge 10\n",
        "# In ascending order, which top 3 counties have the highest no. of households with makuti?\n",
        "# \n",
        "makuti_counties = df.groupby('County')['No_Makuti'].sum().sort_values(ascending = False).head(3)\n",
        "makuti_counties.sort_values(ascending = True)"
      ]
    },
    {
      "cell_type": "code",
      "execution_count": 62,
      "metadata": {
        "id": "8xkStdjdXS3w"
      },
      "outputs": [
        {
          "data": {
            "text/plain": [
              "52900"
            ]
          },
          "execution_count": 62,
          "metadata": {},
          "output_type": "execute_result"
        }
      ],
      "source": [
        "# Challenge 11\n",
        "# What is the no. of Makuti households in urban regions?\n",
        "#\n",
        "df.groupby('rural/urban')['No_Makuti'].sum().loc['Urban']"
      ]
    },
    {
      "cell_type": "code",
      "execution_count": 66,
      "metadata": {
        "id": "rgVsXH_5XVCh"
      },
      "outputs": [
        {
          "data": {
            "text/plain": [
              "167"
            ]
          },
          "execution_count": 66,
          "metadata": {},
          "output_type": "execute_result"
        }
      ],
      "source": [
        "# Challenge 12\n",
        "# What is the no. of Makuti households in the rural regions of Kisumu county?\n",
        "#\n",
        "df[(df['rural/urban']==\"Rural\") & (df['County']==\"Kisumu\")]['No_Makuti'].sum()"
      ]
    },
    {
      "cell_type": "code",
      "execution_count": 68,
      "metadata": {
        "id": "XvvFWhuDXXeP"
      },
      "outputs": [
        {
          "data": {
            "text/plain": [
              "73.22672201968003"
            ]
          },
          "execution_count": 68,
          "metadata": {},
          "output_type": "execute_result"
        }
      ],
      "source": [
        "# Challenge 13\n",
        "# What percentage of households in Kenya are concrete?\n",
        "#\n",
        "percentage = (df['No_Corrugated_Iron_Sheets'].sum()) / (df['Households'].sum()) * 100\n",
        "percentage"
      ]
    },
    {
      "cell_type": "code",
      "execution_count": 64,
      "metadata": {
        "id": "q1iq02FuXc2R"
      },
      "outputs": [
        {
          "name": "stderr",
          "output_type": "stream",
          "text": [
            "C:\\Users\\MARCHE~1\\AppData\\Local\\Temp/ipykernel_8056/793357342.py:6: SettingWithCopyWarning: \n",
            "A value is trying to be set on a copy of a slice from a DataFrame.\n",
            "Try using .loc[row_indexer,col_indexer] = value instead\n",
            "\n",
            "See the caveats in the documentation: https://pandas.pydata.org/pandas-docs/stable/user_guide/indexing.html#returning-a-view-versus-a-copy\n",
            "  dfgm['Total'] = dfgm['No_Grass'] + dfgm['No_Makuti']\n"
          ]
        },
        {
          "data": {
            "text/html": [
              "<div>\n",
              "<style scoped>\n",
              "    .dataframe tbody tr th:only-of-type {\n",
              "        vertical-align: middle;\n",
              "    }\n",
              "\n",
              "    .dataframe tbody tr th {\n",
              "        vertical-align: top;\n",
              "    }\n",
              "\n",
              "    .dataframe thead th {\n",
              "        text-align: right;\n",
              "    }\n",
              "</style>\n",
              "<table border=\"1\" class=\"dataframe\">\n",
              "  <thead>\n",
              "    <tr style=\"text-align: right;\">\n",
              "      <th></th>\n",
              "      <th>District</th>\n",
              "      <th>Total</th>\n",
              "    </tr>\n",
              "  </thead>\n",
              "  <tbody>\n",
              "    <tr>\n",
              "      <th>166</th>\n",
              "      <td>SIAYA</td>\n",
              "      <td>48094</td>\n",
              "    </tr>\n",
              "    <tr>\n",
              "      <th>52</th>\n",
              "      <td>KILIFI</td>\n",
              "      <td>41017</td>\n",
              "    </tr>\n",
              "    <tr>\n",
              "      <th>142</th>\n",
              "      <td>MANDERA CENTRAL</td>\n",
              "      <td>39346</td>\n",
              "    </tr>\n",
              "  </tbody>\n",
              "</table>\n",
              "</div>"
            ],
            "text/plain": [
              "            District  Total\n",
              "166            SIAYA  48094\n",
              "52            KILIFI  41017\n",
              "142  MANDERA CENTRAL  39346"
            ]
          },
          "execution_count": 64,
          "metadata": {},
          "output_type": "execute_result"
        }
      ],
      "source": [
        "# Challenge 14\n",
        "# Which top 3 districts have the highest no. of grass and makuti households?\n",
        "#\n",
        "dfgm = df[['District', 'No_Grass', 'No_Makuti']]\n",
        "# (df['No_Grass'] + df['No_Makuti'])\n",
        "dfgm['Total'] = dfgm['No_Grass'] + dfgm['No_Makuti']\n",
        "dfgm[['District','Total']].sort_values(by='Total', ascending= False).head(3)"
      ]
    },
    {
      "cell_type": "code",
      "execution_count": 63,
      "metadata": {
        "id": "drAWpxBZXhcF"
      },
      "outputs": [
        {
          "data": {
            "text/html": [
              "<div>\n",
              "<style scoped>\n",
              "    .dataframe tbody tr th:only-of-type {\n",
              "        vertical-align: middle;\n",
              "    }\n",
              "\n",
              "    .dataframe tbody tr th {\n",
              "        vertical-align: top;\n",
              "    }\n",
              "\n",
              "    .dataframe thead th {\n",
              "        text-align: right;\n",
              "    }\n",
              "</style>\n",
              "<table border=\"1\" class=\"dataframe\">\n",
              "  <thead>\n",
              "    <tr style=\"text-align: right;\">\n",
              "      <th></th>\n",
              "      <th>District</th>\n",
              "      <th>No_Corrugated_Iron_Sheets</th>\n",
              "      <th>No_Tiles</th>\n",
              "      <th>No_Concrete</th>\n",
              "      <th>No_Makuti</th>\n",
              "      <th>No_Grass</th>\n",
              "      <th>No_Asbestos_Sheets</th>\n",
              "      <th>No_Mud/Dung</th>\n",
              "    </tr>\n",
              "  </thead>\n",
              "  <tbody>\n",
              "    <tr>\n",
              "      <th>199</th>\n",
              "      <td>BARINGO</td>\n",
              "      <td>6685</td>\n",
              "      <td>199</td>\n",
              "      <td>24</td>\n",
              "      <td>4</td>\n",
              "      <td>318</td>\n",
              "      <td>385</td>\n",
              "      <td>2</td>\n",
              "    </tr>\n",
              "    <tr>\n",
              "      <th>200</th>\n",
              "      <td>BARINGO NORTH</td>\n",
              "      <td>0</td>\n",
              "      <td>0</td>\n",
              "      <td>0</td>\n",
              "      <td>0</td>\n",
              "      <td>0</td>\n",
              "      <td>0</td>\n",
              "      <td>0</td>\n",
              "    </tr>\n",
              "    <tr>\n",
              "      <th>201</th>\n",
              "      <td>EAST POKOT</td>\n",
              "      <td>0</td>\n",
              "      <td>0</td>\n",
              "      <td>0</td>\n",
              "      <td>0</td>\n",
              "      <td>0</td>\n",
              "      <td>0</td>\n",
              "      <td>0</td>\n",
              "    </tr>\n",
              "    <tr>\n",
              "      <th>202</th>\n",
              "      <td>KOIBATEK</td>\n",
              "      <td>7357</td>\n",
              "      <td>159</td>\n",
              "      <td>61</td>\n",
              "      <td>5</td>\n",
              "      <td>50</td>\n",
              "      <td>343</td>\n",
              "      <td>10</td>\n",
              "    </tr>\n",
              "    <tr>\n",
              "      <th>243</th>\n",
              "      <td>BARINGO</td>\n",
              "      <td>18189</td>\n",
              "      <td>247</td>\n",
              "      <td>16</td>\n",
              "      <td>37</td>\n",
              "      <td>8462</td>\n",
              "      <td>268</td>\n",
              "      <td>14</td>\n",
              "    </tr>\n",
              "    <tr>\n",
              "      <th>244</th>\n",
              "      <td>BARINGO NORTH</td>\n",
              "      <td>10500</td>\n",
              "      <td>179</td>\n",
              "      <td>9</td>\n",
              "      <td>23</td>\n",
              "      <td>8716</td>\n",
              "      <td>254</td>\n",
              "      <td>11</td>\n",
              "    </tr>\n",
              "    <tr>\n",
              "      <th>245</th>\n",
              "      <td>EAST POKOT</td>\n",
              "      <td>1632</td>\n",
              "      <td>88</td>\n",
              "      <td>8</td>\n",
              "      <td>99</td>\n",
              "      <td>19345</td>\n",
              "      <td>43</td>\n",
              "      <td>23</td>\n",
              "    </tr>\n",
              "    <tr>\n",
              "      <th>246</th>\n",
              "      <td>KOIBATEK</td>\n",
              "      <td>19681</td>\n",
              "      <td>237</td>\n",
              "      <td>9</td>\n",
              "      <td>55</td>\n",
              "      <td>5969</td>\n",
              "      <td>304</td>\n",
              "      <td>8</td>\n",
              "    </tr>\n",
              "  </tbody>\n",
              "</table>\n",
              "</div>"
            ],
            "text/plain": [
              "          District  No_Corrugated_Iron_Sheets  No_Tiles  No_Concrete  \\\n",
              "199        BARINGO                       6685       199           24   \n",
              "200  BARINGO NORTH                          0         0            0   \n",
              "201     EAST POKOT                          0         0            0   \n",
              "202       KOIBATEK                       7357       159           61   \n",
              "243        BARINGO                      18189       247           16   \n",
              "244  BARINGO NORTH                      10500       179            9   \n",
              "245     EAST POKOT                       1632        88            8   \n",
              "246       KOIBATEK                      19681       237            9   \n",
              "\n",
              "     No_Makuti  No_Grass  No_Asbestos_Sheets  No_Mud/Dung  \n",
              "199          4       318                 385            2  \n",
              "200          0         0                   0            0  \n",
              "201          0         0                   0            0  \n",
              "202          5        50                 343           10  \n",
              "243         37      8462                 268           14  \n",
              "244         23      8716                 254           11  \n",
              "245         99     19345                  43           23  \n",
              "246         55      5969                 304            8  "
            ]
          },
          "execution_count": 63,
          "metadata": {},
          "output_type": "execute_result"
        }
      ],
      "source": [
        "# Challenge 15 \n",
        "# What is the households distribution of iron sheets, mud/dung, tin, \n",
        "# makuti, grass, sheets, concrete, tiles for Baringa County?\n",
        "# \n",
        "df[df[\"County\"]==\"Baringo\"][['District', 'No_Corrugated_Iron_Sheets','No_Tiles','No_Concrete', 'No_Makuti', 'No_Grass','No_Asbestos_Sheets','No_Mud/Dung']]"
      ]
    },
    {
      "cell_type": "code",
      "execution_count": null,
      "metadata": {},
      "outputs": [],
      "source": []
    }
  ],
  "metadata": {
    "colab": {
      "collapsed_sections": [
        "HToJZ2gBPawZ",
        "IICLGbvBRYHq",
        "RAVzK5O6IR8v",
        "R9S2o1WXIhq1",
        "LgLPmaP60MCY",
        "ogvHnWWk0URF",
        "4_l-hjNT0ljY",
        "Wg_HInjk0rJG",
        "po-2IDPd0vdL",
        "dr1eyGZzt83Z",
        "NicC8P9LMjvO"
      ],
      "name": "Python Data Cleaning and Analysis - Kenyan Households Roofing Materials",
      "provenance": [],
      "toc_visible": true
    },
    "kernelspec": {
      "display_name": "Python 3",
      "name": "python3"
    },
    "language_info": {
      "codemirror_mode": {
        "name": "ipython",
        "version": 3
      },
      "file_extension": ".py",
      "mimetype": "text/x-python",
      "name": "python",
      "nbconvert_exporter": "python",
      "pygments_lexer": "ipython3",
      "version": "3.9.2"
    }
  },
  "nbformat": 4,
  "nbformat_minor": 0
}
