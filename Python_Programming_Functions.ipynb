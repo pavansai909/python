{
  "cells": [
    {
      "cell_type": "markdown",
      "metadata": {
        "id": "at-j61Sw1cxq"
      },
      "source": [
        "<font color=\"green\">*To start working on this notebook, or any other notebook that we will use in the Moringa Data Science Course, we will need to save our own copy of it. We can do this by clicking File > Save a Copy in Drive. We will then be able to make edits to our own copy of this notebook.*</font>"
      ]
    },
    {
      "cell_type": "markdown",
      "metadata": {
        "id": "ME3zPRU_ulWC"
      },
      "source": [
        "# Python Programming: Functions"
      ]
    },
    {
      "cell_type": "markdown",
      "metadata": {
        "id": "qbHky4L6u0GF"
      },
      "source": [
        "## 1.0 Overview"
      ]
    },
    {
      "cell_type": "code",
      "execution_count": 1,
      "metadata": {
        "id": "xf2uz7Zgu26f"
      },
      "outputs": [
        {
          "name": "stdout",
          "output_type": "stream",
          "text": [
            "Hello, This is from my function!\n"
          ]
        }
      ],
      "source": [
        "# Example 1\n",
        "# Below is an example of a function - my_function.\n",
        "#\n",
        "\n",
        "# This function is called my_function and contains only one line of code\n",
        "# tasked with printing.\n",
        "\n",
        "# We define our function as shown;\n",
        "# Def is the keyword used to define the function, my_function is the name of our function\n",
        "# and print() is the operation that the function undertakes;\n",
        "def my_function():\n",
        "    print(\"Hello, This is from my function!\")\n",
        "\n",
        "# Upon defining the function, we can then call it as shown below. Calling a function means executing a function and printing its value.\n",
        "# Please take note of the parenthesis at the end, if you omit the parenthesis then the function will not display the output.\n",
        "my_function()"
      ]
    },
    {
      "cell_type": "code",
      "execution_count": 2,
      "metadata": {
        "id": "nhLXZF7HuiBJ"
      },
      "outputs": [
        {
          "name": "stdout",
          "output_type": "stream",
          "text": [
            "Hello!\n"
          ]
        }
      ],
      "source": [
        "# Example 2\n",
        "# Let's briefly look at built-in functions. Built-in functions are function that are already predetermined in python. \n",
        "# This means that these functions are always available for use without us having to define them.\n",
        "# Below is is an example of a built in function.\n",
        "\n",
        "# what we've done in the line below is to call the print function and passed a string Hello!. \n",
        "# We will learn more about passing to functions later in this session.\n",
        "print(\"Hello!\")\n",
        "\n",
        "# print() is the built - in function. \n",
        "# Examples of other built - in python functions include range(), str(), max(), min() etc. "
      ]
    },
    {
      "cell_type": "code",
      "execution_count": null,
      "metadata": {
        "id": "bOvvo7FLXmks"
      },
      "outputs": [],
      "source": [
        "# Example 3\n",
        "# We can also use a function to perform a custom complex mathematical operation\n",
        "# just as shown in the newtons_method function. \n",
        "# Bear with us for now, you do not necessarily need to understand what the newtons method\n",
        "# which is the complex mathematical operation entails. \n",
        "# What you need to know for know isthat functions are used to perform a specific\n",
        "# set of operations then return an output as shown below. \n",
        "#\n",
        "\n",
        "\n",
        "def newtons_method(num, estimate):\n",
        "    # Computing a new_estimate\n",
        "    new_estimate = (estimate + num / estimate) / 2\n",
        "    print(new_estimate)\n",
        "    # Base Case: Comparing our estimate with built-in functions value\n",
        "    if new_estimate == math.sqrt(num):\n",
        "        return True\n",
        "    else:\n",
        "        # let's return our output.\n",
        "        return newtons_method(num, new_estimate)\n",
        "      \n",
        "# As we have noticed, we defined our fuction - newtons_method, then passed num and estimate \n",
        "# to the function. These values that we have passed are referred to as parameters. \n",
        "# Values can be passed to functions, then the functions perform a set of operations \n",
        "# and provide an output based on the given input. \n",
        "# More about parameters will be covered later in this session. "
      ]
    },
    {
      "cell_type": "markdown",
      "metadata": {
        "id": "4id48OhWr7L2"
      },
      "source": [
        "## 1.1 Using Built-in Functions "
      ]
    },
    {
      "cell_type": "code",
      "execution_count": 3,
      "metadata": {
        "id": "1Xg3vxh8sASM"
      },
      "outputs": [
        {
          "name": "stdout",
          "output_type": "stream",
          "text": [
            "43\n",
            "Valerie\n"
          ]
        }
      ],
      "source": [
        "# Example 1\n",
        "# Let's now see how to work with a few built-in python functions\n",
        "# We will start learning about the max() built-in function\n",
        "# \n",
        "\n",
        "# The max() function will return the item with the highest value as shown\n",
        "# in the given arrays \n",
        "x = max([15, 20, 43, 33, 43])\n",
        "print(x)\n",
        "\n",
        "# Using the max() function, we can return the items with the highest value alphabetically\n",
        "y = max([\"Alice\", \"James\", \"Valerie\"])\n",
        "print(y)"
      ]
    },
    {
      "cell_type": "code",
      "execution_count": 6,
      "metadata": {
        "id": "MwsgXFvQsAMZ"
      },
      "outputs": [
        {
          "name": "stdout",
          "output_type": "stream",
          "text": [
            "<class 'float'>\n"
          ]
        },
        {
          "data": {
            "text/plain": [
              "str"
            ]
          },
          "execution_count": 6,
          "metadata": {},
          "output_type": "execute_result"
        }
      ],
      "source": [
        "# Example 2\n",
        "# Another built-in function that we can use is the type() function.\n",
        "# Let's use it to return the data type of the specified object. \n",
        "#\n",
        "w = 12.2\n",
        "x = 100\n",
        "y = ['Samsung', 'Sony', 'Panasonic']\n",
        "z = \"Upendo\"\n",
        "\n",
        "print(type(w))\n",
        "\n",
        "# Find out the type of x\n",
        "type(x)\n",
        "\n",
        "# Find out the type of y\n",
        "\n",
        "type(y)\n",
        "# Find out the type of z\n",
        "\n",
        "type(z)"
      ]
    },
    {
      "cell_type": "code",
      "execution_count": 11,
      "metadata": {},
      "outputs": [
        {
          "data": {
            "text/plain": [
              "list"
            ]
          },
          "execution_count": 11,
          "metadata": {},
          "output_type": "execute_result"
        }
      ],
      "source": [
        "def func(a):\n",
        "    return type(a)\n",
        "\n",
        "func(y)"
      ]
    },
    {
      "cell_type": "code",
      "execution_count": 12,
      "metadata": {
        "id": "AqJAthgIr__w"
      },
      "outputs": [
        {
          "name": "stdout",
          "output_type": "stream",
          "text": [
            "2067\n"
          ]
        }
      ],
      "source": [
        "# Example 3\n",
        "# This is how we can also use the built in sum() function\n",
        "# \n",
        "\n",
        "a = [232, 323, 434, 523, 323, 232] \n",
        "print(sum(a))\n",
        "\n",
        "# As we have already mentioned, examples of other built - in python functions \n",
        "# include range(), str(), max(), min() etc. "
      ]
    },
    {
      "cell_type": "markdown",
      "metadata": {
        "id": "51m8VyKYs_e3"
      },
      "source": [
        "### <font color=\"green\">1.1 Challenges</font>"
      ]
    },
    {
      "cell_type": "code",
      "execution_count": 13,
      "metadata": {
        "id": "VP7RNa_5tYiL"
      },
      "outputs": [
        {
          "data": {
            "text/plain": [
              "232"
            ]
          },
          "execution_count": 13,
          "metadata": {},
          "output_type": "execute_result"
        }
      ],
      "source": [
        "# Challenge 1\n",
        "# Now that we have learnt to use some built-in functions, \n",
        "# Let's use the min() function to return the item with the lowest value below\n",
        "#\n",
        "min(a)"
      ]
    },
    {
      "cell_type": "code",
      "execution_count": 14,
      "metadata": {
        "id": "7OFu5O7JtZJy"
      },
      "outputs": [
        {
          "data": {
            "text/plain": [
              "23"
            ]
          },
          "execution_count": 14,
          "metadata": {},
          "output_type": "execute_result"
        }
      ],
      "source": [
        "# Challenge 2\n",
        "# Let's also round off the number 23.43 using the round() function\n",
        "#\n",
        "round(23.43)"
      ]
    },
    {
      "cell_type": "code",
      "execution_count": 15,
      "metadata": {
        "id": "Ogr-yc4BtZIf"
      },
      "outputs": [
        {
          "data": {
            "text/plain": [
              "[232, 232, 323, 323, 434, 523]"
            ]
          },
          "execution_count": 15,
          "metadata": {},
          "output_type": "execute_result"
        }
      ],
      "source": [
        "# Challenge 3\n",
        "# Lastly, let's give an example where the sorted() function can be used;\n",
        "# Hint: Feel free to perform some external research \n",
        "# \n",
        "sorted(a)"
      ]
    },
    {
      "cell_type": "markdown",
      "metadata": {
        "id": "-yVfw__Bu4Sl"
      },
      "source": [
        "## 1.2 Creating a Function"
      ]
    },
    {
      "cell_type": "markdown",
      "metadata": {
        "id": "w4tM_RB3yPT4"
      },
      "source": [
        "We will now create functions. \n",
        "\n",
        "Below are steps that we can use to create a function: \n",
        "\n",
        "*  **Step 1**: We first declare the function with the keyword `def` followed by the function name and brackets.\n",
        "*   **Step 2**: Add the program statements to be executed.\n",
        "*   **Step 3** End the function with/without return statement.\n",
        "*  **Step 4**: We will learn more about this step later in this session. If our function takes parameters, we write the arguments inside the opening and closing parentheses of the function, and end the declaration with a colon. \n",
        "\n",
        "\n",
        "\n"
      ]
    },
    {
      "cell_type": "code",
      "execution_count": 16,
      "metadata": {
        "id": "SkEtwBmMzb8k"
      },
      "outputs": [
        {
          "data": {
            "text/plain": [
              "10"
            ]
          },
          "execution_count": 16,
          "metadata": {},
          "output_type": "execute_result"
        }
      ],
      "source": [
        "# Example 1\n",
        "# To start, we will create a function to find out which \n",
        "# of two numbers is greater than the other \n",
        "# \n",
        "\n",
        "# we define it by giving it the name max_of_two\n",
        "def max_of_two():\n",
        "  \n",
        "  # we then define our variables that will contain the numbers to be manipulated\n",
        "  first_number  = 10\n",
        "  second_number = 5\n",
        "  \n",
        "  # then we perform our operations i.e. in this case,\n",
        "  # if first_number is greater than second_number etc.\n",
        "  if first_number > second_number:\n",
        "    \n",
        "      # the return keyword allows us to provide back the result/output of our function\n",
        "    return first_number\n",
        "  else:\n",
        "    # the return key word allows us to provide back the result/output of our function\n",
        "    return second_number\n",
        " \n",
        "# Lastly, we do the most important step; which is to call the function that \n",
        "# we have just created above. Calling allows us to use the function. \n",
        "# We have also been calling our built-in functions from the previous section.\n",
        "#\n",
        "max_of_two()"
      ]
    },
    {
      "cell_type": "code",
      "execution_count": 17,
      "metadata": {
        "id": "3P8OAAcGyOP7"
      },
      "outputs": [
        {
          "data": {
            "text/plain": [
              "36"
            ]
          },
          "execution_count": 17,
          "metadata": {},
          "output_type": "execute_result"
        }
      ],
      "source": [
        "# Example 2\n",
        "# Let's now create another function to find out the square of a certain number \n",
        "# \n",
        "\n",
        "# defining our function name\n",
        "def square_of_number():\n",
        "  \n",
        "  # assigning 6 to our variable nuber \n",
        "  number = 6\n",
        "  \n",
        "\n",
        "  square_square_of_number = number ** 2\n",
        "  \n",
        "  # the return keyword allows us to provide back the result/output of our function\n",
        "  return square_square_of_number\n",
        "\n",
        "# now calling our function\n",
        "square_of_number()"
      ]
    },
    {
      "cell_type": "code",
      "execution_count": 18,
      "metadata": {
        "id": "QZFwx1lgyOhh"
      },
      "outputs": [
        {
          "name": "stdout",
          "output_type": "stream",
          "text": [
            "21\n"
          ]
        }
      ],
      "source": [
        "# Example 3\n",
        "# Lastly, we create another function to sum all the numbers in a list a = [6, 5, 4, 3, 2, 1]\n",
        "# \n",
        "\n",
        "def sum():\n",
        "  a = [6, 5, 4, 3, 2, 1]\n",
        "  total = 0\n",
        "  \n",
        "    # performing our operation by using a for loop to iterate through our list\n",
        "  for x in a:\n",
        "    \n",
        "    # for each iteration we perform total = total + 1;  which can be simply be written as shown below\n",
        "    total += x\n",
        "    \n",
        "  # Then lastly return our output which is to print out the value of the total variable \n",
        "  return print(total)\n",
        "\n",
        "# Lastly we call the function in order to use it\n",
        "sum()"
      ]
    },
    {
      "cell_type": "markdown",
      "metadata": {
        "id": "ArRLPeQ0zTD7"
      },
      "source": [
        "### <font color=\"green\">1.2 Challenges</font>"
      ]
    },
    {
      "cell_type": "code",
      "execution_count": 22,
      "metadata": {
        "id": "NQ87DKM9zaMG"
      },
      "outputs": [
        {
          "name": "stdout",
          "output_type": "stream",
          "text": [
            "10\n"
          ]
        }
      ],
      "source": [
        "# Challenge 1\n",
        "# Now that we have seen how to create functions, \n",
        "# let's create one that returns the maximum of two numbers;\n",
        "#\n",
        "a = int(input(\"Enter first number: \"))\n",
        "b = int(input(\"Enter second number: \"))\n",
        "\n",
        "def maxfunc(a,b):\n",
        "    if a>b:\n",
        "        print(a)\n",
        "    else:\n",
        "        print(b)\n",
        "maxfunc(a,b)"
      ]
    },
    {
      "cell_type": "code",
      "execution_count": 24,
      "metadata": {
        "id": "zFnXOKg5zaBc"
      },
      "outputs": [],
      "source": [
        "# Challenge 2\n",
        "# Let's write another function that tell us whether if a variable is between 3 and 10\n",
        "#\n",
        "# a = int(input(\"Enter the number: \"))\n",
        "# def numdiff(a):\n",
        "#     if 3<=a<=10:\n",
        "#         print(\"It is between 3 and 10 \")\n",
        "#     else:\n",
        "#         print(\"It is not between 3 and 10 \")"
      ]
    },
    {
      "cell_type": "code",
      "execution_count": 25,
      "metadata": {},
      "outputs": [
        {
          "data": {
            "text/plain": [
              "'It is not between 3 and 10 '"
            ]
          },
          "execution_count": 25,
          "metadata": {},
          "output_type": "execute_result"
        }
      ],
      "source": [
        "var = int(input(\"Enter a number: \"))\n",
        "\n",
        "def checkvar():\n",
        "    if var in range(3,10):\n",
        "        return \"It is between 3 and 10\"\n",
        "    else:\n",
        "        return \"It is not between 3 and 10 \"\n",
        "\n",
        "checkvar()"
      ]
    },
    {
      "cell_type": "code",
      "execution_count": 35,
      "metadata": {
        "id": "6SvU7V_LzZuK"
      },
      "outputs": [
        {
          "data": {
            "text/plain": [
              "275"
            ]
          },
          "execution_count": 35,
          "metadata": {},
          "output_type": "execute_result"
        }
      ],
      "source": [
        "# Challenge 3\n",
        "# Lastly, an online retailer provides express shipping for many of its items at a rate of Ksh 200 for the first item, and Ksh. 25 for each subsequent item. \n",
        "# Write a function that takes the number of items in the order from the user. \n",
        "# Return the shipping charge for the order as the function’s result. \n",
        "#\n",
        "# numitems = int(input(\"Enter number of items: \"))\n",
        "\n",
        "# def charge():\n",
        "#     return 'charge is', 200 + (numitems-1)*25, 'shilling'\n",
        "# charge()\n",
        "\n",
        "\n",
        "\n",
        "def shipping_charge():\n",
        "\n",
        "    orders = []\n",
        "    sum = 0\n",
        "    count= 0\n",
        "    len_of_orders = len(orders)\n",
        "    order = input('Enter item: ')\n",
        "    while order != '':\n",
        "        orders.append(order)\n",
        "        order = input('Enter item: ')\n",
        "        count = count + 1\n",
        "\n",
        "\n",
        "    if orders[0] == order:\n",
        "        return 200\n",
        "    else:\n",
        "        return count* 25 + 200\n",
        "        \n",
        "\n",
        "shipping_charge()"
      ]
    },
    {
      "cell_type": "markdown",
      "metadata": {
        "id": "zpJ7dsVWyURZ"
      },
      "source": [
        "## 1.3 Passing Parameters and Returning Values"
      ]
    },
    {
      "cell_type": "code",
      "execution_count": 29,
      "metadata": {
        "id": "oGbSQfdDyy91"
      },
      "outputs": [
        {
          "name": "stdout",
          "output_type": "stream",
          "text": [
            "3.0\n"
          ]
        }
      ],
      "source": [
        "# Example 1\n",
        "# Parameters are variables that give to a function. The function later use the values \n",
        "# of those parameters which we call arguments to perform operations then return an output.\n",
        "# The ability for functions to take in parameter is important because it allows \n",
        "# for code re-use in different contexts. \n",
        "# To see this, let's create a function that finds the average of two numbers a and b.\n",
        "# These numbers a and b are referred to as parameters and their values are referred to arguements.\n",
        "# The parameters will be provided to the function and the function will \n",
        "# perform the average and return the result of these operations as show.\n",
        "# \n",
        "\n",
        "# Defining our function\n",
        "def avg(a,b):\n",
        "  \n",
        "  # Performing the operation\n",
        "  two_numbers_avg = (a + b)/2\n",
        "  \n",
        "  # Returning the result of our function\n",
        "  return print(two_numbers_avg) \n",
        "\n",
        "# Calling our function with arguments\n",
        "avg(2,4)"
      ]
    },
    {
      "cell_type": "code",
      "execution_count": 30,
      "metadata": {
        "id": "eAMUefKlyzA1"
      },
      "outputs": [
        {
          "name": "stdout",
          "output_type": "stream",
          "text": [
            "Chitanda, Tomanzi\n"
          ]
        }
      ],
      "source": [
        "# Example 2\n",
        "# Let's create another function that takes in the name and age of a person\n",
        "# then prints out their name \n",
        "# \n",
        "\n",
        "def lastFirst(firstName, lastName):\n",
        "    separator = ', '\n",
        "    result = lastName + separator + firstName\n",
        "    return print(result)\n",
        " \n",
        "lastFirst('Tomanzi', 'Chitanda')"
      ]
    },
    {
      "cell_type": "code",
      "execution_count": 31,
      "metadata": {
        "id": "YxUu-a7AzzcP"
      },
      "outputs": [
        {
          "name": "stdout",
          "output_type": "stream",
          "text": [
            "50.24\n"
          ]
        }
      ],
      "source": [
        "# Example 3\n",
        "# Let's create another function that calculates the area of a cirlce when\n",
        "# the value radius is passed to the function\n",
        "# \n",
        "\n",
        "def circleArea(radius):\n",
        "    area = 3.14 * radius * radius \n",
        "    return print(area)\n",
        "  \n",
        "# Calling our function and passing an argumement\n",
        "circleArea(4)"
      ]
    },
    {
      "cell_type": "markdown",
      "metadata": {
        "id": "qmwPuSsPyqff"
      },
      "source": [
        "### <font color=\"green\">1.3 Challenges</font>"
      ]
    },
    {
      "cell_type": "code",
      "execution_count": null,
      "metadata": {
        "id": "8pa4b5Jcz1kf"
      },
      "outputs": [],
      "source": [
        "# Challenge 1\n",
        "# Write a function that determines how many days there are in a particular month. \n",
        "# Your function will have two parameters: The month as an integer between 1 and 12, \n",
        "# and the year as a four digit integer. \n",
        "# Ensure that your function reports the correct number of days in February for leap years.\n",
        "# \n",
        "month = int(input('Enter month in number ie 1, 2,3 ...: '))\n",
        "year = int(input('Enter year in number ie 2000, 2010, 1990 ...: '))\n",
        "\n",
        "def month_and_day(month, year):\n",
        "    if month == 1:\n",
        "        print(\"31 days\")\n",
        "    elif month == 2:\n",
        "        if year %4 == 0:\n",
        "            print(\"29 days\")\n",
        "        else:\n",
        "            print(\"28 days\")\n",
        "    elif month == 3:\n",
        "        print(\"31 days\")\n",
        "    elif month == 4:\n",
        "        print(\"30 days\")\n",
        "    elif month == 5:\n",
        "        print(\"31 days\")\n",
        "    elif month == 6:\n",
        "        print(\"30 days\")\n",
        "    elif month == 7:\n",
        "        print(\"31 days\")\n",
        "    elif month == 8:\n",
        "        print(\"31 days\")\n",
        "    elif month == 9:\n",
        "        print(\"30 days\")\n",
        "    elif month == 10:\n",
        "        print(\"31 days\")\n",
        "    elif month == 11:\n",
        "        print(\"30 days\")\n",
        "    elif month == 12:\n",
        "        print(\"31 days\")\n",
        "    else:\n",
        "        print(\"Kindly enter the month and year corectly\")\n",
        "\n",
        "month_and_day(month, year)"
      ]
    },
    {
      "cell_type": "code",
      "execution_count": 41,
      "metadata": {
        "id": "uyz_9HC9y4XT"
      },
      "outputs": [
        {
          "data": {
            "text/plain": [
              "1985.7142857142853"
            ]
          },
          "execution_count": 41,
          "metadata": {},
          "output_type": "execute_result"
        }
      ],
      "source": [
        "# Challenge 2\n",
        "# In a particular company, taxi fares consist of a base fare of Ksh.200, \n",
        "# plus Ksh.25 for every 140 meters traveled. \n",
        "# Write a function that takes the distance traveled (in kilometers) \n",
        "# as its only parameter and returns the total fare as its only result.\n",
        "#\n",
        "# distance = int(input(\"Enter the distance travelled: \"))\n",
        "\n",
        "def fare(kmtr):\n",
        "    travelfare = 200 + (kmtr/0.140)*25\n",
        "    return travelfare\n",
        "\n",
        "fare(10)"
      ]
    },
    {
      "cell_type": "code",
      "execution_count": 42,
      "metadata": {},
      "outputs": [
        {
          "name": "stdout",
          "output_type": "stream",
          "text": [
            "Distance covered price: 1785.7142857142856 and total is: 1985.7142857142856\n"
          ]
        }
      ],
      "source": [
        "def taxi_fares(kilometres):\n",
        "  base_fare = 200\n",
        "  distance = (kilometres * 25) / 0.14\n",
        "  total = distance + base_fare\n",
        "  if kilometres >= 0.14:\n",
        "    return print(\"Distance covered price: \"+ str(distance) + \" and total is: \" + str(total))\n",
        "  else:\n",
        "    return print(base_fare)\n",
        "taxi_fares(10)"
      ]
    },
    {
      "cell_type": "code",
      "execution_count": 49,
      "metadata": {
        "id": "a93DEIfI1Xkc"
      },
      "outputs": [
        {
          "data": {
            "text/plain": [
              "115.99999999999999"
            ]
          },
          "execution_count": 49,
          "metadata": {},
          "output_type": "execute_result"
        }
      ],
      "source": [
        "# Challenge 3\n",
        "# A particular cell phone plan includes 20 minutes of air time and 20 text messages \n",
        "# for Ksh. 50.00 a month. Each additional minute of air time costs Ksh. 3.00, \n",
        "# while additional text messages cost Ksh. 2.00 each. \n",
        "# The entire bill (including the 999 charge) is subject to 16 percent VAT tax.\n",
        "# Write a program that reads the number of minutes and text messages used in a month from the user. \n",
        "# Display the base charge, additional minutes charge (if any), \n",
        "# additional text message charge (if any), tax and total bill amount. \n",
        "# Only display the additional minute and text message charges if the user incurred costs in these categories. \n",
        "# Ensure that all of the charges are displayed using 2 decimal places.\n",
        "#\n",
        "minutes = float(input(\"Enter number of minutes: \"))\n",
        "texts = int(input(\"Enter number of texts: \"))\n",
        "\n",
        "def charge():\n",
        "    Totalcharge = (50 + (minutes-20)*3 + (texts-20)*2)*1.16\n",
        "    return Totalcharge\n",
        "\n",
        "charge()"
      ]
    },
    {
      "cell_type": "code",
      "execution_count": 57,
      "metadata": {},
      "outputs": [
        {
          "data": {
            "text/plain": [
              "57.99999999999999"
            ]
          },
          "execution_count": 57,
          "metadata": {},
          "output_type": "execute_result"
        }
      ],
      "source": [
        "minutes = float(input('>>>> '))\n",
        "messages = float(input('>>>> '))\n",
        "#emergency_calls = float()\n",
        "\n",
        "def cost(minutes, messages):\n",
        "    base_charge = 50\n",
        "    add_messages = (messages-20)*2\n",
        "    add_artime = (minutes-20) * 3\n",
        "    #emergency_call = \n",
        "    total = base_charge + add_messages + add_artime # + extra_charge\n",
        "    tax = total * 0.16\n",
        "    fare= total+tax\n",
        "    \n",
        "    if add_messages > 0 and add_artime > 0:\n",
        "        return print(\"The additional messages are\",add_messages ,\" and the additional artime are\",add_artime,\"with total fare\",fare )\n",
        "        return fare\n",
        "    else:\n",
        "        return base_charge*1.16\n",
        "    \n",
        "cost(minutes, messages)"
      ]
    },
    {
      "cell_type": "code",
      "execution_count": null,
      "metadata": {},
      "outputs": [],
      "source": []
    }
  ],
  "metadata": {
    "colab": {
      "collapsed_sections": [
        "qbHky4L6u0GF",
        "4id48OhWr7L2",
        "51m8VyKYs_e3",
        "-yVfw__Bu4Sl",
        "ArRLPeQ0zTD7",
        "zpJ7dsVWyURZ",
        "qmwPuSsPyqff"
      ],
      "name": "Python Programming: Functions",
      "provenance": [],
      "toc_visible": true
    },
    "interpreter": {
      "hash": "63fd5069d213b44bf678585dea6b12cceca9941eaf7f819626cde1f2670de90d"
    },
    "kernelspec": {
      "display_name": "Python 3.9.2 64-bit",
      "name": "python3"
    },
    "language_info": {
      "codemirror_mode": {
        "name": "ipython",
        "version": 3
      },
      "file_extension": ".py",
      "mimetype": "text/x-python",
      "name": "python",
      "nbconvert_exporter": "python",
      "pygments_lexer": "ipython3",
      "version": "3.9.2"
    }
  },
  "nbformat": 4,
  "nbformat_minor": 0
}
