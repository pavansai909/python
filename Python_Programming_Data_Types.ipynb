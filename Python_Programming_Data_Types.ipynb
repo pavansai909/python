{
 "cells": [
  {
   "cell_type": "markdown",
   "metadata": {
    "id": "qWBvvuvk0Svi"
   },
   "source": [
    "<font color=\"green\">*To start working on this notebook, or any other notebook that we will use in the Moringa Data Science Course, we will need to save our own copy of it. We can do this by clicking File > Save a Copy in Drive. We will then be able to make edits to our own copy of this notebook.*</font>\n",
    "\n"
   ]
  },
  {
   "cell_type": "markdown",
   "metadata": {
    "id": "g4atfIoY1BjY"
   },
   "source": [
    "# Python Programming: Data Types"
   ]
  },
  {
   "cell_type": "markdown",
   "metadata": {
    "id": "Fti179OmKM7c"
   },
   "source": [
    "## 1.1 Introduction"
   ]
  },
  {
   "cell_type": "markdown",
   "metadata": {
    "id": "_Kl5unZ9KPIY"
   },
   "source": [
    "There are many different data types in Python. These data types can also be referred to as types of objects. We can start with the most common object types: strings, integers and floats. Anytime you write words (text) in Python, you're using character strings (strings for short). The most common numbers, on the other hand, are integers (e.g. -1, 0, 100) and floats, which represent real numbers (e.g. 3.14, -42.0)."
   ]
  },
  {
   "cell_type": "markdown",
   "metadata": {
    "id": "F8zU7otKNuU3"
   },
   "source": [
    "The following are examples of values with different data types;"
   ]
  },
  {
   "cell_type": "code",
   "execution_count": 1,
   "metadata": {
    "id": "aLU0ZCM4KKMZ"
   },
   "outputs": [
    {
     "data": {
      "text/plain": [
       "55"
      ]
     },
     "execution_count": 1,
     "metadata": {},
     "output_type": "execute_result"
    }
   ],
   "source": [
    "# Example 1\n",
    "# Integer Data Type\n",
    "#\n",
    "55"
   ]
  },
  {
   "cell_type": "code",
   "execution_count": 2,
   "metadata": {
    "id": "dm_ofqvwPQuP"
   },
   "outputs": [
    {
     "data": {
      "text/plain": [
       "3.142"
      ]
     },
     "execution_count": 2,
     "metadata": {},
     "output_type": "execute_result"
    }
   ],
   "source": [
    "# Example 2\n",
    "# Float Data Type\n",
    "#\n",
    "3.142"
   ]
  },
  {
   "cell_type": "code",
   "execution_count": 3,
   "metadata": {
    "id": "Vjla31TDQg4R"
   },
   "outputs": [
    {
     "data": {
      "text/plain": [
       "'Moringa Data Science'"
      ]
     },
     "execution_count": 3,
     "metadata": {},
     "output_type": "execute_result"
    }
   ],
   "source": [
    "# Example 3\n",
    "# String Data Type\n",
    "#\n",
    "\"Moringa Data Science\" "
   ]
  },
  {
   "cell_type": "markdown",
   "metadata": {
    "id": "uqmC6vfr24_f"
   },
   "source": [
    "### <font color=\"green\">1.1 Challenges </font>\n"
   ]
  },
  {
   "cell_type": "code",
   "execution_count": 4,
   "metadata": {
    "id": "IpyXzkyYRnJ1"
   },
   "outputs": [
    {
     "data": {
      "text/plain": [
       "5"
      ]
     },
     "execution_count": 4,
     "metadata": {},
     "output_type": "execute_result"
    }
   ],
   "source": [
    "# Challenge 1\n",
    "# Write a value with an Integer data type \n",
    "# \n",
    "a = 5\n",
    "a"
   ]
  },
  {
   "cell_type": "code",
   "execution_count": 6,
   "metadata": {
    "id": "fTkeiMm6Rrhc"
   },
   "outputs": [
    {
     "data": {
      "text/plain": [
       "10.5"
      ]
     },
     "execution_count": 6,
     "metadata": {},
     "output_type": "execute_result"
    }
   ],
   "source": [
    "# Challenge 2 \n",
    "# Write any value with a Float Data Type \n",
    "# \n",
    "b = 10.5\n",
    "b"
   ]
  },
  {
   "cell_type": "code",
   "execution_count": 8,
   "metadata": {
    "id": "-yxfZtWqRuoA"
   },
   "outputs": [
    {
     "data": {
      "text/plain": [
       "'brenda is good'"
      ]
     },
     "execution_count": 8,
     "metadata": {},
     "output_type": "execute_result"
    }
   ],
   "source": [
    "# Challenge 3\n",
    "# Write any value with a String Data Type \n",
    "# \n",
    "name= \"brenda is good\"\n",
    "name"
   ]
  },
  {
   "cell_type": "markdown",
   "metadata": {
    "id": "UxdDFPQKz3NS"
   },
   "source": [
    "## 1.2 Finding Out Types"
   ]
  },
  {
   "cell_type": "markdown",
   "metadata": {
    "id": "sgBUpOEqRe8d"
   },
   "source": [
    "We can get Python to tell us the type of an expression by using the built-in type() function. We'll notice that Python refers to integers as int, floats as float, and character strings as str."
   ]
  },
  {
   "cell_type": "code",
   "execution_count": 9,
   "metadata": {
    "id": "GQZq_V9NS09i"
   },
   "outputs": [
    {
     "data": {
      "text/plain": [
       "int"
      ]
     },
     "execution_count": 9,
     "metadata": {},
     "output_type": "execute_result"
    }
   ],
   "source": [
    "# Example 1\n",
    "# Finding out the type of 55\n",
    "#\n",
    "type(55)"
   ]
  },
  {
   "cell_type": "code",
   "execution_count": 10,
   "metadata": {
    "id": "mKoaAXlNS8pt"
   },
   "outputs": [
    {
     "data": {
      "text/plain": [
       "float"
      ]
     },
     "execution_count": 10,
     "metadata": {},
     "output_type": "execute_result"
    }
   ],
   "source": [
    "# Example 2\n",
    "# Finding out the type of 3.142\n",
    "#\n",
    "type(3.142)"
   ]
  },
  {
   "cell_type": "code",
   "execution_count": 11,
   "metadata": {
    "id": "55FxpuwtS8So"
   },
   "outputs": [
    {
     "data": {
      "text/plain": [
       "str"
      ]
     },
     "execution_count": 11,
     "metadata": {},
     "output_type": "execute_result"
    }
   ],
   "source": [
    "# Example 3\n",
    "# Finding out the type of \"Moringa Data Science\"\n",
    "#\n",
    "type(\"Moringa Data Science\")"
   ]
  },
  {
   "cell_type": "markdown",
   "metadata": {
    "id": "gqLkQCti2_as"
   },
   "source": [
    "### <font color=\"green\">1.2 Challenges</font>"
   ]
  },
  {
   "cell_type": "code",
   "execution_count": 12,
   "metadata": {
    "id": "9aeJPHk5RJW2"
   },
   "outputs": [
    {
     "data": {
      "text/plain": [
       "int"
      ]
     },
     "execution_count": 12,
     "metadata": {},
     "output_type": "execute_result"
    }
   ],
   "source": [
    "# Challenge 4 \n",
    "# Now lets find out the type of our value in Challenge #1\n",
    "#\n",
    "type(a)"
   ]
  },
  {
   "cell_type": "code",
   "execution_count": 13,
   "metadata": {
    "id": "xpxRzyfHT_VC"
   },
   "outputs": [
    {
     "data": {
      "text/plain": [
       "float"
      ]
     },
     "execution_count": 13,
     "metadata": {},
     "output_type": "execute_result"
    }
   ],
   "source": [
    "# Challenge 5\n",
    "# What about the type of our value in Challenge #2\n",
    "# \n",
    "type(b)"
   ]
  },
  {
   "cell_type": "code",
   "execution_count": 14,
   "metadata": {
    "id": "JSTdIHXdUErB"
   },
   "outputs": [
    {
     "data": {
      "text/plain": [
       "str"
      ]
     },
     "execution_count": 14,
     "metadata": {},
     "output_type": "execute_result"
    }
   ],
   "source": [
    "# Challenge 6\n",
    "# What about the type of our value in Challenge #3\n",
    "#\n",
    "type(name)"
   ]
  },
  {
   "cell_type": "code",
   "execution_count": 15,
   "metadata": {
    "id": "3A6nP_-XpcTA"
   },
   "outputs": [
    {
     "data": {
      "text/plain": [
       "float"
      ]
     },
     "execution_count": 15,
     "metadata": {},
     "output_type": "execute_result"
    }
   ],
   "source": [
    "# Challenge 7 \n",
    "# What is the data type of the result of: 16 / 4?\n",
    "#\n",
    "type(16/4)"
   ]
  },
  {
   "cell_type": "code",
   "execution_count": 16,
   "metadata": {
    "id": "_MC1ALIKpnyA"
   },
   "outputs": [
    {
     "data": {
      "text/plain": [
       "int"
      ]
     },
     "execution_count": 16,
     "metadata": {},
     "output_type": "execute_result"
    }
   ],
   "source": [
    "# Challenge 8 \n",
    "# What is the type of the result of: 6 // 2? (Note the double slash //.)\n",
    "#\n",
    "type(6 // 2)"
   ]
  },
  {
   "cell_type": "code",
   "execution_count": 17,
   "metadata": {
    "id": "dDF33m3swR-Z"
   },
   "outputs": [
    {
     "data": {
      "text/plain": [
       "int"
      ]
     },
     "execution_count": 17,
     "metadata": {},
     "output_type": "execute_result"
    }
   ],
   "source": [
    "# Challenge 9\n",
    "# What do you think is the output of type(a)? Run this cell and check\n",
    "# \n",
    "a = \"Learning Data Science is Easy\" \n",
    "a = 3 \n",
    "type(a)"
   ]
  },
  {
   "cell_type": "code",
   "execution_count": 18,
   "metadata": {
    "id": "2GaZ0Eggw7Iu"
   },
   "outputs": [
    {
     "data": {
      "text/plain": [
       "True"
      ]
     },
     "execution_count": 18,
     "metadata": {},
     "output_type": "execute_result"
    }
   ],
   "source": [
    "# Challenge 10\n",
    "# What do you think is the output of this cell? \n",
    "# Think about it then run it.\n",
    "#\n",
    "type(3.2) == float "
   ]
  },
  {
   "cell_type": "markdown",
   "metadata": {
    "id": "-BkSbASJUdKQ"
   },
   "source": [
    "## 1.3  Integers"
   ]
  },
  {
   "cell_type": "markdown",
   "metadata": {
    "id": "JyxHhUBWUrbg"
   },
   "source": [
    " Integers can be negative or positive numbers:"
   ]
  },
  {
   "cell_type": "code",
   "execution_count": 19,
   "metadata": {
    "id": "BMEZZkF-Gv4s"
   },
   "outputs": [
    {
     "data": {
      "text/plain": [
       "int"
      ]
     },
     "execution_count": 19,
     "metadata": {},
     "output_type": "execute_result"
    }
   ],
   "source": [
    "# Example 1\n",
    "# Again, we can verify whether this is the case by using the type() function\n",
    "#\n",
    "type(-300)"
   ]
  },
  {
   "cell_type": "markdown",
   "metadata": {
    "id": "Z6xx7moLqa2B"
   },
   "source": [
    "### <font color = \"green\">1.3 Challenges</font>"
   ]
  },
  {
   "cell_type": "code",
   "execution_count": 20,
   "metadata": {
    "id": "dcOMS1Ywn2MG"
   },
   "outputs": [
    {
     "data": {
      "text/plain": [
       "int"
      ]
     },
     "execution_count": 20,
     "metadata": {},
     "output_type": "execute_result"
    }
   ],
   "source": [
    "# Challenge 1\n",
    "# What happens when we verify a positive number i.e 43\n",
    "#\n",
    "type(43)"
   ]
  },
  {
   "cell_type": "code",
   "execution_count": 21,
   "metadata": {
    "id": "H0Ws1Ez1HqoT"
   },
   "outputs": [
    {
     "data": {
      "text/plain": [
       "int"
      ]
     },
     "execution_count": 21,
     "metadata": {},
     "output_type": "execute_result"
    }
   ],
   "source": [
    "# Challenge 2\n",
    "# Let's verify zero below \n",
    "# \n",
    "type(0)"
   ]
  },
  {
   "cell_type": "markdown",
   "metadata": {
    "id": "a_8-Y8pFUfZ4"
   },
   "source": [
    "## 1.4 Floats"
   ]
  },
  {
   "cell_type": "markdown",
   "metadata": {
    "id": "KK5QqqUFIorK"
   },
   "source": [
    "Floats represent real numbers; they also include \"numbers with decimals\". We can now test some examples with the type() function"
   ]
  },
  {
   "cell_type": "code",
   "execution_count": 22,
   "metadata": {
    "id": "qLrhOz6eIpZ7"
   },
   "outputs": [
    {
     "data": {
      "text/plain": [
       "float"
      ]
     },
     "execution_count": 22,
     "metadata": {},
     "output_type": "execute_result"
    }
   ],
   "source": [
    "# Example 1\n",
    "# Let's verify 1.0\n",
    "# \n",
    "type(1.0)"
   ]
  },
  {
   "cell_type": "markdown",
   "metadata": {
    "id": "Uc1Dx2gDqlQb"
   },
   "source": [
    "###<font color=\"green\"> 1.4 Challenges</font>"
   ]
  },
  {
   "cell_type": "code",
   "execution_count": 23,
   "metadata": {
    "id": "AkXuR5UXoa4u"
   },
   "outputs": [
    {
     "data": {
      "text/plain": [
       "float"
      ]
     },
     "execution_count": 23,
     "metadata": {},
     "output_type": "execute_result"
    }
   ],
   "source": [
    "# Challenge 1 \n",
    "# Let's now verify 0.7\n",
    "#\n",
    "type(0.7)"
   ]
  },
  {
   "cell_type": "code",
   "execution_count": 24,
   "metadata": {
    "id": "W-dT0-3WWx7z"
   },
   "outputs": [
    {
     "data": {
      "text/plain": [
       "float"
      ]
     },
     "execution_count": 24,
     "metadata": {},
     "output_type": "execute_result"
    }
   ],
   "source": [
    "# Challenge 2\n",
    "# Verifying the type of 0.53\n",
    "# \n",
    "type(0.53)"
   ]
  },
  {
   "cell_type": "markdown",
   "metadata": {
    "id": "zH4fP7JMUqPG"
   },
   "source": [
    "## 1.5 Boolean"
   ]
  },
  {
   "cell_type": "markdown",
   "metadata": {
    "id": "Bfvyjf_YmT-w"
   },
   "source": [
    "Boolean is another important type in Python. An object of type Boolean can take on one of two values: True or False:\n",
    "\n"
   ]
  },
  {
   "cell_type": "code",
   "execution_count": 25,
   "metadata": {
    "id": "pLiD-enCmSyO"
   },
   "outputs": [
    {
     "data": {
      "text/plain": [
       "True"
      ]
     },
     "execution_count": 25,
     "metadata": {},
     "output_type": "execute_result"
    }
   ],
   "source": [
    "# Example 1\n",
    "# Let's run this cell and see what happens\n",
    "#\n",
    "True"
   ]
  },
  {
   "cell_type": "code",
   "execution_count": 26,
   "metadata": {
    "id": "irtYN0ZZmv5Z"
   },
   "outputs": [
    {
     "data": {
      "text/plain": [
       "False"
      ]
     },
     "execution_count": 26,
     "metadata": {},
     "output_type": "execute_result"
    }
   ],
   "source": [
    "# Example 2\n",
    "# Let's also run this cell and see what happens\n",
    "#\n",
    "False"
   ]
  },
  {
   "cell_type": "markdown",
   "metadata": {
    "id": "u3G52jpj2veu"
   },
   "source": [
    "### <font color=\"green\">1.5 Challenges</font>"
   ]
  },
  {
   "cell_type": "code",
   "execution_count": 28,
   "metadata": {
    "id": "graRe9NCmioG"
   },
   "outputs": [
    {
     "data": {
      "text/plain": [
       "str"
      ]
     },
     "execution_count": 28,
     "metadata": {},
     "output_type": "execute_result"
    }
   ],
   "source": [
    "# Challenge 1 \n",
    "# What happens when we run 'true' in this cell\n",
    "#\n",
    "type('true')"
   ]
  },
  {
   "cell_type": "code",
   "execution_count": 29,
   "metadata": {
    "id": "MuyXiaUPmz9U"
   },
   "outputs": [
    {
     "data": {
      "text/plain": [
       "str"
      ]
     },
     "execution_count": 29,
     "metadata": {},
     "output_type": "execute_result"
    }
   ],
   "source": [
    "# Challenge 2\n",
    "# What about what happens when we run 'false' in this cell\n",
    "#\n",
    "type('false')"
   ]
  },
  {
   "cell_type": "code",
   "execution_count": 30,
   "metadata": {
    "id": "10qmsXWgm5Hk"
   },
   "outputs": [
    {
     "data": {
      "text/plain": [
       "bool"
      ]
     },
     "execution_count": 30,
     "metadata": {},
     "output_type": "execute_result"
    }
   ],
   "source": [
    "# Challenge 3\n",
    "# Let's also find out type of False in this cell\n",
    "#\n",
    "type(False)"
   ]
  },
  {
   "cell_type": "markdown",
   "metadata": {
    "id": "A5_RAp55UkF6"
   },
   "source": [
    "## 1.6 Conversion of Types"
   ]
  },
  {
   "cell_type": "markdown",
   "metadata": {
    "id": "Ajd9s536Ul66"
   },
   "source": [
    "We can change the type of the object in Python; this is called typecasting. For example, we can convert an integer into a float (e.g. 2 to 2.0)."
   ]
  },
  {
   "cell_type": "code",
   "execution_count": 31,
   "metadata": {
    "id": "yJCPR5BEXp3G"
   },
   "outputs": [
    {
     "data": {
      "text/plain": [
       "int"
      ]
     },
     "execution_count": 31,
     "metadata": {},
     "output_type": "execute_result"
    }
   ],
   "source": [
    "# Example 1 \n",
    "# Let's first verify that this is an integer by running this cell. \n",
    "#\n",
    "type(2) "
   ]
  },
  {
   "cell_type": "markdown",
   "metadata": {
    "id": "s547kw_RlMAo"
   },
   "source": [
    "### 1.6a. Converting integers to floats\n"
   ]
  },
  {
   "cell_type": "code",
   "execution_count": 32,
   "metadata": {
    "id": "4mP_uTVYkoKn"
   },
   "outputs": [
    {
     "data": {
      "text/plain": [
       "float"
      ]
     },
     "execution_count": 32,
     "metadata": {},
     "output_type": "execute_result"
    }
   ],
   "source": [
    "# Example 1\n",
    "# Let's now convert integer 2 to a float and check its type\n",
    "#\n",
    "type(float(2)) "
   ]
  },
  {
   "cell_type": "markdown",
   "metadata": {
    "id": "YWhO9m4mlAvg"
   },
   "source": [
    "When we convert an integer into a float, we don't really change the value (i.e., the significand) of the number. However, if we cast a float into an integer, we could potentially lose some information. For example, if we cast the float 1.1 to integer we will get 1 and lose the decimal information (i.e., 0.1):"
   ]
  },
  {
   "cell_type": "code",
   "execution_count": 34,
   "metadata": {
    "id": "ghNEvJErk4Vu"
   },
   "outputs": [
    {
     "data": {
      "text/plain": [
       "1"
      ]
     },
     "execution_count": 34,
     "metadata": {},
     "output_type": "execute_result"
    }
   ],
   "source": [
    "# Example 2\n",
    "# Casting 1.1 to integer will result in loss of information\n",
    "#\n",
    "int(1.9) "
   ]
  },
  {
   "cell_type": "markdown",
   "metadata": {
    "id": "lgNykfkVlPAq"
   },
   "source": [
    "### 1.6b. Converting from strings to integers or floats\n"
   ]
  },
  {
   "cell_type": "markdown",
   "metadata": {
    "id": "rkSTFCOelV-y"
   },
   "source": [
    "Sometimes, we can have a string that contains a number within it. If this is the case, we can cast that string that represents a number into an integer using int():\n",
    "\n"
   ]
  },
  {
   "cell_type": "code",
   "execution_count": 35,
   "metadata": {
    "id": "qK1OrMJYlSwk"
   },
   "outputs": [
    {
     "data": {
      "text/plain": [
       "1"
      ]
     },
     "execution_count": 35,
     "metadata": {},
     "output_type": "execute_result"
    }
   ],
   "source": [
    "# Example 1\n",
    "# Let's convert a string into an integer\n",
    "#\n",
    "int('1')"
   ]
  },
  {
   "cell_type": "code",
   "execution_count": 37,
   "metadata": {
    "id": "9ixyl-vAljSG"
   },
   "outputs": [],
   "source": [
    "# Example 2\n",
    "# But if we try to do so with a string that is not a perfect match for a number, we will get an error. \n",
    "# int('1 or 2 people')"
   ]
  },
  {
   "cell_type": "code",
   "execution_count": 38,
   "metadata": {
    "id": "1hR-LBq-lvCw"
   },
   "outputs": [
    {
     "data": {
      "text/plain": [
       "1.2"
      ]
     },
     "execution_count": 38,
     "metadata": {},
     "output_type": "execute_result"
    }
   ],
   "source": [
    "# Example 3\n",
    "# We can also convert strings containing floating point numbers into float objects:\n",
    "#\n",
    "float('1.2') "
   ]
  },
  {
   "cell_type": "markdown",
   "metadata": {
    "id": "-HTYwkHal6e7"
   },
   "source": [
    "### 1.6c. Converting numbers to strings\n"
   ]
  },
  {
   "cell_type": "markdown",
   "metadata": {
    "id": "gLlTlzYml8Fu"
   },
   "source": [
    "If we can convert strings to numbers, it is only natural to assume that we can convert numbers to strings, right?\n",
    "\n"
   ]
  },
  {
   "cell_type": "code",
   "execution_count": 39,
   "metadata": {
    "id": "XjEcrrz-mByz"
   },
   "outputs": [
    {
     "data": {
      "text/plain": [
       "'1'"
      ]
     },
     "execution_count": 39,
     "metadata": {},
     "output_type": "execute_result"
    }
   ],
   "source": [
    "# Example 1\n",
    "# Let's Convert an integer to a string\n",
    "#\n",
    "str(1)"
   ]
  },
  {
   "cell_type": "markdown",
   "metadata": {
    "id": "KyVOjrcMr4wI"
   },
   "source": [
    "#### <font color=\"green\">1.6c Challenges</font>"
   ]
  },
  {
   "cell_type": "code",
   "execution_count": 40,
   "metadata": {
    "id": "Rk4YzQRGmH87"
   },
   "outputs": [
    {
     "data": {
      "text/plain": [
       "'1.2'"
      ]
     },
     "execution_count": 40,
     "metadata": {},
     "output_type": "execute_result"
    }
   ],
   "source": [
    "# Challenge 1\n",
    "# And there is no reason why we shouldn't be able to make floats into strings as well:\n",
    "# Converting a float 1.2 to a string\n",
    "\n",
    "str(1.2)"
   ]
  },
  {
   "cell_type": "code",
   "execution_count": 41,
   "metadata": {
    "id": "fnw2YsM8vswc"
   },
   "outputs": [
    {
     "data": {
      "text/plain": [
       "'1.5'"
      ]
     },
     "execution_count": 41,
     "metadata": {},
     "output_type": "execute_result"
    }
   ],
   "source": [
    "# Challenge 2\n",
    "# How do you convert a digit 6/4 into a string?\n",
    "# \n",
    "str(6/4)"
   ]
  },
  {
   "cell_type": "markdown",
   "metadata": {
    "id": "eib75N_EnVqp"
   },
   "source": [
    "### 1.6d. Boolean Casting\n",
    "We can cast boolean objects to other data types. If we cast a boolean with a value of True to an integer or float we will get a one. If we cast a boolean with a value of False to an integer or float we will get a zero. Similarly, if we cast a 1 to a Boolean, you get a True. And if we cast a 0 to a Boolean we will get a False. Let's give it a try:\n",
    "\n"
   ]
  },
  {
   "cell_type": "code",
   "execution_count": 42,
   "metadata": {
    "id": "ggrd56z2rd5u"
   },
   "outputs": [
    {
     "data": {
      "text/plain": [
       "True"
      ]
     },
     "execution_count": 42,
     "metadata": {},
     "output_type": "execute_result"
    }
   ],
   "source": [
    "# Example 1 \n",
    "# Let's cast 1 to a Boolean \n",
    "bool(1)"
   ]
  },
  {
   "cell_type": "markdown",
   "metadata": {
    "id": "1x6Hvs-jrru7"
   },
   "source": [
    "#### <font color=\"green\">1.6d Challenges</font>"
   ]
  },
  {
   "cell_type": "code",
   "execution_count": 43,
   "metadata": {
    "id": "JjfxTMb1n_9z"
   },
   "outputs": [
    {
     "data": {
      "text/plain": [
       "1"
      ]
     },
     "execution_count": 43,
     "metadata": {},
     "output_type": "execute_result"
    }
   ],
   "source": [
    "# Challenge 1\n",
    "# Let's convert the value of True to an integer\n",
    "# \n",
    "int(True)"
   ]
  },
  {
   "cell_type": "code",
   "execution_count": 44,
   "metadata": {
    "id": "1x5bcRVfoNHW"
   },
   "outputs": [
    {
     "data": {
      "text/plain": [
       "False"
      ]
     },
     "execution_count": 44,
     "metadata": {},
     "output_type": "execute_result"
    }
   ],
   "source": [
    "# Challenge 2\n",
    "# What happens when we cast a 0 to a Boolean?\n",
    "# \n",
    "bool(0)"
   ]
  },
  {
   "cell_type": "code",
   "execution_count": 46,
   "metadata": {
    "id": "VrCxNoqXo03X"
   },
   "outputs": [
    {
     "data": {
      "text/plain": [
       "1"
      ]
     },
     "execution_count": 46,
     "metadata": {},
     "output_type": "execute_result"
    }
   ],
   "source": [
    "# Challenge 3 \n",
    "# Let's cast a boolean with a value of True to an integer\n",
    "# \n",
    "int(bool(True))"
   ]
  },
  {
   "cell_type": "code",
   "execution_count": null,
   "metadata": {},
   "outputs": [],
   "source": []
  }
 ],
 "metadata": {
  "colab": {
   "collapsed_sections": [
    "Fti179OmKM7c",
    "UxdDFPQKz3NS",
    "-BkSbASJUdKQ",
    "a_8-Y8pFUfZ4",
    "zH4fP7JMUqPG",
    "A5_RAp55UkF6",
    "s547kw_RlMAo",
    "lgNykfkVlPAq",
    "-HTYwkHal6e7",
    "KyVOjrcMr4wI",
    "eib75N_EnVqp",
    "1x6Hvs-jrru7"
   ],
   "name": "Python Programming: Data Types",
   "provenance": [],
   "toc_visible": true
  },
  "kernelspec": {
   "display_name": "Python 3",
   "language": "python",
   "name": "python3"
  },
  "language_info": {
   "codemirror_mode": {
    "name": "ipython",
    "version": 3
   },
   "file_extension": ".py",
   "mimetype": "text/x-python",
   "name": "python",
   "nbconvert_exporter": "python",
   "pygments_lexer": "ipython3",
   "version": "3.8.8"
  }
 },
 "nbformat": 4,
 "nbformat_minor": 1
}
