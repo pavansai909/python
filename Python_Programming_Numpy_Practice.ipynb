{
  "cells": [
    {
      "cell_type": "markdown",
      "metadata": {
        "id": "lLLVoxQQDrNO"
      },
      "source": [
        "<font color=\"green\">*To start working on this notebook, or any other notebook that we will use in the Moringa Data Science Course, we will need to save our own copy of it. We can do this by clicking File > Save a Copy in Drive. We will then be able to make edits to our own copy of this notebook.*</font>"
      ]
    },
    {
      "cell_type": "markdown",
      "metadata": {
        "id": "-7J_lE4-YPLq"
      },
      "source": [
        "### <font color=\"green\">1.1 Challenge: Importing our Library</font>"
      ]
    },
    {
      "cell_type": "code",
      "execution_count": 1,
      "metadata": {
        "id": "9l8Juvt-bRgz"
      },
      "outputs": [],
      "source": [
        "# Let's import numpy\n",
        "#\n",
        "import numpy as np"
      ]
    },
    {
      "cell_type": "markdown",
      "metadata": {
        "id": "cnaEkfAtY5n1"
      },
      "source": [
        "### <font color=\"green\">1.2 Challenge: Creating an Array</font>"
      ]
    },
    {
      "cell_type": "code",
      "execution_count": 2,
      "metadata": {
        "id": "43Q-yy08bG0B"
      },
      "outputs": [
        {
          "name": "stdout",
          "output_type": "stream",
          "text": [
            "[0. 0. 0. 0. 0.]\n"
          ]
        }
      ],
      "source": [
        "# Challenge 1 \n",
        "# Create an array of five zeros\n",
        "#\n",
        "zeroarr = np.zeros(5)\n",
        "print(zeroarr)"
      ]
    },
    {
      "cell_type": "code",
      "execution_count": 3,
      "metadata": {
        "id": "Y-ZMS064b8Ck"
      },
      "outputs": [
        {
          "name": "stdout",
          "output_type": "stream",
          "text": [
            "[1. 1. 1. 1. 1. 1.]\n"
          ]
        }
      ],
      "source": [
        "# Challenge 2\n",
        "# Create an array of six ones \n",
        "#\n",
        "ones = np.ones(6)\n",
        "print(ones)"
      ]
    },
    {
      "cell_type": "code",
      "execution_count": 8,
      "metadata": {
        "id": "FOaIYiBGb74H"
      },
      "outputs": [
        {
          "name": "stdout",
          "output_type": "stream",
          "text": [
            "[10 11 12 13 14 15 16 17 18 19 20 21 22 23 24 25 26 27 28 29 30 31 32 33\n",
            " 34 35 36 37 38 39 40 41 42 43 44 45 46 47 48 49 50]\n"
          ]
        }
      ],
      "source": [
        "# Challenge 3\n",
        "# Create an array of the integers from 10 to 50\n",
        "#\n",
        "arr = np.arange(10,51)\n",
        "print(arr)"
      ]
    },
    {
      "cell_type": "code",
      "execution_count": 15,
      "metadata": {
        "id": "FmmY6xLSb7t8"
      },
      "outputs": [
        {
          "name": "stdout",
          "output_type": "stream",
          "text": [
            "[20 21 22 23 24 25 26 27 28 29 30 31 32 33 34 35 36 37 38 39 40 41 42 43\n",
            " 44 45 46 47 48 49 50 51 52 53 54 55 56 57 58 59]\n",
            "[False, True, False, True, False, True, False, True, False, True, False, True, False, True, False, True, False, True, False, True, False, True, False, True, False, True, False, True, False, True, False, True, False, True, False, True, False, True, False, True]\n",
            "[21 23 25 27 29 31 33 35 37 39 41 43 45 47 49 51 53 55 57 59]\n"
          ]
        }
      ],
      "source": [
        "# Challenge 4\n",
        "# Create an array of odd integers from 20 to 60\n",
        "#\n",
        "arr3 = np.arange(20, 60)\n",
        "print(arr3)\n",
        "i = []\n",
        "for element in arr3:\n",
        "    if element %2 != 0:\n",
        "        i.append(True)\n",
        "    else:\n",
        "        i.append(False)\n",
        "print(i)\n",
        "print(arr3[i])\n"
      ]
    },
    {
      "cell_type": "code",
      "execution_count": 17,
      "metadata": {
        "id": "ht0VpxEXb7kG"
      },
      "outputs": [
        {
          "name": "stdout",
          "output_type": "stream",
          "text": [
            "[0.36496059 0.59871185 0.95288372 0.09476036 0.77069998 0.69761519\n",
            " 0.73543504 0.90346118 0.47449867 0.09909178 0.06606949 0.84746466\n",
            " 0.42684157 0.53938472 0.86009377 0.88363669 0.10428199 0.29052859\n",
            " 0.59923789 0.73802626 0.24614242 0.30179778 0.01437928 0.33807023\n",
            " 0.48362636]\n"
          ]
        }
      ],
      "source": [
        "# Challenge 5\n",
        "# Create an array of 25 random numbers \n",
        "#\n",
        "arr = np.random.rand(25)\n",
        "print(arr)"
      ]
    },
    {
      "cell_type": "markdown",
      "metadata": {
        "id": "ICXG_crZZAw8"
      },
      "source": [
        "### <font color=\"green\">1.3 Working with Matrices</font>"
      ]
    },
    {
      "cell_type": "code",
      "execution_count": 45,
      "metadata": {
        "id": "CnM3qTE1b7YF"
      },
      "outputs": [
        {
          "name": "stdout",
          "output_type": "stream",
          "text": [
            "[[ 1  2  3  4]\n",
            " [ 5  6  7  8]\n",
            " [ 9 10 11 12]\n",
            " [13 14 15 16]\n",
            " [17 18 19 20]]\n"
          ]
        }
      ],
      "source": [
        "# Challenge 6\n",
        "# Write code to replicate the expected matrix output \n",
        "# of the cell shown below\n",
        "# \n",
        "arr = np.arange(1,21).reshape(5,4)\n",
        "print(arr)"
      ]
    },
    {
      "cell_type": "code",
      "execution_count": 46,
      "metadata": {
        "colab": {
          "base_uri": "https://localhost:8080/",
          "height": 102
        },
        "id": "K5-uPXdEfgjU",
        "outputId": "3d6b0e1d-8e5b-4913-c391-443af2ed2688"
      },
      "outputs": [],
      "source": [
        "# Challenge 6: Expected Output\n",
        "# [Do not run this cell]\n",
        "# The output of this cell will disappear when run"
      ]
    },
    {
      "cell_type": "code",
      "execution_count": 47,
      "metadata": {
        "id": "EH63OkyEb7NU"
      },
      "outputs": [
        {
          "name": "stdout",
          "output_type": "stream",
          "text": [
            "[[ 1  2  3  4]\n",
            " [ 5  6  7  8]\n",
            " [ 9 10 11 12]\n",
            " [13 14 15 16]\n",
            " [17 18 19 20]]\n",
            "[[14 15 16]\n",
            " [18 19 20]]\n",
            "[[ 1  2  3  4]\n",
            " [ 5  6  7  8]\n",
            " [ 9 10 11 12]\n",
            " [13 14 15 16]\n",
            " [17 18 19 20]]\n"
          ]
        }
      ],
      "source": [
        "# Challenge 7\n",
        "# Let's write code to replicate the expected matrix output \n",
        "# of the cell shown below\n",
        "# \n",
        "print(arr)\n",
        "rr = arr[3:,1:]\n",
        "print(rr)\n",
        "print(arr)"
      ]
    },
    {
      "cell_type": "code",
      "execution_count": null,
      "metadata": {
        "colab": {
          "base_uri": "https://localhost:8080/",
          "height": 51
        },
        "id": "avA-papFb7Fl",
        "outputId": "aa252745-ee8f-48db-a0ea-f4dad2484177"
      },
      "outputs": [
        {
          "name": "stdout",
          "output_type": "stream",
          "text": [
            "[[14 15 16]\n",
            " [18 19 20]]\n"
          ]
        }
      ],
      "source": [
        "# Challenge 7: Expected Output\n",
        "# [Do not run this cell]\n",
        "# Running this cell will cause the output below to disappear"
      ]
    },
    {
      "cell_type": "code",
      "execution_count": 34,
      "metadata": {
        "id": "nLV_X3kQb68p"
      },
      "outputs": [
        {
          "data": {
            "text/plain": [
              "20"
            ]
          },
          "execution_count": 34,
          "metadata": {},
          "output_type": "execute_result"
        }
      ],
      "source": [
        "# Challenge 8\n",
        "# Let's write code to replicate the expected matrix output \n",
        "# of the cell shown below\n",
        "# \n",
        "rr[1,2]\n"
      ]
    },
    {
      "cell_type": "code",
      "execution_count": null,
      "metadata": {
        "colab": {
          "base_uri": "https://localhost:8080/",
          "height": 34
        },
        "id": "DxEU0hOEb6y2",
        "outputId": "e206bcc9-90fe-4ff0-f412-60487537707f"
      },
      "outputs": [
        {
          "data": {
            "text/plain": [
              "20"
            ]
          },
          "execution_count": 13,
          "metadata": {
            "tags": []
          },
          "output_type": "execute_result"
        }
      ],
      "source": [
        "# Challenge 8: Expected Output\n",
        "# [Do not run this cell]\n",
        "# Running this cell will cause the output below to disappear"
      ]
    },
    {
      "cell_type": "code",
      "execution_count": null,
      "metadata": {},
      "outputs": [],
      "source": []
    },
    {
      "cell_type": "code",
      "execution_count": 49,
      "metadata": {
        "id": "Dau4PAJfb6oO"
      },
      "outputs": [
        {
          "name": "stdout",
          "output_type": "stream",
          "text": [
            "[[ 1  2  3  4]\n",
            " [ 5  6  7  8]\n",
            " [ 9 10 11 12]\n",
            " [13 14 15 16]\n",
            " [17 18 19 20]]\n",
            "[[13 14 15 16]\n",
            " [17 18 19 20]]\n"
          ]
        }
      ],
      "source": [
        "# Challenge 9\n",
        "# Let's write code to replicate the expected matrix output \n",
        "# of the cell shown below\n",
        "#\n",
        "# arr = np.arange(13,21).reshape(2,4)\n",
        "# print(arr)\n",
        "print(arr)\n",
        "r = arr[3:,:]\n",
        "print(r)\n",
        "\n"
      ]
    },
    {
      "cell_type": "code",
      "execution_count": null,
      "metadata": {
        "colab": {
          "base_uri": "https://localhost:8080/",
          "height": 51
        },
        "id": "Pgj7NWePb6fa",
        "outputId": "c4bc7e8c-bf79-4838-9df5-cf0ee199eec6"
      },
      "outputs": [
        {
          "name": "stdout",
          "output_type": "stream",
          "text": [
            "[[13 14 15 16]\n",
            " [17 18 19 20]]\n"
          ]
        }
      ],
      "source": [
        "# Challenge 9: Expected Output\n",
        "# [Do not run this cell]\n",
        "# Running this cell will cause the output below to disappear"
      ]
    },
    {
      "cell_type": "code",
      "execution_count": 52,
      "metadata": {
        "id": "jLp-pwUyb6R_"
      },
      "outputs": [
        {
          "name": "stdout",
          "output_type": "stream",
          "text": [
            "9.0\n"
          ]
        }
      ],
      "source": [
        "# Challenge 10\n",
        "# Let's find out the mean of first column values \n",
        "# in our matrix in challenge 6 above\n",
        "# \n",
        "column = arr[:,0]\n",
        "print(column.mean())\n"
      ]
    },
    {
      "cell_type": "code",
      "execution_count": 55,
      "metadata": {
        "id": "i5cFO78Jb6Ee"
      },
      "outputs": [
        {
          "name": "stdout",
          "output_type": "stream",
          "text": [
            "50\n"
          ]
        }
      ],
      "source": [
        "# Challenge 11\n",
        "# Let's find out the sum of second column values \n",
        "# in our matrix in challenge 6 above\n",
        "#\n",
        "secondcol = arr[0:,1]\n",
        "print(secondcol.sum())"
      ]
    },
    {
      "cell_type": "code",
      "execution_count": 59,
      "metadata": {
        "id": "kjS2h2jSj7_v"
      },
      "outputs": [
        {
          "name": "stdout",
          "output_type": "stream",
          "text": [
            "210\n",
            "[[ 1  2  3  4]\n",
            " [ 5  6  7  8]\n",
            " [ 9 10 11 12]\n",
            " [13 14 15 16]\n",
            " [17 18 19 20]]\n"
          ]
        }
      ],
      "source": [
        "# Challenge 12\n",
        "# How do we find out the sum of all columns of the challenge 6 output\n",
        "# The resulting array should contain the sums of each column\n",
        "# \n",
        "sumall = np.sum(arr)\n",
        "print(sumall)\n",
        "\n",
        "print(arr)"
      ]
    },
    {
      "cell_type": "code",
      "execution_count": 60,
      "metadata": {},
      "outputs": [
        {
          "name": "stdout",
          "output_type": "stream",
          "text": [
            "[1 2 3 4]\n",
            "[5 6 7 8]\n",
            "[ 9 10 11 12]\n",
            "[13 14 15 16]\n",
            "[17 18 19 20]\n"
          ]
        }
      ],
      "source": [
        "for x in arr:\n",
        "    print(x)"
      ]
    },
    {
      "cell_type": "code",
      "execution_count": 61,
      "metadata": {},
      "outputs": [
        {
          "name": "stdout",
          "output_type": "stream",
          "text": [
            "5\n"
          ]
        }
      ],
      "source": [
        "length = len(arr)\n",
        "print(length)"
      ]
    },
    {
      "cell_type": "code",
      "execution_count": 67,
      "metadata": {},
      "outputs": [
        {
          "ename": "IndexError",
          "evalue": "index 5 is out of bounds for axis 0 with size 4",
          "output_type": "error",
          "traceback": [
            "\u001b[1;31m---------------------------------------------------------------------------\u001b[0m",
            "\u001b[1;31mIndexError\u001b[0m                                Traceback (most recent call last)",
            "\u001b[1;32mC:\\Users\\MARCHE~1\\AppData\\Local\\Temp/ipykernel_9300/3448328921.py\u001b[0m in \u001b[0;36m<module>\u001b[1;34m\u001b[0m\n\u001b[0;32m      1\u001b[0m \u001b[1;32mfor\u001b[0m \u001b[0mx\u001b[0m \u001b[1;32min\u001b[0m \u001b[0marr\u001b[0m\u001b[1;33m:\u001b[0m\u001b[1;33m\u001b[0m\u001b[1;33m\u001b[0m\u001b[0m\n\u001b[1;32m----> 2\u001b[1;33m     \u001b[0mprint\u001b[0m\u001b[1;33m(\u001b[0m\u001b[0mx\u001b[0m\u001b[1;33m[\u001b[0m\u001b[0mlength\u001b[0m\u001b[1;33m]\u001b[0m\u001b[1;33m)\u001b[0m\u001b[1;33m\u001b[0m\u001b[1;33m\u001b[0m\u001b[0m\n\u001b[0m",
            "\u001b[1;31mIndexError\u001b[0m: index 5 is out of bounds for axis 0 with size 4"
          ]
        }
      ],
      "source": [
        "for x in arr:\n",
        "    print(x[length])"
      ]
    },
    {
      "cell_type": "code",
      "execution_count": null,
      "metadata": {},
      "outputs": [],
      "source": []
    }
  ],
  "metadata": {
    "colab": {
      "collapsed_sections": [
        "-7J_lE4-YPLq",
        "cnaEkfAtY5n1",
        "ICXG_crZZAw8"
      ],
      "name": "Python Programming - Numpy Practice",
      "provenance": [],
      "toc_visible": true
    },
    "interpreter": {
      "hash": "63fd5069d213b44bf678585dea6b12cceca9941eaf7f819626cde1f2670de90d"
    },
    "kernelspec": {
      "display_name": "Python 3.9.2 64-bit",
      "name": "python3"
    },
    "language_info": {
      "codemirror_mode": {
        "name": "ipython",
        "version": 3
      },
      "file_extension": ".py",
      "mimetype": "text/x-python",
      "name": "python",
      "nbconvert_exporter": "python",
      "pygments_lexer": "ipython3",
      "version": "3.9.2"
    }
  },
  "nbformat": 4,
  "nbformat_minor": 0
}
